{
 "cells": [
  {
   "cell_type": "markdown",
   "metadata": {},
   "source": [
    "## Простейшее тестирование кода\n",
    "* pip install pytest\n",
    "* pip install ipytest"
   ]
  },
  {
   "cell_type": "code",
   "execution_count": 3,
   "metadata": {},
   "outputs": [],
   "source": [
    "import pytest\n",
    "import ipytest\n",
    "\n",
    "ipytest.autoconfig()"
   ]
  },
  {
   "cell_type": "code",
   "execution_count": 7,
   "metadata": {},
   "outputs": [],
   "source": [
    "def add(a, b):\n",
    "    return a + b + 1\n"
   ]
  },
  {
   "cell_type": "code",
   "execution_count": 10,
   "metadata": {},
   "outputs": [],
   "source": [
    "@pytest.mark.parametrize(\"x_arg,y_arg,expectation\", [(1,2,3), (3,4,7), (5,6,11)])\n",
    "def test_add(x_arg, y_arg,expectation):\n",
    "    assert add(x_arg, y_arg) == expectation, f\"sum {x_arg} + {y_arg} is not equal to {expectation}\""
   ]
  },
  {
   "cell_type": "code",
   "execution_count": 11,
   "metadata": {},
   "outputs": [
    {
     "name": "stdout",
     "output_type": "stream",
     "text": [
      "\u001b[31mF\u001b[0m\u001b[31mF\u001b[0m\u001b[31mF\u001b[0m\u001b[31m                                                                                          [100%]\u001b[0m\n",
      "============================================ FAILURES =============================================\n",
      "\u001b[31m\u001b[1m_________________________________________ test_add[1-2-3] _________________________________________\u001b[0m\n",
      "\n",
      "x_arg = 1, y_arg = 2, expectation = 3\n",
      "\n",
      "    \u001b[37m@pytest\u001b[39;49;00m.mark.parametrize(\u001b[33m\"\u001b[39;49;00m\u001b[33mx_arg,y_arg,expectation\u001b[39;49;00m\u001b[33m\"\u001b[39;49;00m, [(\u001b[94m1\u001b[39;49;00m,\u001b[94m2\u001b[39;49;00m,\u001b[94m3\u001b[39;49;00m), (\u001b[94m3\u001b[39;49;00m,\u001b[94m4\u001b[39;49;00m,\u001b[94m7\u001b[39;49;00m), (\u001b[94m5\u001b[39;49;00m,\u001b[94m6\u001b[39;49;00m,\u001b[94m11\u001b[39;49;00m)])\n",
      "    \u001b[94mdef\u001b[39;49;00m \u001b[92mtest_add\u001b[39;49;00m(x_arg, y_arg,expectation):\n",
      ">       \u001b[94massert\u001b[39;49;00m add(x_arg, y_arg) == expectation, \u001b[33mf\u001b[39;49;00m\u001b[33m\"\u001b[39;49;00m\u001b[33msum \u001b[39;49;00m\u001b[33m{\u001b[39;49;00mx_arg\u001b[33m}\u001b[39;49;00m\u001b[33m + \u001b[39;49;00m\u001b[33m{\u001b[39;49;00my_arg\u001b[33m}\u001b[39;49;00m\u001b[33m is not equal to \u001b[39;49;00m\u001b[33m{\u001b[39;49;00mexpectation\u001b[33m}\u001b[39;49;00m\u001b[33m\"\u001b[39;49;00m\n",
      "\u001b[1m\u001b[31mE       AssertionError: sum 1 + 2 is not equal to 3\u001b[0m\n",
      "\u001b[1m\u001b[31mE       assert 4 == 3\u001b[0m\n",
      "\u001b[1m\u001b[31mE        +  where 4 = add(1, 2)\u001b[0m\n",
      "\n",
      "\u001b[1m\u001b[31m<ipython-input-10-9f54ca21edae>\u001b[0m:3: AssertionError\n",
      "\u001b[31m\u001b[1m_________________________________________ test_add[3-4-7] _________________________________________\u001b[0m\n",
      "\n",
      "x_arg = 3, y_arg = 4, expectation = 7\n",
      "\n",
      "    \u001b[37m@pytest\u001b[39;49;00m.mark.parametrize(\u001b[33m\"\u001b[39;49;00m\u001b[33mx_arg,y_arg,expectation\u001b[39;49;00m\u001b[33m\"\u001b[39;49;00m, [(\u001b[94m1\u001b[39;49;00m,\u001b[94m2\u001b[39;49;00m,\u001b[94m3\u001b[39;49;00m), (\u001b[94m3\u001b[39;49;00m,\u001b[94m4\u001b[39;49;00m,\u001b[94m7\u001b[39;49;00m), (\u001b[94m5\u001b[39;49;00m,\u001b[94m6\u001b[39;49;00m,\u001b[94m11\u001b[39;49;00m)])\n",
      "    \u001b[94mdef\u001b[39;49;00m \u001b[92mtest_add\u001b[39;49;00m(x_arg, y_arg,expectation):\n",
      ">       \u001b[94massert\u001b[39;49;00m add(x_arg, y_arg) == expectation, \u001b[33mf\u001b[39;49;00m\u001b[33m\"\u001b[39;49;00m\u001b[33msum \u001b[39;49;00m\u001b[33m{\u001b[39;49;00mx_arg\u001b[33m}\u001b[39;49;00m\u001b[33m + \u001b[39;49;00m\u001b[33m{\u001b[39;49;00my_arg\u001b[33m}\u001b[39;49;00m\u001b[33m is not equal to \u001b[39;49;00m\u001b[33m{\u001b[39;49;00mexpectation\u001b[33m}\u001b[39;49;00m\u001b[33m\"\u001b[39;49;00m\n",
      "\u001b[1m\u001b[31mE       AssertionError: sum 3 + 4 is not equal to 7\u001b[0m\n",
      "\u001b[1m\u001b[31mE       assert 8 == 7\u001b[0m\n",
      "\u001b[1m\u001b[31mE        +  where 8 = add(3, 4)\u001b[0m\n",
      "\n",
      "\u001b[1m\u001b[31m<ipython-input-10-9f54ca21edae>\u001b[0m:3: AssertionError\n",
      "\u001b[31m\u001b[1m________________________________________ test_add[5-6-11] _________________________________________\u001b[0m\n",
      "\n",
      "x_arg = 5, y_arg = 6, expectation = 11\n",
      "\n",
      "    \u001b[37m@pytest\u001b[39;49;00m.mark.parametrize(\u001b[33m\"\u001b[39;49;00m\u001b[33mx_arg,y_arg,expectation\u001b[39;49;00m\u001b[33m\"\u001b[39;49;00m, [(\u001b[94m1\u001b[39;49;00m,\u001b[94m2\u001b[39;49;00m,\u001b[94m3\u001b[39;49;00m), (\u001b[94m3\u001b[39;49;00m,\u001b[94m4\u001b[39;49;00m,\u001b[94m7\u001b[39;49;00m), (\u001b[94m5\u001b[39;49;00m,\u001b[94m6\u001b[39;49;00m,\u001b[94m11\u001b[39;49;00m)])\n",
      "    \u001b[94mdef\u001b[39;49;00m \u001b[92mtest_add\u001b[39;49;00m(x_arg, y_arg,expectation):\n",
      ">       \u001b[94massert\u001b[39;49;00m add(x_arg, y_arg) == expectation, \u001b[33mf\u001b[39;49;00m\u001b[33m\"\u001b[39;49;00m\u001b[33msum \u001b[39;49;00m\u001b[33m{\u001b[39;49;00mx_arg\u001b[33m}\u001b[39;49;00m\u001b[33m + \u001b[39;49;00m\u001b[33m{\u001b[39;49;00my_arg\u001b[33m}\u001b[39;49;00m\u001b[33m is not equal to \u001b[39;49;00m\u001b[33m{\u001b[39;49;00mexpectation\u001b[33m}\u001b[39;49;00m\u001b[33m\"\u001b[39;49;00m\n",
      "\u001b[1m\u001b[31mE       AssertionError: sum 5 + 6 is not equal to 11\u001b[0m\n",
      "\u001b[1m\u001b[31mE       assert 12 == 11\u001b[0m\n",
      "\u001b[1m\u001b[31mE        +  where 12 = add(5, 6)\u001b[0m\n",
      "\n",
      "\u001b[1m\u001b[31m<ipython-input-10-9f54ca21edae>\u001b[0m:3: AssertionError\n",
      "\u001b[36m\u001b[1m===================================== short test summary info =====================================\u001b[0m\n",
      "\u001b[31mFAILED\u001b[0m t_28300e49ab61421087d96e634a5090a1.py::\u001b[1mtest_add[1-2-3]\u001b[0m - AssertionError: sum 1 + 2 is not equal to 3\n",
      "\u001b[31mFAILED\u001b[0m t_28300e49ab61421087d96e634a5090a1.py::\u001b[1mtest_add[3-4-7]\u001b[0m - AssertionError: sum 3 + 4 is not equal to 7\n",
      "\u001b[31mFAILED\u001b[0m t_28300e49ab61421087d96e634a5090a1.py::\u001b[1mtest_add[5-6-11]\u001b[0m - AssertionError: sum 5 + 6 is not equal to 11\n",
      "\u001b[31m\u001b[31m\u001b[1m3 failed\u001b[0m\u001b[31m in 0.05s\u001b[0m\u001b[0m\n"
     ]
    },
    {
     "data": {
      "text/plain": [
       "<ExitCode.TESTS_FAILED: 1>"
      ]
     },
     "execution_count": 11,
     "metadata": {},
     "output_type": "execute_result"
    }
   ],
   "source": [
    "ipytest.run()"
   ]
  },
  {
   "cell_type": "markdown",
   "metadata": {},
   "source": [
    "## Линтинг (вводный)\n",
    "* pip install pycodestyle pycodestyle_magic flake8"
   ]
  },
  {
   "cell_type": "code",
   "execution_count": 15,
   "metadata": {},
   "outputs": [],
   "source": [
    "%load_ext pycodestyle_magic"
   ]
  },
  {
   "cell_type": "code",
   "execution_count": 19,
   "metadata": {},
   "outputs": [
    {
     "name": "stderr",
     "output_type": "stream",
     "text": [
      "4:1: E122 4\n",
      "5:13: E117 over-indented\n",
      "5:19: E271 multiple spaces after keyword\n",
      "5:28: E222 multiple spaces after operator\n",
      "5:40: W291 trailing whitespace\n",
      "7:1: W391 blank line at end of file\n"
     ]
    }
   ],
   "source": [
    "%%pycodestyle\n",
    "def add(\n",
    "     a,\n",
    "b):\n",
    "            return      a +           b \n",
    "\n"
   ]
  },
  {
   "cell_type": "code",
   "execution_count": null,
   "metadata": {},
   "outputs": [],
   "source": []
  }
 ],
 "metadata": {
  "kernelspec": {
   "display_name": "Python 3",
   "language": "python",
   "name": "python3"
  },
  "language_info": {
   "codemirror_mode": {
    "name": "ipython",
    "version": 3
   },
   "file_extension": ".py",
   "mimetype": "text/x-python",
   "name": "python",
   "nbconvert_exporter": "python",
   "pygments_lexer": "ipython3",
   "version": "3.9.1"
  }
 },
 "nbformat": 4,
 "nbformat_minor": 4
}
