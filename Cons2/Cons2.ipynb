{
 "cells": [
  {
   "cell_type": "code",
   "execution_count": 5,
   "metadata": {},
   "outputs": [
    {
     "name": "stdout",
     "output_type": "stream",
     "text": [
      "[100, 200, 300]\n"
     ]
    }
   ],
   "source": [
    "# По задаче N\n",
    "\n",
    "nums = [100, 200, 300, 400, 500]\n",
    "#        0    1   2     3    4\n",
    "# С A-го по B-ый включительно! [1,2,3,4]\n",
    "print(nums[A-1:B]) #slice[start:stop] \n",
    "0 1 2 3"
   ]
  },
  {
   "cell_type": "code",
   "execution_count": null,
   "metadata": {},
   "outputs": [],
   "source": [
    "# Вложенность управляющих конструкций\n",
    "for i in range(1,10):\n",
    "    print(1)\n",
    "    print(2)\n",
    "    print(3)\n",
    "    if i % 2 == 0:\n",
    "        print(4)\n",
    "        print(5)\n",
    "        if i % 4 == 0:\n",
    "            print(6)\n",
    "            print(7)"
   ]
  },
  {
   "cell_type": "code",
   "execution_count": 6,
   "metadata": {},
   "outputs": [
    {
     "name": "stdout",
     "output_type": "stream",
     "text": [
      "4\n",
      "100\n",
      "200\n",
      "300\n",
      "400\n",
      "1\n",
      "3\n",
      "600\n"
     ]
    }
   ],
   "source": [
    "# Решение задачи N\n",
    "n = int (input())\n",
    "lst = list ()\n",
    "for i in range (n):\n",
    "    lst.append (int(input()))\n",
    "    \n",
    "a = int(input())\n",
    "b = int(input())\n",
    "\n",
    "count_lst = lst[a-1:b]\n",
    "\n",
    "print(sum(count_lst))"
   ]
  },
  {
   "cell_type": "code",
   "execution_count": null,
   "metadata": {},
   "outputs": [],
   "source": [
    "sample = \"ооорооо\"\n",
    "max_length = 0\n",
    "for i in range(len(sample)):\n",
    "    # На каждой итерации я получаю каждую букву слева направо\n",
    "    current_max = 0\n",
    "    for j in range(i+1, len(sample)):\n",
    "        if sample[j] == \"о\":\n",
    "            .......\n",
    "            current_max += 1\n",
    "    \n",
    "    if current_max > max_length:\n",
    "        max_length = current_max\n",
    "        \n",
    "\n",
    "        "
   ]
  },
  {
   "cell_type": "code",
   "execution_count": 9,
   "metadata": {},
   "outputs": [
    {
     "name": "stdout",
     "output_type": "stream",
     "text": [
      "оорооооооорооооороооро\n",
      "7\n"
     ]
    }
   ],
   "source": [
    "print(len(max(input().split(\"р\"))))"
   ]
  },
  {
   "cell_type": "code",
   "execution_count": null,
   "metadata": {},
   "outputs": [
    {
     "name": "stdout",
     "output_type": "stream",
     "text": [
      "1\n",
      "1\n",
      "Петров\n",
      "Петров\n"
     ]
    }
   ],
   "source": [
    "#Решение задачки B. Языки программирования. Часть 2.\n",
    "\n",
    "M = int(input ())\n",
    "N = int(input ())\n",
    "\n",
    "kuchka1 = set ()\n",
    "kuchka2 = set ()\n",
    "\n",
    "for i in range (M+N): \n",
    "    last_name_first = input()\n",
    "    if not (last_name_first) in kuchka1 and len (kuchka1) < M: \n",
    "        kuchka1.add (last_name_first)\n",
    "\n",
    "    else:\n",
    "        last_name_second =input()\n",
    "        kuchka2.add (last_name_second)\n",
    "    \n",
    "exclusive = kuchka2.symmetric_difference(kuchka1)\n",
    "\n",
    "print (len(exclusive))\n",
    "\n",
    "# 1-ый случай: На столе 2 бумажки (Петров, Петров) -> ответ должен быть 0\n",
    "# 2-ой случай: На столе 2 бумажки (Петров, Сидоров) -> ответ должен быть 2 "
   ]
  },
  {
   "cell_type": "code",
   "execution_count": null,
   "metadata": {},
   "outputs": [],
   "source": []
  }
 ],
 "metadata": {
  "kernelspec": {
   "display_name": "Python 3",
   "language": "python",
   "name": "python3"
  },
  "language_info": {
   "codemirror_mode": {
    "name": "ipython",
    "version": 3
   },
   "file_extension": ".py",
   "mimetype": "text/x-python",
   "name": "python",
   "nbconvert_exporter": "python",
   "pygments_lexer": "ipython3",
   "version": "3.9.1"
  }
 },
 "nbformat": 4,
 "nbformat_minor": 4
}
