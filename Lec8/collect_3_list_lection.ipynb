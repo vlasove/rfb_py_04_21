{
 "cells": [
  {
   "cell_type": "markdown",
   "metadata": {},
   "source": [
    "## Лекция 8. Коллекции. Списки\n",
    "\n",
    "**Список** (list) - упорядоченная (индексируемая) коллекция, способная хранить элементы любого типа."
   ]
  },
  {
   "cell_type": "code",
   "execution_count": 1,
   "metadata": {},
   "outputs": [
    {
     "name": "stdout",
     "output_type": "stream",
     "text": [
      "b_list origin: []\n",
      "a_list type : <class 'list'>\n",
      "b_list len : 0\n",
      "[10, 20, 30, 40, 50]\n",
      "[[10, 20, 30, 40, 50], 'ASDG', 'bob', 100500, {1, 2, 3}]\n"
     ]
    }
   ],
   "source": [
    "# Инициализация списка\n",
    "a_list = []\n",
    "b_list = list()\n",
    "\n",
    "print(\"b_list origin:\", b_list)\n",
    "print(\"a_list type :\", type(a_list))\n",
    "print(\"b_list len :\", len(b_list))\n",
    "\n",
    "numeric_list = [10, 20, 30, 40, 50]\n",
    "something_list = [numeric_list, \"ASDG\", \"bob\", 100500, set([1,2,3])]\n",
    "\n",
    "print(numeric_list)\n",
    "print(something_list)"
   ]
  },
  {
   "cell_type": "markdown",
   "metadata": {},
   "source": [
    "# Добавление элементов в списки"
   ]
  },
  {
   "cell_type": "code",
   "execution_count": 4,
   "metadata": {},
   "outputs": [
    {
     "name": "stdout",
     "output_type": "stream",
     "text": [
      "[10, 20, 30]\n",
      "[99, 10, 9999999, 20, 30]\n"
     ]
    }
   ],
   "source": [
    "# Наполенение списка\n",
    "numerics = []\n",
    "\n",
    "# Добавление в конец\n",
    "numerics.append(10)\n",
    "numerics.append(20)\n",
    "numerics.append(30)\n",
    "\n",
    "print(numerics)\n",
    "\n",
    "# Добавление в начало (или проивзольное место)\n",
    "numerics.insert(0, 99) #.insert(id, value)\n",
    "numerics.insert(2, 9999999)\n",
    "print(numerics)"
   ]
  },
  {
   "cell_type": "markdown",
   "metadata": {},
   "source": [
    "# Индексация и срезы"
   ]
  },
  {
   "cell_type": "code",
   "execution_count": 6,
   "metadata": {},
   "outputs": [
    {
     "name": "stdout",
     "output_type": "stream",
     "text": [
      "First elem: 10\n",
      "Second elem: 20\n",
      "Last elem: 50\n",
      "Id:0 Elem:10\n",
      "Id:1 Elem:20\n",
      "Id:2 Elem:30\n",
      "Id:3 Elem:40\n",
      "Id:4 Elem:50\n",
      "Slice: [20, 30, 40]\n",
      "Reversed: [50, 40, 30, 20, 10]\n",
      "Each 2: [10, 30, 50]\n",
      "Id:0 Elem:10\n",
      "Id:1 Elem:30\n",
      "Id:2 Elem:50\n"
     ]
    }
   ],
   "source": [
    "# Индексация\n",
    "nums = [10, 20, 30, 40, 50]\n",
    "print(\"First elem:\", nums[0])\n",
    "print(\"Second elem:\", nums[1])\n",
    "print(\"Last elem:\", nums[-1])\n",
    "\n",
    "# Итерирование по индексу\n",
    "for i in range(len(nums)):\n",
    "    print(f\"Id:{i} Elem:{nums[i]}\")\n",
    "\n",
    "# Срезы\n",
    "nums = [10, 20, 30, 40, 50]\n",
    "print(\"Slice:\", nums[1:4])\n",
    "print(\"Reversed:\", nums[::-1])\n",
    "print(\"Each 2:\", nums[::2])\n",
    "\n",
    "sl = nums[::2]\n",
    "for i in range(len(sl)):\n",
    "    print(f\"Id:{i} Elem:{sl[i]}\")\n"
   ]
  },
  {
   "cell_type": "code",
   "execution_count": 9,
   "metadata": {},
   "outputs": [
    {
     "name": "stdout",
     "output_type": "stream",
     "text": [
      "Elem: 50\n",
      "Elem: 40\n",
      "Elem: 30\n",
      "Elem: 20\n",
      "Elem: 10\n"
     ]
    }
   ],
   "source": [
    "# Итерирование по элементам\n",
    "nums = [10, 20, 30, 40, 50]\n",
    "\n",
    "for n in nums[::-1]:\n",
    "    print(\"Elem:\", n)"
   ]
  },
  {
   "cell_type": "markdown",
   "metadata": {},
   "source": [
    "# Сравнение списков"
   ]
  },
  {
   "cell_type": "code",
   "execution_count": 14,
   "metadata": {},
   "outputs": [
    {
     "name": "stdout",
     "output_type": "stream",
     "text": [
      "== False\n",
      "!= True\n",
      "< True\n"
     ]
    }
   ],
   "source": [
    "# Сравнение списков\n",
    "first = [10, 20, 30]\n",
    "second = [10, 20, 31]\n",
    "\n",
    "print(\"==\", first == second)\n",
    "print(\"!=\", first != second)\n",
    "print(\"<\", first  < second)"
   ]
  },
  {
   "cell_type": "markdown",
   "metadata": {},
   "source": [
    "# Простейшая обработка списков"
   ]
  },
  {
   "cell_type": "code",
   "execution_count": 15,
   "metadata": {},
   "outputs": [
    {
     "name": "stdout",
     "output_type": "stream",
     "text": [
      "20 in nums\n",
      "[100500, 20, 30, 40, 50]\n",
      "sum: 100640\n",
      "max: 100500\n",
      "min: 20\n"
     ]
    }
   ],
   "source": [
    "# Обработка списков\n",
    "nums = [ 10, 20, 30, 40, 50]\n",
    "\n",
    "# Проверка вхождения\n",
    "if 20 in nums:\n",
    "    print(\"20 in nums\")\n",
    "\n",
    "# Изменение списка\n",
    "nums[0] = 100500\n",
    "print(nums)\n",
    "\n",
    "# min/max/sum\n",
    "print(\"sum:\", sum(nums))\n",
    "print(\"max:\", max(nums))\n",
    "print(\"min:\", min(nums))"
   ]
  },
  {
   "cell_type": "code",
   "execution_count": 18,
   "metadata": {},
   "outputs": [
    {
     "name": "stdout",
     "output_type": "stream",
     "text": [
      "9\n"
     ]
    }
   ],
   "source": [
    "numbers = [1,2,3,4,5,6]\n",
    "print(sum(numbers[1:4]))"
   ]
  },
  {
   "cell_type": "code",
   "execution_count": 19,
   "metadata": {},
   "outputs": [
    {
     "name": "stdout",
     "output_type": "stream",
     "text": [
      "9\n"
     ]
    }
   ],
   "source": [
    "summ = 0\n",
    "for elem in numbers[1:4]:\n",
    "    summ += elem\n",
    "print(summ)"
   ]
  },
  {
   "cell_type": "code",
   "execution_count": 20,
   "metadata": {},
   "outputs": [
    {
     "name": "stdout",
     "output_type": "stream",
     "text": [
      "9\n"
     ]
    }
   ],
   "source": [
    "result = 0\n",
    "for i in range(1,4,1):\n",
    "    result += numbers[i]\n",
    "print(result)"
   ]
  },
  {
   "cell_type": "markdown",
   "metadata": {},
   "source": [
    "# Удаление элементов из списка\n",
    "* `.pop()`\n",
    "* `.remove()`\n",
    "* `del`"
   ]
  },
  {
   "cell_type": "code",
   "execution_count": 31,
   "metadata": {},
   "outputs": [
    {
     "name": "stdout",
     "output_type": "stream",
     "text": [
      "Elem deleted: 30\n",
      "Numerics: [10, 20, 40, 50]\n",
      "After .remove(): [10, 20, 40]\n",
      "After del: [20, 40]\n"
     ]
    }
   ],
   "source": [
    "# Удаление элементов\n",
    "\n",
    "# Через метод .pop()\n",
    "numerics = [10, 20, 30, 40, 50]\n",
    "elem = None\n",
    "if len(numerics) >= 3 :\n",
    "    elem = numerics.pop(2) # Удаляет последний по умолчанию, если передан индекс- удалит по индексу\n",
    "print(\"Elem deleted:\", elem)\n",
    "print(\"Numerics:\", numerics)\n",
    "\n",
    "# Через метод .remove(value)\n",
    "if 50 in numerics:\n",
    "    numerics.remove(50)\n",
    "print(\"After .remove():\", numerics)\n",
    "\n",
    "# del\n",
    "del numerics[0] #numerics.pop(0)\n",
    "print(\"After del:\", numerics)"
   ]
  },
  {
   "cell_type": "markdown",
   "metadata": {},
   "source": [
    "# Сортировка списка"
   ]
  },
  {
   "cell_type": "code",
   "execution_count": 32,
   "metadata": {},
   "outputs": [
    {
     "name": "stdout",
     "output_type": "stream",
     "text": [
      "[10, 20, 30, 40]\n"
     ]
    }
   ],
   "source": [
    "nums = [10, 200, 30, 40]\n",
    "nums[1] = 20\n",
    "print(nums)"
   ]
  },
  {
   "cell_type": "code",
   "execution_count": 33,
   "metadata": {},
   "outputs": [
    {
     "name": "stdout",
     "output_type": "stream",
     "text": [
      "Words sorted ->: ['aaa', 'alex', 'alice', 'bob', 'ddd', 'mister doctor professor', 'victor']\n",
      "Words sorted <-: ['victor', 'mister doctor professor', 'ddd', 'bob', 'alice', 'alex', 'aaa']\n"
     ]
    }
   ],
   "source": [
    "words = [\"alice\", \"bob\", \"aaa\", \"alex\", \"victor\", \"mister doctor professor\", \"ddd\"]\n",
    "words.sort() # Изменяется исходное состояние списка!\n",
    "\n",
    "print(\"Words sorted ->:\", words)\n",
    "# Обратная сортировка (в обратном порядке)\n",
    "words.sort(reverse=True)\n",
    "print(\"Words sorted <-:\", words)"
   ]
  },
  {
   "cell_type": "code",
   "execution_count": null,
   "metadata": {},
   "outputs": [],
   "source": []
  }
 ],
 "metadata": {
  "kernelspec": {
   "display_name": "Python 3",
   "language": "python",
   "name": "python3"
  },
  "language_info": {
   "codemirror_mode": {
    "name": "ipython",
    "version": 3
   },
   "file_extension": ".py",
   "mimetype": "text/x-python",
   "name": "python",
   "nbconvert_exporter": "python",
   "pygments_lexer": "ipython3",
   "version": "3.9.1"
  }
 },
 "nbformat": 4,
 "nbformat_minor": 4
}
