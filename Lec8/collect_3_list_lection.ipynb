{
 "cells": [
  {
   "cell_type": "markdown",
   "metadata": {},
   "source": [
    "## Лекция 8. Коллекции. Списки\n",
    "\n",
    "**Список** (list) - упорядоченная (индексируемая) коллекция, способная хранить элементы любого типа."
   ]
  },
  {
   "cell_type": "code",
   "execution_count": 1,
   "metadata": {},
   "outputs": [
    {
     "name": "stdout",
     "output_type": "stream",
     "text": [
      "b_list origin: []\n",
      "a_list type : <class 'list'>\n",
      "b_list len : 0\n",
      "[10, 20, 30, 40, 50]\n",
      "[[10, 20, 30, 40, 50], 'ASDG', 'bob', 100500, {1, 2, 3}]\n"
     ]
    }
   ],
   "source": [
    "# Инициализация списка\n",
    "a_list = []\n",
    "b_list = list()\n",
    "\n",
    "print(\"b_list origin:\", b_list)\n",
    "print(\"a_list type :\", type(a_list))\n",
    "print(\"b_list len :\", len(b_list))\n",
    "\n",
    "numeric_list = [10, 20, 30, 40, 50]\n",
    "something_list = [numeric_list, \"ASDG\", \"bob\", 100500, set([1,2,3])]\n",
    "\n",
    "print(numeric_list)\n",
    "print(something_list)"
   ]
  },
  {
   "cell_type": "markdown",
   "metadata": {},
   "source": [
    "# Добавление элементов в списки"
   ]
  },
  {
   "cell_type": "code",
   "execution_count": 4,
   "metadata": {},
   "outputs": [
    {
     "name": "stdout",
     "output_type": "stream",
     "text": [
      "[10, 20, 30]\n",
      "[99, 10, 9999999, 20, 30]\n"
     ]
    }
   ],
   "source": [
    "# Наполенение списка\n",
    "numerics = []\n",
    "\n",
    "# Добавление в конец\n",
    "numerics.append(10)\n",
    "numerics.append(20)\n",
    "numerics.append(30)\n",
    "\n",
    "print(numerics)\n",
    "\n",
    "# Добавление в начало (или проивзольное место)\n",
    "numerics.insert(0, 99) #.insert(id, value)\n",
    "numerics.insert(2, 9999999)\n",
    "print(numerics)"
   ]
  },
  {
   "cell_type": "markdown",
   "metadata": {},
   "source": [
    "# Индексация и срезы"
   ]
  },
  {
   "cell_type": "code",
   "execution_count": 6,
   "metadata": {},
   "outputs": [
    {
     "name": "stdout",
     "output_type": "stream",
     "text": [
      "First elem: 10\n",
      "Second elem: 20\n",
      "Last elem: 50\n",
      "Id:0 Elem:10\n",
      "Id:1 Elem:20\n",
      "Id:2 Elem:30\n",
      "Id:3 Elem:40\n",
      "Id:4 Elem:50\n",
      "Slice: [20, 30, 40]\n",
      "Reversed: [50, 40, 30, 20, 10]\n",
      "Each 2: [10, 30, 50]\n",
      "Id:0 Elem:10\n",
      "Id:1 Elem:30\n",
      "Id:2 Elem:50\n"
     ]
    }
   ],
   "source": [
    "# Индексация\n",
    "nums = [10, 20, 30, 40, 50]\n",
    "print(\"First elem:\", nums[0])\n",
    "print(\"Second elem:\", nums[1])\n",
    "print(\"Last elem:\", nums[-1])\n",
    "\n",
    "# Итерирование по индексу\n",
    "for i in range(len(nums)):\n",
    "    print(f\"Id:{i} Elem:{nums[i]}\")\n",
    "\n",
    "# Срезы\n",
    "nums = [10, 20, 30, 40, 50]\n",
    "print(\"Slice:\", nums[1:4])\n",
    "print(\"Reversed:\", nums[::-1])\n",
    "print(\"Each 2:\", nums[::2])\n",
    "\n",
    "sl = nums[::2]\n",
    "for i in range(len(sl)):\n",
    "    print(f\"Id:{i} Elem:{sl[i]}\")\n"
   ]
  },
  {
   "cell_type": "code",
   "execution_count": 9,
   "metadata": {},
   "outputs": [
    {
     "name": "stdout",
     "output_type": "stream",
     "text": [
      "Elem: 50\n",
      "Elem: 40\n",
      "Elem: 30\n",
      "Elem: 20\n",
      "Elem: 10\n"
     ]
    }
   ],
   "source": [
    "# Итерирование по элементам\n",
    "nums = [10, 20, 30, 40, 50]\n",
    "\n",
    "for n in nums[::-1]:\n",
    "    print(\"Elem:\", n)"
   ]
  },
  {
   "cell_type": "markdown",
   "metadata": {},
   "source": [
    "# Сравнение списков"
   ]
  },
  {
   "cell_type": "code",
   "execution_count": 14,
   "metadata": {},
   "outputs": [
    {
     "name": "stdout",
     "output_type": "stream",
     "text": [
      "== False\n",
      "!= True\n",
      "< True\n"
     ]
    }
   ],
   "source": [
    "# Сравнение списков\n",
    "first = [10, 20, 30]\n",
    "second = [10, 20, 31]\n",
    "\n",
    "print(\"==\", first == second)\n",
    "print(\"!=\", first != second)\n",
    "print(\"<\", first  < second)"
   ]
  },
  {
   "cell_type": "markdown",
   "metadata": {},
   "source": [
    "# Простейшая обработка списков"
   ]
  },
  {
   "cell_type": "code",
   "execution_count": 15,
   "metadata": {},
   "outputs": [
    {
     "name": "stdout",
     "output_type": "stream",
     "text": [
      "20 in nums\n",
      "[100500, 20, 30, 40, 50]\n",
      "sum: 100640\n",
      "max: 100500\n",
      "min: 20\n"
     ]
    }
   ],
   "source": [
    "# Обработка списков\n",
    "nums = [ 10, 20, 30, 40, 50]\n",
    "\n",
    "# Проверка вхождения\n",
    "if 20 in nums:\n",
    "    print(\"20 in nums\")\n",
    "\n",
    "# Изменение списка\n",
    "nums[0] = 100500\n",
    "print(nums)\n",
    "\n",
    "# min/max/sum\n",
    "print(\"sum:\", sum(nums))\n",
    "print(\"max:\", max(nums))\n",
    "print(\"min:\", min(nums))"
   ]
  },
  {
   "cell_type": "code",
   "execution_count": 18,
   "metadata": {},
   "outputs": [
    {
     "name": "stdout",
     "output_type": "stream",
     "text": [
      "9\n"
     ]
    }
   ],
   "source": [
    "numbers = [1,2,3,4,5,6]\n",
    "print(sum(numbers[1:4]))"
   ]
  },
  {
   "cell_type": "code",
   "execution_count": 19,
   "metadata": {},
   "outputs": [
    {
     "name": "stdout",
     "output_type": "stream",
     "text": [
      "9\n"
     ]
    }
   ],
   "source": [
    "summ = 0\n",
    "for elem in numbers[1:4]:\n",
    "    summ += elem\n",
    "print(summ)"
   ]
  },
  {
   "cell_type": "code",
   "execution_count": 20,
   "metadata": {},
   "outputs": [
    {
     "name": "stdout",
     "output_type": "stream",
     "text": [
      "9\n"
     ]
    }
   ],
   "source": [
    "result = 0\n",
    "for i in range(1,4,1):\n",
    "    result += numbers[i]\n",
    "print(result)"
   ]
  },
  {
   "cell_type": "markdown",
   "metadata": {},
   "source": [
    "# Удаление элементов из списка\n",
    "* `.pop()`\n",
    "* `.remove()`\n",
    "* `del`"
   ]
  },
  {
   "cell_type": "code",
   "execution_count": 31,
   "metadata": {},
   "outputs": [
    {
     "name": "stdout",
     "output_type": "stream",
     "text": [
      "Elem deleted: 30\n",
      "Numerics: [10, 20, 40, 50]\n",
      "After .remove(): [10, 20, 40]\n",
      "After del: [20, 40]\n"
     ]
    }
   ],
   "source": [
    "# Удаление элементов\n",
    "\n",
    "# Через метод .pop()\n",
    "numerics = [10, 20, 30, 40, 50]\n",
    "elem = None\n",
    "if len(numerics) >= 3 :\n",
    "    elem = numerics.pop(2) # Удаляет последний по умолчанию, если передан индекс- удалит по индексу\n",
    "print(\"Elem deleted:\", elem)\n",
    "print(\"Numerics:\", numerics)\n",
    "\n",
    "# Через метод .remove(value)\n",
    "if 50 in numerics:\n",
    "    numerics.remove(50)\n",
    "print(\"After .remove():\", numerics)\n",
    "\n",
    "# del\n",
    "del numerics[0] #numerics.pop(0)\n",
    "print(\"After del:\", numerics)"
   ]
  },
  {
   "cell_type": "markdown",
   "metadata": {},
   "source": [
    "# Сортировка списка"
   ]
  },
  {
   "cell_type": "code",
   "execution_count": 32,
   "metadata": {},
   "outputs": [
    {
     "name": "stdout",
     "output_type": "stream",
     "text": [
      "[10, 20, 30, 40]\n"
     ]
    }
   ],
   "source": [
    "nums = [10, 200, 30, 40]\n",
    "nums[1] = 20\n",
    "print(nums)"
   ]
  },
  {
   "cell_type": "code",
   "execution_count": 3,
   "metadata": {},
   "outputs": [
    {
     "name": "stdout",
     "output_type": "stream",
     "text": [
      "Words sorted ->: ['aaa', 'alex', 'alice', 'bob', 'ddd', 'mister doctor professor', 'victor']\n",
      "Words sorted <-: ['victor', 'mister doctor professor', 'ddd', 'bob', 'alice', 'alex', 'aaa']\n"
     ]
    }
   ],
   "source": [
    "# Сортировка с изменением исходного порядка в списке\n",
    "words = [\"alice\", \"bob\", \"aaa\", \"alex\", \"victor\", \"mister doctor professor\", \"ddd\"]\n",
    "words.sort() # Изменяется исходное состояние списка!\n",
    "\n",
    "print(\"Words sorted ->:\", words)\n",
    "# Обратная сортировка (в обратном порядке)\n",
    "words.sort(reverse=True)\n",
    "print(\"Words sorted <-:\", words)"
   ]
  },
  {
   "cell_type": "code",
   "execution_count": 4,
   "metadata": {},
   "outputs": [
    {
     "name": "stdout",
     "output_type": "stream",
     "text": [
      "Origin words: ['alice', 'bob', 'aaa', 'alex', 'victor', 'mister doctor professor', 'ddd']\n",
      "sorted words: ['aaa', 'alex', 'alice', 'bob', 'ddd', 'mister doctor professor', 'victor']\n",
      "sorted reversed: ['victor', 'mister doctor professor', 'ddd', 'bob', 'alice', 'alex', 'aaa']\n",
      "Origin words: ['alice', 'bob', 'aaa', 'alex', 'victor', 'mister doctor professor', 'ddd']\n"
     ]
    }
   ],
   "source": [
    "# Сортировка с сохранением исходного списка\n",
    "words = [\"alice\", \"bob\", \"aaa\", \"alex\", \"victor\", \"mister doctor professor\", \"ddd\"]\n",
    "new_words_sorted_primary = sorted(words)\n",
    "\n",
    "print(\"Origin words:\", words)\n",
    "print(\"sorted words:\", new_words_sorted_primary)\n",
    "\n",
    "# Обратный порядок сортировки\n",
    "new_words_sorted_reversed = sorted(words, reverse=True)\n",
    "print(\"sorted reversed:\", new_words_sorted_reversed)\n",
    "print(\"Origin words:\", words)"
   ]
  },
  {
   "cell_type": "markdown",
   "metadata": {},
   "source": [
    "# Методы списков"
   ]
  },
  {
   "cell_type": "code",
   "execution_count": 5,
   "metadata": {},
   "outputs": [
    {
     "name": "stdout",
     "output_type": "stream",
     "text": [
      "['__add__', '__class__', '__class_getitem__', '__contains__', '__delattr__', '__delitem__', '__dir__', '__doc__', '__eq__', '__format__', '__ge__', '__getattribute__', '__getitem__', '__gt__', '__hash__', '__iadd__', '__imul__', '__init__', '__init_subclass__', '__iter__', '__le__', '__len__', '__lt__', '__mul__', '__ne__', '__new__', '__reduce__', '__reduce_ex__', '__repr__', '__reversed__', '__rmul__', '__setattr__', '__setitem__', '__sizeof__', '__str__', '__subclasshook__', 'append', 'clear', 'copy', 'count', 'extend', 'index', 'insert', 'pop', 'remove', 'reverse', 'sort']\n"
     ]
    }
   ],
   "source": [
    "# Методы списков\n",
    "numerics = [10, 20, 30, 40, 30, 30]\n",
    "print(dir(numerics))"
   ]
  },
  {
   "cell_type": "code",
   "execution_count": 7,
   "metadata": {},
   "outputs": [
    {
     "name": "stdout",
     "output_type": "stream",
     "text": [
      "[1000, 20, 30, 40]\n",
      "[1000, 20, 30, 40]\n"
     ]
    }
   ],
   "source": [
    "a = [10, 20, 30, 40]\n",
    "b = a\n",
    "b[0] = 1000\n",
    "print(a)\n",
    "print(b)"
   ]
  },
  {
   "cell_type": "code",
   "execution_count": 9,
   "metadata": {},
   "outputs": [
    {
     "name": "stdout",
     "output_type": "stream",
     "text": [
      "Numerics: [10, 20, 30, 40, 30, 30]\n",
      "b: [10, 20, 30, 40, 30, 30, 9999999]\n"
     ]
    }
   ],
   "source": [
    "# 1) Списки - ссылочный тип!\n",
    "numerics = [10, 20, 30, 40, 30, 30]\n",
    "b = numerics[:] #numerics.copy() #numerics.copy()\n",
    "b.append(9999999)\n",
    "print(\"Numerics:\", numerics)\n",
    "print(\"b:\", b)"
   ]
  },
  {
   "cell_type": "code",
   "execution_count": 25,
   "metadata": {},
   "outputs": [
    {
     "name": "stdout",
     "output_type": "stream",
     "text": [
      "30 in in numerics: 3\n"
     ]
    }
   ],
   "source": [
    "# 2) .count() - подсчет количества вхождений\n",
    "print(\"30 in in numerics:\", numerics.count(30))"
   ]
  },
  {
   "cell_type": "code",
   "execution_count": 14,
   "metadata": {},
   "outputs": [
    {
     "name": "stdout",
     "output_type": "stream",
     "text": [
      ".index(): 2\n"
     ]
    }
   ],
   "source": [
    "# 4) .index()\n",
    "print(\".index():\", numerics.index(30))"
   ]
  },
  {
   "cell_type": "code",
   "execution_count": 17,
   "metadata": {},
   "outputs": [
    {
     "name": "stdout",
     "output_type": "stream",
     "text": [
      ".extend(): [9999, 99, 9999, 30, 30, 40, 30, 20, 10, 9, 9999, 99]\n"
     ]
    }
   ],
   "source": [
    "# 3) .extend() - подшивает другой список в конец исходного\n",
    "new_lst = [9, 9999, 99]\n",
    "numerics.extend(new_lst)\n",
    "print(\".extend():\", numerics)\n"
   ]
  },
  {
   "cell_type": "code",
   "execution_count": 16,
   "metadata": {},
   "outputs": [
    {
     "name": "stdout",
     "output_type": "stream",
     "text": [
      ".reverse(): [9999, 99, 9999, 30, 30, 40, 30, 20, 10]\n"
     ]
    }
   ],
   "source": [
    "# 5) .reverse()\n",
    "numerics.reverse()\n",
    "print(\".reverse():\", numerics)"
   ]
  },
  {
   "cell_type": "code",
   "execution_count": 20,
   "metadata": {},
   "outputs": [
    {
     "name": "stdout",
     "output_type": "stream",
     "text": [
      "[10, 20, 30, 40, 50, 60]\n"
     ]
    }
   ],
   "source": [
    "a = [10, 20, 30] # [10, 20, 30, 40, 50, 60]\n",
    "b = [40, 50, 60]\n",
    "\n",
    "a.extend(b)\n",
    "print(a)"
   ]
  },
  {
   "cell_type": "code",
   "execution_count": 21,
   "metadata": {},
   "outputs": [
    {
     "data": {
      "text/plain": [
       "60"
      ]
     },
     "execution_count": 21,
     "metadata": {},
     "output_type": "execute_result"
    }
   ],
   "source": [
    "a[-1]"
   ]
  },
  {
   "cell_type": "markdown",
   "metadata": {},
   "source": [
    "# Методы преобразования str<->list"
   ]
  },
  {
   "cell_type": "code",
   "execution_count": 35,
   "metadata": {},
   "outputs": [
    {
     "name": "stdout",
     "output_type": "stream",
     "text": [
      "Words: ['Bob', 'likes', 'Python', 'programming']\n"
     ]
    }
   ],
   "source": [
    "# Строковый метод .split()\n",
    "message = \"Bob, likes !Python! programming\"\n",
    "words = message.replace(\",\", \" \").replace(\"!\", \" \").split()\n",
    "print(\"Words:\", words)\n",
    "\n"
   ]
  },
  {
   "cell_type": "code",
   "execution_count": 48,
   "metadata": {},
   "outputs": [
    {
     "name": "stdout",
     "output_type": "stream",
     "text": [
      "['Bob', 'likes', 'Python', 'programming']\n",
      "Bob\n",
      "likes\n",
      "Python\n",
      "programming\n"
     ]
    }
   ],
   "source": [
    "# Строковый метод .join()\n",
    "print(words)\n",
    "output_str = \"\\n\".join(words) #-> \"Bob\" + \"\\n\" + \"likes\" + \"\\n\" + \"Python\" + \"\\n\" + \"programming\"\n",
    "print(output_str) "
   ]
  },
  {
   "cell_type": "code",
   "execution_count": 53,
   "metadata": {},
   "outputs": [
    {
     "name": "stdout",
     "output_type": "stream",
     "text": [
      "10\n",
      "20\n",
      "30\n",
      "40\n"
     ]
    }
   ],
   "source": [
    "# Что делать, если очень хочется join-уть , но список не из строк\n",
    "a = [10, 20, 30, 40]\n",
    "for i in range(len(a)):\n",
    "    a[i] = str(a[i])\n",
    "\n",
    "print(\"\\n\".join(a))"
   ]
  },
  {
   "cell_type": "markdown",
   "metadata": {},
   "source": [
    "* `.split(sep=\"str\") -> lst[str]` - метод (строки), который разбивает строку на набор подстрок по указанному сепаратору и возвращает список подстрок!\n",
    "\n",
    "* `\"sep\".join(lst[str]) -> str` - метод (строки), который принимает на вход список подстрок и конкатенирует все элементы через указанный сепаратор - возвращает одну большую строку."
   ]
  },
  {
   "cell_type": "markdown",
   "metadata": {},
   "source": [
    "# Явные преобразования между str-set-list"
   ]
  },
  {
   "cell_type": "code",
   "execution_count": 60,
   "metadata": {},
   "outputs": [
    {
     "name": "stdout",
     "output_type": "stream",
     "text": [
      "[10, 20, 30, 40, 50]\n",
      "[10, 20, 30, 40, 50]\n"
     ]
    }
   ],
   "source": [
    "numerics_list = [10, 10, 20, 20, 30, 30, 40, 40, 50, 50]\n",
    "numerics_set = set(numerics_list) # Преобразование из списка в множество\n",
    "new_list = list(numerics_set) # Преобразование из множества в список\n",
    "print(sorted(new_list))\n",
    "\n",
    "a = set([1,2,3,4,5])\n",
    "\n",
    "print(sorted(list(set([10, 10, 20, 20, 30, 30, 40, 40, 50, 50]))))\n",
    "\n"
   ]
  },
  {
   "cell_type": "code",
   "execution_count": 64,
   "metadata": {},
   "outputs": [
    {
     "name": "stdout",
     "output_type": "stream",
     "text": [
      "['H', 'e', 'l', 'l', 'o', ' ', 'w', 'o', 'r', 'l', 'd']\n",
      " Hdellloorw\n"
     ]
    }
   ],
   "source": [
    "words = \"Hello world\"\n",
    "letters = list(words)\n",
    "print(letters)\n",
    "letters.sort()\n",
    "\n",
    "print(\"\".join(letters))"
   ]
  },
  {
   "cell_type": "markdown",
   "metadata": {},
   "source": [
    "# Пример очистки входных данных"
   ]
  },
  {
   "cell_type": "code",
   "execution_count": 68,
   "metadata": {},
   "outputs": [
    {
     "name": "stdout",
     "output_type": "stream",
     "text": [
      "   Алиса    \n",
      "OK\n"
     ]
    }
   ],
   "source": [
    "name = input().strip() # Вот таким образом считывать данные\n",
    "\n",
    "if name == \"Алиса\":\n",
    "    print(\"OK\")\n"
   ]
  },
  {
   "cell_type": "code",
   "execution_count": null,
   "metadata": {},
   "outputs": [],
   "source": [
    "# Набросок решения задачи B\n",
    "queue = []\n",
    "n_command = int(input().strip())\n",
    "\n",
    "for _ in range(n_command):\n",
    "    command = input().strip()\n",
    "    \n",
    "    if \"Кто последний\" in command:\n",
    "        name = #......... выделить имя из строки command\n",
    "        queue.append(name) # помещение в конец очереди\n",
    "    elif \"Я только\" in command:\n",
    "        name = # ...... выделить имя из строки command\n",
    "        queue.insert(0, name) # помещение в голову очереди\n",
    "    else: # Следующий!\n",
    "        if len(queue) > 0:\n",
    "            next_name = queue.pop(0) # Снимаем с головы очереди элемент\n",
    "            print(......n, next_name)\n",
    "        else:\n",
    "            print(\"....В очереди никого нет....\")\n",
    "    \n",
    "    \n",
    "    "
   ]
  },
  {
   "cell_type": "markdown",
   "metadata": {},
   "source": [
    "#  Списочные выражения"
   ]
  },
  {
   "cell_type": "code",
   "execution_count": 4,
   "metadata": {},
   "outputs": [
    {
     "name": "stdout",
     "output_type": "stream",
     "text": [
      "[0, 1, 4, 27, 16, 125, 36, 343, 64, 729, 100, 1331, 144, 2197, 196, 3375, 256, 4913, 324, 6859, 400, 9261, 484, 12167, 576, 15625, 676, 19683, 784, 24389, 900, 29791, 1024, 35937, 1156, 42875, 1296, 50653, 1444, 59319, 1600, 68921, 1764, 79507, 1936, 91125, 2116, 103823, 2304, 117649, 2500, 132651, 2704, 148877, 2916, 166375, 3136, 185193, 3364, 205379, 3600, 226981, 3844, 250047, 4096, 274625, 4356, 300763, 4624, 328509, 4900, 357911, 5184, 389017, 5476, 421875, 5776, 456533, 6084, 493039, 6400, 531441, 6724, 571787, 7056, 614125, 7396, 658503, 7744, 704969, 8100, 753571, 8464, 804357, 8836, 857375, 9216, 912673, 9604, 970299]\n"
     ]
    }
   ],
   "source": [
    "# Инициализация списка из 100 каких=то элементов (0)\n",
    "zeros = [0] * 100 \n",
    "# print(zeros)\n",
    "\n",
    "# Список из первых 100 натуральных чисел\n",
    "numerics = []\n",
    "for i in range(1, 101):\n",
    "    numerics.append(i)\n",
    "\n",
    "# Список из первых 100 натуральных чисел, причем\n",
    "# если число - четное - в список заносим квадрат числа\n",
    "# в противном случае - куб\n",
    "nums = []\n",
    "for i in range(100):\n",
    "    if i % 2 == 0:\n",
    "        nums.append(i ** 2)\n",
    "    else:\n",
    "        nums.append(i ** 3)\n",
    "\n",
    "print(nums)"
   ]
  },
  {
   "cell_type": "code",
   "execution_count": 13,
   "metadata": {},
   "outputs": [
    {
     "name": "stdout",
     "output_type": "stream",
     "text": [
      "[0, 1, 2, 3, 4, 5, 6, 7, 8, 9, 10, 11, 12, 13, 14, 15, 16, 17, 18, 19, 20, 21, 22, 23, 24, 25, 26, 27, 28, 29, 30, 31, 32, 33, 34, 35, 36, 37, 38, 39, 40, 41, 42, 43, 44, 45, 46, 47, 48, 49, 50, 51, 52, 53, 54, 55, 56, 57, 58, 59, 60, 61, 62, 63, 64, 65, 66, 67, 68, 69, 70, 71, 72, 73, 74, 75, 76, 77, 78, 79, 80, 81, 82, 83, 84, 85, 86, 87, 88, 89, 90, 91, 92, 93, 94, 95, 96, 97, 98, 99]\n"
     ]
    }
   ],
   "source": [
    "\"\"\"\n",
    "Общий синтаксис\n",
    "lst = [elem for elem in iter]\n",
    "\"\"\"\n",
    "# Список из 100 нудей (см. пример выше)\n",
    "zeros = [0 for _ in range(100)]\n",
    "#print(zeros)\n",
    "\n",
    "# Список из первых 100 натуральных чисел\n",
    "numerics = [i for i in range(100)]\n",
    "print(numerics)"
   ]
  },
  {
   "cell_type": "markdown",
   "metadata": {},
   "source": [
    "## Тернарный условный оператор\n",
    "\n",
    "`a = val1 if expression else val2`"
   ]
  },
  {
   "cell_type": "code",
   "execution_count": 14,
   "metadata": {},
   "outputs": [
    {
     "name": "stdout",
     "output_type": "stream",
     "text": [
      "Numeric: 2\n"
     ]
    }
   ],
   "source": [
    "numeric = None # Допустим это инициализирующее значение\n",
    "\n",
    "if 10 % 2 == 0:\n",
    "    numeric = 2\n",
    "else:\n",
    "    numeric = 5\n",
    "\n",
    "print(\"Numeric:\", numeric)\n"
   ]
  },
  {
   "cell_type": "code",
   "execution_count": 17,
   "metadata": {},
   "outputs": [
    {
     "ename": "SyntaxError",
     "evalue": "invalid syntax (<ipython-input-17-e471906a8b89>, line 1)",
     "output_type": "error",
     "traceback": [
      "\u001b[1;36m  File \u001b[1;32m\"<ipython-input-17-e471906a8b89>\"\u001b[1;36m, line \u001b[1;32m1\u001b[0m\n\u001b[1;33m    new_numeric = if 10 % 2 == 0 else 5 if 10 % 2 == 0 else if 10 % 2 == 0 else 5\u001b[0m\n\u001b[1;37m                  ^\u001b[0m\n\u001b[1;31mSyntaxError\u001b[0m\u001b[1;31m:\u001b[0m invalid syntax\n"
     ]
    }
   ],
   "source": [
    "new_numeric = 2 if 10 % 2 == 0 else 5\n",
    "print(\"New numeric:\", new_numeric)"
   ]
  },
  {
   "cell_type": "markdown",
   "metadata": {},
   "source": [
    "## Списочные выражения. Продолжение"
   ]
  },
  {
   "cell_type": "code",
   "execution_count": 18,
   "metadata": {},
   "outputs": [
    {
     "name": "stdout",
     "output_type": "stream",
     "text": [
      "[0, 1, 4, 27, 16, 125, 36, 343, 64, 729, 100, 1331, 144, 2197, 196, 3375, 256, 4913, 324, 6859, 400, 9261, 484, 12167, 576, 15625, 676, 19683, 784, 24389, 900, 29791, 1024, 35937, 1156, 42875, 1296, 50653, 1444, 59319, 1600, 68921, 1764, 79507, 1936, 91125, 2116, 103823, 2304, 117649, 2500, 132651, 2704, 148877, 2916, 166375, 3136, 185193, 3364, 205379, 3600, 226981, 3844, 250047, 4096, 274625, 4356, 300763, 4624, 328509, 4900, 357911, 5184, 389017, 5476, 421875, 5776, 456533, 6084, 493039, 6400, 531441, 6724, 571787, 7056, 614125, 7396, 658503, 7744, 704969, 8100, 753571, 8464, 804357, 8836, 857375, 9216, 912673, 9604, 970299]\n"
     ]
    }
   ],
   "source": [
    "# Пример использования тернарного условного оператора в конструкции списочного выражения\n",
    "nums = [i ** 2 if i % 2 ==0 else i ** 3 for i in range(100)]\n",
    "print(nums)"
   ]
  },
  {
   "cell_type": "code",
   "execution_count": 23,
   "metadata": {},
   "outputs": [
    {
     "name": "stdout",
     "output_type": "stream",
     "text": [
      "[2, 4, 6, 8, 10]\n"
     ]
    }
   ],
   "source": [
    "## Пример использования условия для пропуска значений\n",
    "my_nums = [1,2,3,4,5,6,7,8,9,10]\n",
    "evens = [elem for elem in my_nums if elem % 2 == 0] # [val for val in iter if expression]\n",
    "print(evens)"
   ]
  },
  {
   "cell_type": "code",
   "execution_count": 26,
   "metadata": {},
   "outputs": [
    {
     "name": "stdout",
     "output_type": "stream",
     "text": [
      "10, 20, 30, 40, 50\n",
      "10, 20, 30, 40, 50\n"
     ]
    }
   ],
   "source": [
    "a = input()\n",
    "print(a)\n"
   ]
  },
  {
   "cell_type": "markdown",
   "metadata": {},
   "source": [
    "## Прикладные примеры"
   ]
  },
  {
   "cell_type": "code",
   "execution_count": 33,
   "metadata": {},
   "outputs": [
    {
     "name": "stdout",
     "output_type": "stream",
     "text": [
      "10 20 30 40 50\n",
      "150\n"
     ]
    }
   ],
   "source": [
    "# * Считывание с STDIN и преобразование на месте\n",
    "# Допустим, во входной поток приходит строка вида \"1 2 3 4 5 6 10 4 3 5 10 12 13 14\"\n",
    "# Задача - посчитать сумму всех элементов\n",
    "res = sum([int(str_elem) for str_elem in input().strip().split(sep=\" \")])\n",
    "print(res)"
   ]
  },
  {
   "cell_type": "code",
   "execution_count": 30,
   "metadata": {},
   "outputs": [
    {
     "name": "stdout",
     "output_type": "stream",
     "text": [
      "10 20 30 40 50\n",
      "150\n"
     ]
    }
   ],
   "source": [
    "\n",
    "summ = 0\n",
    "for elem in input().strip().split(sep = \" \"):\n",
    "    summ += int(elem)\n",
    "print(summ)\n",
    "    "
   ]
  },
  {
   "cell_type": "code",
   "execution_count": 45,
   "metadata": {},
   "outputs": [
    {
     "name": "stdout",
     "output_type": "stream",
     "text": [
      "ро\n",
      "1\n"
     ]
    }
   ],
   "source": [
    "print(len(max([elem for elem in input().split(\"р\")])))"
   ]
  },
  {
   "cell_type": "code",
   "execution_count": 47,
   "metadata": {},
   "outputs": [
    {
     "name": "stdout",
     "output_type": "stream",
     "text": [
      "10\n",
      "20\n",
      "30\n",
      "40\n",
      "50\n",
      "60\n",
      "60\n"
     ]
    }
   ],
   "source": [
    "# Подготовить элементы к выводу в STDOUT\n",
    "\n",
    "nums = [ 10, 20, 30, 40, 50, 60, 60]\n",
    "print(\"\\n\".join([str(elem) for elem in nums]))"
   ]
  },
  {
   "cell_type": "code",
   "execution_count": null,
   "metadata": {},
   "outputs": [],
   "source": []
  }
 ],
 "metadata": {
  "kernelspec": {
   "display_name": "Python 3",
   "language": "python",
   "name": "python3"
  },
  "language_info": {
   "codemirror_mode": {
    "name": "ipython",
    "version": 3
   },
   "file_extension": ".py",
   "mimetype": "text/x-python",
   "name": "python",
   "nbconvert_exporter": "python",
   "pygments_lexer": "ipython3",
   "version": "3.9.1"
  }
 },
 "nbformat": 4,
 "nbformat_minor": 4
}
