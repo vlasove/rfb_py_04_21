{
 "cells": [
  {
   "cell_type": "markdown",
   "metadata": {},
   "source": [
    "## Явные функции. Начало"
   ]
  },
  {
   "cell_type": "code",
   "execution_count": 3,
   "metadata": {},
   "outputs": [
    {
     "name": "stdout",
     "output_type": "stream",
     "text": [
      "Hello Bobby\n",
      "Bobby is 17 years old\n",
      "Hello Bobby\n",
      "Bob is 17 years old\n",
      "Hello Bobby\n",
      "Bob is 17 years old\n",
      "Hello Bobby\n",
      "Bob is 17 years old\n",
      "Hello Bobby\n",
      "Bob is 17 years old\n",
      "Hello Bobby\n",
      "Bob is 17 years old\n",
      "Hello Bobby\n",
      "Bob is 17 years old\n",
      "Hello Bobby\n",
      "Bob is 17 years old\n",
      "Hello Bobby\n",
      "Bob is 17 years old\n",
      "Hello Bobby\n",
      "Bob is 17 years old\n",
      "Hello Bobby\n",
      "Bob is 17 years old\n",
      "Done\n",
      "Hello Bobby\n",
      "Bobby is 17 years old\n"
     ]
    }
   ],
   "source": [
    "print(\"Hello\", \"Bobby\")\n",
    "print(\"Bobby\", \"is 17 years old\")\n",
    "\n",
    "i = 0\n",
    "while True:\n",
    "    i+=1\n",
    "    if i > 10:\n",
    "        break\n",
    "    else:\n",
    "        print(\"Hello\", \"Bobby\")\n",
    "        print(\"Bob\", \"is 17 years old\")\n",
    "\n",
    "\n",
    "print(\"Done\")\n",
    "print(\"Hello\", \"Bobby\")\n",
    "print(\"Bobby\", \"is 17 years old\")"
   ]
  },
  {
   "cell_type": "markdown",
   "metadata": {},
   "source": [
    "* Проблема: явное дублирование кода приводит к размазыванию ошибочной логики по всему коду (долго искать, долго исправлять)\n",
    "    * явное дублирование провоцирующее исправления может привести к появлению большего количества багов\n",
    "\n",
    "* Предложение - вынесем повторяющий блок кода в отдельное место и будем к нему обращаться по мере необходимости"
   ]
  },
  {
   "cell_type": "code",
   "execution_count": 7,
   "metadata": {},
   "outputs": [
    {
     "name": "stdout",
     "output_type": "stream",
     "text": [
      "Ho Bobby\n",
      "Bobby is 18 years old\n",
      "Ho Bobby\n",
      "Bobby is 18 years old\n",
      "Ho Bobby\n",
      "Bobby is 18 years old\n",
      "Ho Bobby\n",
      "Bobby is 18 years old\n",
      "Ho Bobby\n",
      "Bobby is 18 years old\n",
      "Ho Bobby\n",
      "Bobby is 18 years old\n",
      "Ho Bobby\n",
      "Bobby is 18 years old\n",
      "Ho Bobby\n",
      "Bobby is 18 years old\n",
      "Ho Bobby\n",
      "Bobby is 18 years old\n",
      "Ho Bobby\n",
      "Bobby is 18 years old\n",
      "Ho Bobby\n",
      "Bobby is 18 years old\n",
      "Done\n",
      "Ho Bobby\n",
      "Bobby is 18 years old\n"
     ]
    }
   ],
   "source": [
    "def hello(): # явная функция hello\n",
    "    print(\"Ho\", \"Bobby\")\n",
    "    print(\"Bobby\", \"is 18 years old\")\n",
    "\n",
    "hello()\n",
    "i = 0\n",
    "while True:\n",
    "    i+=1\n",
    "    if i > 10:\n",
    "        break\n",
    "    else:\n",
    "        hello()\n",
    "\n",
    "\n",
    "print(\"Done\")\n",
    "hello()"
   ]
  },
  {
   "cell_type": "markdown",
   "metadata": {},
   "source": [
    "### 2. Синтаксис и особенности явных функций\n"
   ]
  },
  {
   "cell_type": "code",
   "execution_count": 23,
   "metadata": {},
   "outputs": [
    {
     "name": "stdout",
     "output_type": "stream",
     "text": [
      "Greetings!\n",
      "Second line!\n",
      "10 > 5\n",
      "2\n",
      "3\n",
      "4\n",
      "<class 'function'>\n",
      "<function hello at 0x000001B0395B6CA0>\n"
     ]
    }
   ],
   "source": [
    "# Блок определения/инициаилизации функции\n",
    "def hello():\n",
    "     print(\"Greetings!\")\n",
    "     print(\"Second line!\")\n",
    "     if 10 > 5:\n",
    "            print(\"10 > 5\")\n",
    "\n",
    "     for i in range(1, 4):\n",
    "            print(i + 1)\n",
    "    \n",
    "# При работе с явной функцией существует 4 важных блока\n",
    "# 1.0) Ключевое слово def - обязательно для ОПРЕДЕЛЕНИЯ явной функции\n",
    "# 1.1) Имя функции\n",
    "# 1.2) Скобки круглые + НЕОБЯЗАТЕЛЬНО параметры/аргументы функции\n",
    "# 1.3) Тело функции (ОБЯЗАТЕЛЬНО НАЛИЧИЕ ХОТЯ БЫ 1 ДЕЙСТВИЯ)\n",
    "\n",
    "# 1.4) Вызов явной функции!\n",
    "hello()\n",
    "\n",
    "# Что такое функция с точки зрения интерпретатора? Это объект\n",
    "print(type(hello))\n",
    "print(hello) # hello и hello()"
   ]
  },
  {
   "cell_type": "code",
   "execution_count": 26,
   "metadata": {},
   "outputs": [
    {
     "ename": "NameError",
     "evalue": "name 'my_calc' is not defined",
     "output_type": "error",
     "traceback": [
      "\u001b[1;31m---------------------------------------------------------------------------\u001b[0m",
      "\u001b[1;31mNameError\u001b[0m                                 Traceback (most recent call last)",
      "\u001b[1;32m<ipython-input-26-10da342d6eab>\u001b[0m in \u001b[0;36m<module>\u001b[1;34m\u001b[0m\n\u001b[0;32m      1\u001b[0m \u001b[1;31m# 1. ВЫЗОВ функции возможен ИСКЛЮЧИТЕЛЬНО после ее определения\u001b[0m\u001b[1;33m\u001b[0m\u001b[1;33m\u001b[0m\u001b[1;33m\u001b[0m\u001b[0m\n\u001b[1;32m----> 2\u001b[1;33m \u001b[0mmy_calc\u001b[0m\u001b[1;33m(\u001b[0m\u001b[1;33m)\u001b[0m\u001b[1;33m\u001b[0m\u001b[1;33m\u001b[0m\u001b[0m\n\u001b[0m\u001b[0;32m      3\u001b[0m \u001b[1;33m\u001b[0m\u001b[0m\n\u001b[0;32m      4\u001b[0m \u001b[1;32mdef\u001b[0m \u001b[0mmy_calc\u001b[0m\u001b[1;33m(\u001b[0m\u001b[1;33m)\u001b[0m\u001b[1;33m:\u001b[0m\u001b[1;33m\u001b[0m\u001b[1;33m\u001b[0m\u001b[0m\n\u001b[0;32m      5\u001b[0m     \u001b[0mprint\u001b[0m\u001b[1;33m(\u001b[0m\u001b[1;34m\"it's calculation\"\u001b[0m\u001b[1;33m)\u001b[0m\u001b[1;33m\u001b[0m\u001b[1;33m\u001b[0m\u001b[0m\n",
      "\u001b[1;31mNameError\u001b[0m: name 'my_calc' is not defined"
     ]
    }
   ],
   "source": [
    "# 1. ВЫЗОВ функции возможен ИСКЛЮЧИТЕЛЬНО после ее определения\n",
    "my_calc()\n",
    "\n",
    "def my_calc():\n",
    "    print(\"it's calculation\")"
   ]
  },
  {
   "cell_type": "code",
   "execution_count": 27,
   "metadata": {},
   "outputs": [
    {
     "ename": "TypeError",
     "evalue": "'int' object is not callable",
     "output_type": "error",
     "traceback": [
      "\u001b[1;31m---------------------------------------------------------------------------\u001b[0m",
      "\u001b[1;31mTypeError\u001b[0m                                 Traceback (most recent call last)",
      "\u001b[1;32m<ipython-input-27-7b42e7030928>\u001b[0m in \u001b[0;36m<module>\u001b[1;34m\u001b[0m\n\u001b[0;32m      4\u001b[0m \u001b[1;33m\u001b[0m\u001b[0m\n\u001b[0;32m      5\u001b[0m \u001b[0madd\u001b[0m \u001b[1;33m=\u001b[0m \u001b[1;36m10\u001b[0m\u001b[1;33m\u001b[0m\u001b[1;33m\u001b[0m\u001b[0m\n\u001b[1;32m----> 6\u001b[1;33m \u001b[0madd\u001b[0m\u001b[1;33m(\u001b[0m\u001b[1;33m)\u001b[0m\u001b[1;33m\u001b[0m\u001b[1;33m\u001b[0m\u001b[0m\n\u001b[0m",
      "\u001b[1;31mTypeError\u001b[0m: 'int' object is not callable"
     ]
    }
   ],
   "source": [
    "# 2. При ЗАТЕНЕНИИ имен функций - затеняется и содержимое\n",
    "def add():\n",
    "    print(2 + 3)\n",
    "    \n",
    "add = 10\n",
    "add()"
   ]
  },
  {
   "cell_type": "markdown",
   "metadata": {},
   "source": [
    "## 3. Простейшие функции с ВХОДНЫМИ параметрами/аргументами"
   ]
  },
  {
   "cell_type": "code",
   "execution_count": 37,
   "metadata": {},
   "outputs": [
    {
     "name": "stdout",
     "output_type": "stream",
     "text": [
      "10\n",
      "20\n",
      "Result: 7500.0\n",
      "Result: -1\n"
     ]
    }
   ],
   "source": [
    "def add(a, b):\n",
    "    res = a**2 + b**3 - 3*a*b\n",
    "    print(\"Result:\", res)\n",
    "\n",
    "param1, param2 = float(input()), float(input())\n",
    "add(param1, param2)\n",
    "add(2, 1)"
   ]
  },
  {
   "cell_type": "markdown",
   "metadata": {},
   "source": [
    "## 3.1 Простейший возврат значений"
   ]
  },
  {
   "cell_type": "code",
   "execution_count": 40,
   "metadata": {},
   "outputs": [
    {
     "name": "stdout",
     "output_type": "stream",
     "text": [
      "123600\n"
     ]
    }
   ],
   "source": [
    "def add(a, b):\n",
    "    res = a**2 + b**3 - 3*a*b\n",
    "    return res \n",
    "\n",
    "default_result = add(10, 50)\n",
    "print(default_result)"
   ]
  },
  {
   "cell_type": "code",
   "execution_count": 42,
   "metadata": {},
   "outputs": [
    {
     "name": "stdout",
     "output_type": "stream",
     "text": [
      "[1, 2, 3, 4, 5, 10]\n"
     ]
    }
   ],
   "source": [
    "lst = [2,5,4,3,1,10]\n",
    "result = sorted(lst)\n",
    "print(result)"
   ]
  },
  {
   "cell_type": "code",
   "execution_count": 44,
   "metadata": {},
   "outputs": [
    {
     "name": "stdout",
     "output_type": "stream",
     "text": [
      "Привет из функции!\n"
     ]
    }
   ],
   "source": [
    "# Решение задачи G\n",
    "def hello():\n",
    "    print(\"Привет из функции!\")\n",
    "    \n",
    "hello()"
   ]
  },
  {
   "cell_type": "code",
   "execution_count": 45,
   "metadata": {},
   "outputs": [
    {
     "name": "stdout",
     "output_type": "stream",
     "text": [
      "10\n",
      "20\n",
      "200\n"
     ]
    }
   ],
   "source": [
    "# Решение задачи H\n",
    "def multiply(a,b):\n",
    "    return a * b\n",
    "\n",
    "x_arg, y_arg = int(input().strip()), int(input().strip())\n",
    "res = multiply(x_arg, y_arg)\n",
    "print(res)"
   ]
  },
  {
   "cell_type": "markdown",
   "metadata": {},
   "source": [
    "## 3.2 Использование уже определнных функций в телах других функций"
   ]
  },
  {
   "cell_type": "code",
   "execution_count": 51,
   "metadata": {},
   "outputs": [
    {
     "name": "stdout",
     "output_type": "stream",
     "text": [
      "200\n"
     ]
    }
   ],
   "source": [
    "# Хотим подсчитать площадь прямоугольника со сторонами width, length\n",
    "\n",
    "def multiply(a,b): \n",
    "    return a * b\n",
    "\n",
    "def rectangle_area(width, length):\n",
    "    result = multiply(width, length)\n",
    "    return result\n",
    "\n",
    "\n",
    "print(rectangle_area(10, 20))\n",
    "\n"
   ]
  },
  {
   "cell_type": "markdown",
   "metadata": {},
   "source": [
    "# Попробуем создать полезную функцию"
   ]
  },
  {
   "cell_type": "code",
   "execution_count": 53,
   "metadata": {},
   "outputs": [
    {
     "name": "stdout",
     "output_type": "stream",
     "text": [
      "0! = 1\n",
      "1! = 1\n",
      "2! = 2\n",
      "3! = 6\n",
      "4! = 24\n",
      "5! = 120\n",
      "6! = 720\n",
      "7! = 5040\n",
      "8! = 40320\n",
      "9! = 362880\n",
      "10! = 3628800\n",
      "11! = 39916800\n",
      "12! = 479001600\n",
      "13! = 6227020800\n",
      "14! = 87178291200\n"
     ]
    }
   ],
   "source": [
    "def factorial(n):\n",
    "    if n <= 1:\n",
    "        return 1\n",
    "    else:\n",
    "        res = 1\n",
    "        for i in range(1, n+1):\n",
    "            res *= i\n",
    "        return res\n",
    "    \n",
    "for i in range(0, 15):\n",
    "    print(f\"{i}! = {factorial(i)}\")"
   ]
  },
  {
   "cell_type": "code",
   "execution_count": 55,
   "metadata": {},
   "outputs": [
    {
     "name": "stdout",
     "output_type": "stream",
     "text": [
      "10\n",
      "4\n",
      "210\n"
     ]
    }
   ],
   "source": [
    "# Решение задачи I\n",
    "def factorial(n):\n",
    "    if n <= 1:\n",
    "        return 1\n",
    "    else:\n",
    "        res = 1\n",
    "        for i in range(1, n+1):\n",
    "            res *= i\n",
    "        return res\n",
    "    \n",
    "def combination(n ,m):\n",
    "    result = factorial(n) / (factorial(m) * factorial(n - m))\n",
    "    return int(result)\n",
    "\n",
    "a, b = int(input().strip()), int(input().strip())\n",
    "res = combination(a, b)\n",
    "\n",
    "print(res)\n"
   ]
  },
  {
   "cell_type": "markdown",
   "metadata": {},
   "source": [
    "## 4. Рекурсивный вызов"
   ]
  },
  {
   "cell_type": "code",
   "execution_count": 57,
   "metadata": {},
   "outputs": [
    {
     "name": "stdout",
     "output_type": "stream",
     "text": [
      "0! = 1 and rec factorial is 1\n",
      "1! = 1 and rec factorial is 1\n",
      "2! = 2 and rec factorial is 2\n",
      "3! = 6 and rec factorial is 6\n",
      "4! = 24 and rec factorial is 24\n",
      "5! = 120 and rec factorial is 120\n",
      "6! = 720 and rec factorial is 720\n",
      "7! = 5040 and rec factorial is 5040\n",
      "8! = 40320 and rec factorial is 40320\n",
      "9! = 362880 and rec factorial is 362880\n",
      "10! = 3628800 and rec factorial is 3628800\n",
      "11! = 39916800 and rec factorial is 39916800\n",
      "12! = 479001600 and rec factorial is 479001600\n",
      "13! = 6227020800 and rec factorial is 6227020800\n",
      "14! = 87178291200 and rec factorial is 87178291200\n"
     ]
    }
   ],
   "source": [
    "def factorial(n):\n",
    "    if n <= 1:\n",
    "        return 1\n",
    "    else:\n",
    "        res = 1\n",
    "        for i in range(1, n+1):\n",
    "            res *= i\n",
    "        return res\n",
    "    \n",
    "def factorial_rec(n):\n",
    "    if n <= 1:\n",
    "        return 1\n",
    "    return factorial_rec(n - 1) * n\n",
    "\n",
    "for i in range(0, 15):\n",
    "    print(f\"{i}! = {factorial(i)} and rec factorial is {factorial_rec(i)}\")"
   ]
  },
  {
   "cell_type": "markdown",
   "metadata": {},
   "source": [
    "## 5.  Виды аргументов функций и возвращаемые значения\n",
    "* В `Python` функции не типизированы (нет типа для входных параметров, нет типа выходного параметра).\n",
    "* Функция возвращает какое-либо значение:\n",
    "\n",
    "```py\n",
    "\"\"\"\n",
    "Примеры функций, возвращающих какие-либо значения\n",
    "* Явный возврат не пустого значения\n",
    "        * Сначала вычисляется выражение, стоящее справа от return\n",
    "        * Затем данная конструкция прерывает выполнение тела функции\n",
    "        * На вызывающую сторону отдается вычисленное значение\n",
    "        * К телу функции больше нет доступа\n",
    "\n",
    "* Функции в Python всегда возвращают что-то:\n",
    "    * Если справа от return указано какое-то выражение - будет возвращен вычисленные результат\n",
    "    * Если справа от return ничего нет ИЛИ return отсутсвует в теле функции - будет возвращаено None\n",
    "\"\"\"\n",
    "```"
   ]
  },
  {
   "cell_type": "code",
   "execution_count": 59,
   "metadata": {},
   "outputs": [
    {
     "name": "stdout",
     "output_type": "stream",
     "text": [
      "25\n"
     ]
    }
   ],
   "source": [
    "def square_sum(a, b):\n",
    "    \"\"\"\n",
    "    Подсчитывает квадрат суммы аргументов\n",
    "    \"\"\"\n",
    "    return abs((a  + b) ** 2)\n",
    "\n",
    "r = square_sum(2,3)\n",
    "print(r)"
   ]
  },
  {
   "cell_type": "code",
   "execution_count": 61,
   "metadata": {},
   "outputs": [
    {
     "name": "stdout",
     "output_type": "stream",
     "text": [
      "5\n"
     ]
    }
   ],
   "source": [
    "def add(a,b):\n",
    "    return a + b\n",
    "    # return None\n",
    "    \n",
    "res = add(2,3)\n",
    "print(res)"
   ]
  },
  {
   "cell_type": "code",
   "execution_count": 62,
   "metadata": {},
   "outputs": [
    {
     "name": "stdout",
     "output_type": "stream",
     "text": [
      "1 2 3\n"
     ]
    }
   ],
   "source": [
    "# Имитация множественного возврата значений из функций\n",
    "def get_point():\n",
    "    return (1, 2, 3)\n",
    "\n",
    "x, y, z = get_point()\n",
    "print(x, y, z)"
   ]
  },
  {
   "cell_type": "code",
   "execution_count": 64,
   "metadata": {},
   "outputs": [
    {
     "name": "stdout",
     "output_type": "stream",
     "text": [
      "Result square_sum is: 625\n",
      "25\n",
      "Result add is: None\n",
      "5\n",
      "Result sub is: None\n",
      "Result sort: None\n",
      "[-1, 10, 20, 30]\n"
     ]
    }
   ],
   "source": [
    "def square_sum(a, b):\n",
    "    \"\"\"\n",
    "    Подсчитывает квадрат суммы аргументов\n",
    "    \"\"\"\n",
    "    return abs((a  + b) ** 2)\n",
    "\n",
    "def add(a, b):\n",
    "    \"\"\"\n",
    "    Сложение аргументов, ничего не возвращает\n",
    "    \"\"\"\n",
    "    result = a + b\n",
    "    print(result)\n",
    "\n",
    "def sub(a, b):\n",
    "    \"\"\"\n",
    "    Разность аргументов\n",
    "    \"\"\"\n",
    "    result = a - b\n",
    "    if result % 2 == 0:\n",
    "        print(\"Before empty return\")\n",
    "        return # Также по умолчанию возвращается None\n",
    "    print(result)\n",
    "\n",
    "def main():\n",
    "    \"\"\"\n",
    "    entry point\n",
    "    \"\"\"\n",
    "    x, y = 15, 10\n",
    "    res = square_sum(x , y)\n",
    "    print(\"Result square_sum is:\", res)\n",
    "\n",
    "    res2 = add(x, y)\n",
    "    print(\"Result add is:\", res2)\n",
    "\n",
    "    res3 = sub(x, y)\n",
    "    print(\"Result sub is:\", res3)\n",
    "\n",
    "    lst = [10, 20, 30, -1]\n",
    "    res4 = lst.sort()\n",
    "    print(\"Result sort:\", res4)\n",
    "    print(lst)\n",
    "\n",
    "main()"
   ]
  },
  {
   "cell_type": "markdown",
   "metadata": {},
   "source": [
    "## 6. Аргументы\n",
    "\n",
    "* `Required Positional Args` \n",
    "* `Default Value Args`\n",
    "* `Variadic Args`"
   ]
  },
  {
   "cell_type": "markdown",
   "metadata": {},
   "source": [
    "# 6.1. RP аргументы"
   ]
  },
  {
   "cell_type": "code",
   "execution_count": 70,
   "metadata": {},
   "outputs": [
    {
     "name": "stdout",
     "output_type": "stream",
     "text": [
      "764\n",
      "-132\n"
     ]
    }
   ],
   "source": [
    "def add(a, b):\n",
    "    return a**2 + b**3 - 2*a*b*6\n",
    "\n",
    "# 1. Порядок перечисления аргументов в случае использовая RP - важен! (позициональность)\n",
    "print(add(2, 10))\n",
    "print(add(10, 2))\n",
    "\n",
    "# 2. Если указано на входе n аргументов - значит передавать нужно ровно n аргументов (необходимость)\n",
    "#add(1)\n",
    "#add(10, 20, 30)"
   ]
  },
  {
   "cell_type": "markdown",
   "metadata": {},
   "source": [
    "## 6.2 Аргументы с значением по умолчанию (Default Values)"
   ]
  },
  {
   "cell_type": "code",
   "execution_count": 72,
   "metadata": {},
   "outputs": [
    {
     "name": "stdout",
     "output_type": "stream",
     "text": [
      "10 + 20 =  30\n",
      "10 + ? =  14\n",
      "? + ? =  7\n"
     ]
    }
   ],
   "source": [
    "def add(a = 3, b = 4):\n",
    "    return a + b\n",
    "\n",
    "\n",
    "print(\"10 + 20 = \", add(10, 20))\n",
    "print(\"10 + ? = \", add(10))\n",
    "print(\"? + ? = \", add())"
   ]
  },
  {
   "cell_type": "markdown",
   "metadata": {},
   "source": [
    "## 6.3 смешивание RP и Default Values args"
   ]
  },
  {
   "cell_type": "code",
   "execution_count": 78,
   "metadata": {},
   "outputs": [
    {
     "name": "stdout",
     "output_type": "stream",
     "text": [
      "64930\n",
      "957\n",
      "61\n"
     ]
    }
   ],
   "source": [
    "def add(a,  b, c = 2, d = 3): # ОБЯЗАТЕЛЬНО ЧТОБЫ DEFAULT VALUES указывались исключительно в конце!\n",
    "    return a + b + c ** 2 + d ** 3\n",
    "\n",
    "print(add(10, 20, c = 30, d = 40)) # Явное именованное назначение аргументов с defaul values\n",
    "print(add(10, 20, c = 30))\n",
    "print(add(10, 20))"
   ]
  },
  {
   "cell_type": "markdown",
   "metadata": {},
   "source": [
    "## 6.4 Документирование и аннотирование кода"
   ]
  },
  {
   "cell_type": "code",
   "execution_count": 85,
   "metadata": {},
   "outputs": [
    {
     "name": "stdout",
     "output_type": "stream",
     "text": [
      "4\n",
      "0! = 1\n",
      "1! = 1\n",
      "2! = 2\n",
      "3! = 6\n",
      "4! = 24\n"
     ]
    }
   ],
   "source": [
    "def factorial(n):\n",
    "    res = 1\n",
    "    if n <= 1:\n",
    "        return res\n",
    "    for i in range(2, n+1):\n",
    "        res *= i\n",
    "    return res\n",
    "\n",
    "\n",
    "def main():\n",
    "    n = int(input().strip())\n",
    "    #if type(n) == int:\n",
    "    for i in range(n+1):\n",
    "        print(f\"{i}! = {factorial(i)}\")\n",
    "    \n",
    "main()"
   ]
  },
  {
   "cell_type": "code",
   "execution_count": 2,
   "metadata": {},
   "outputs": [
    {
     "name": "stdout",
     "output_type": "stream",
     "text": [
      "7\n",
      "8.0\n",
      "4.5\n",
      "helloworld\n",
      "[10, 20, 30, 40]\n",
      "(10, 20, 30, 40, 50, 60)\n"
     ]
    }
   ],
   "source": [
    "# Основное требование - однозначность!!!!!\n",
    "# Как добиться однозначности от явной функции?\n",
    "# 0) комментарии через #\n",
    "# 1) проверка типов в теле функции\n",
    "# 3) Использование строк документации (docstrings)\n",
    "# 4) Аннотирование (указать !желаемые! типы входных параметров)\n",
    "\n",
    "def add(a:int, b:int) -> int:\n",
    "    \"\"\"\n",
    "    Функция add предназначена для сложения целых чисел\n",
    "    INPUT:\n",
    "        a - int\n",
    "        b - int\n",
    "    RETURN:\n",
    "        a + b (int)\n",
    "    \"\"\"\n",
    "    return a + b\n",
    "\n",
    "print(add( 2,5))\n",
    "print(add(2.5, 5.5))\n",
    "print(add(2, 2.5))\n",
    "print(add(\"hello\", \"world\"))\n",
    "print(add([10, 20], [30, 40]))\n",
    "print(add((10, 20, 30), (40, 50, 60)))\n"
   ]
  },
  {
   "cell_type": "code",
   "execution_count": 95,
   "metadata": {},
   "outputs": [
    {
     "name": "stdout",
     "output_type": "stream",
     "text": [
      "True\n",
      "True\n"
     ]
    }
   ],
   "source": [
    "aarg = 10\n",
    "print(type(aarg) == int)\n",
    "print(type(aarg) != float)"
   ]
  },
  {
   "cell_type": "markdown",
   "metadata": {},
   "source": [
    "## Континуальные типы аргументов"
   ]
  },
  {
   "cell_type": "code",
   "execution_count": null,
   "metadata": {},
   "outputs": [],
   "source": [
    "print(1)\n",
    "print(1,2)\n",
    "print(1,2,2,2,2,2,2,2,2,2,2,2,2,2,2,2,2,2,2)"
   ]
  },
  {
   "cell_type": "code",
   "execution_count": 11,
   "metadata": {},
   "outputs": [
    {
     "name": "stdout",
     "output_type": "stream",
     "text": [
      "(1, 2, 2, 3, 3, 4, 1, 1, 32, 12, 4, 141, 3, 1, 13, 1, 3, 1, 131)\n",
      "1 2 2 3 3 4 1 1 32 12 4 141 3 1 13 1 3 1 131 \n"
     ]
    }
   ],
   "source": [
    "def my_print(*args:int) -> None:\n",
    "    print(args)\n",
    "    s = \"\"\n",
    "    for elem in args:\n",
    "        s += str(elem) + \" \"\n",
    "    print(s)\n",
    "    \n",
    "# my_print(1,2,3,4)\n",
    "# my_print()\n",
    "# my_print(1,2)\n",
    "my_print(1,2,2,3,3,4,1,1,32,12,4,141,3,1,13,1,3,1,131,)"
   ]
  },
  {
   "cell_type": "code",
   "execution_count": 13,
   "metadata": {},
   "outputs": [
    {
     "name": "stdout",
     "output_type": "stream",
     "text": [
      "{'a': 10, 'b': 20, 'c': 30, 'cat': 'cat', 'dog': 'zebra', 'is_reversed': None}\n",
      "a 10\n",
      "b 20\n",
      "c 30\n",
      "cat cat\n",
      "dog zebra\n",
      "is_reversed None\n"
     ]
    }
   ],
   "source": [
    "def my_func(**kwargs):\n",
    "    print(kwargs)\n",
    "    for k, v in kwargs.items():\n",
    "        print(k, v)\n",
    "        \n",
    "my_func(a=10, b=20, c= 30, cat=\"cat\", dog=\"zebra\", is_reversed=None)"
   ]
  },
  {
   "cell_type": "code",
   "execution_count": 14,
   "metadata": {},
   "outputs": [],
   "source": [
    "def my_mutant(*args, **kwargs):\n",
    "    print(args)\n",
    "    print(kwargs)"
   ]
  },
  {
   "cell_type": "code",
   "execution_count": 17,
   "metadata": {},
   "outputs": [
    {
     "name": "stdout",
     "output_type": "stream",
     "text": [
      "(1, 2, 3, 4, None)\n",
      "{'a': 2, 'b': 3, 'c': 4}\n"
     ]
    }
   ],
   "source": [
    "my_mutant(1,2,3,4,None, a=2, b=3, c=4)"
   ]
  },
  {
   "cell_type": "code",
   "execution_count": 18,
   "metadata": {},
   "outputs": [
    {
     "name": "stdout",
     "output_type": "stream",
     "text": [
      "21\n",
      "720\n"
     ]
    }
   ],
   "source": [
    "def calculation(*args:int, sign:str = \"+\") -> int:\n",
    "    \"\"\"\n",
    "    Здесь будет документация по функции\n",
    "    \"\"\"\n",
    "    if sign == \"+\":\n",
    "        res = 0\n",
    "        for elem in args:\n",
    "            res += elem\n",
    "        return res\n",
    "    elif sign == \"*\":\n",
    "        res = 1\n",
    "        for elem in args:\n",
    "            res *= elem\n",
    "        return res\n",
    "    \n",
    "print(calculation(1,2,3,4,5,6))\n",
    "print(calculation(2,3,4,5,6, sign=\"*\"))"
   ]
  },
  {
   "cell_type": "code",
   "execution_count": null,
   "metadata": {},
   "outputs": [],
   "source": []
  }
 ],
 "metadata": {
  "kernelspec": {
   "display_name": "Python 3",
   "language": "python",
   "name": "python3"
  },
  "language_info": {
   "codemirror_mode": {
    "name": "ipython",
    "version": 3
   },
   "file_extension": ".py",
   "mimetype": "text/x-python",
   "name": "python",
   "nbconvert_exporter": "python",
   "pygments_lexer": "ipython3",
   "version": "3.9.1"
  }
 },
 "nbformat": 4,
 "nbformat_minor": 4
}
