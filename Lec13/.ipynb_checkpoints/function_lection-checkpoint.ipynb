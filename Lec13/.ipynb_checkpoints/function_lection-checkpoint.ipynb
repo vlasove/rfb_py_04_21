{
 "cells": [
  {
   "cell_type": "markdown",
   "metadata": {},
   "source": [
    "## Явные функции. Начало"
   ]
  },
  {
   "cell_type": "code",
   "execution_count": 3,
   "metadata": {},
   "outputs": [
    {
     "name": "stdout",
     "output_type": "stream",
     "text": [
      "Hello Bobby\n",
      "Bobby is 17 years old\n",
      "Hello Bobby\n",
      "Bob is 17 years old\n",
      "Hello Bobby\n",
      "Bob is 17 years old\n",
      "Hello Bobby\n",
      "Bob is 17 years old\n",
      "Hello Bobby\n",
      "Bob is 17 years old\n",
      "Hello Bobby\n",
      "Bob is 17 years old\n",
      "Hello Bobby\n",
      "Bob is 17 years old\n",
      "Hello Bobby\n",
      "Bob is 17 years old\n",
      "Hello Bobby\n",
      "Bob is 17 years old\n",
      "Hello Bobby\n",
      "Bob is 17 years old\n",
      "Hello Bobby\n",
      "Bob is 17 years old\n",
      "Done\n",
      "Hello Bobby\n",
      "Bobby is 17 years old\n"
     ]
    }
   ],
   "source": [
    "print(\"Hello\", \"Bobby\")\n",
    "print(\"Bobby\", \"is 17 years old\")\n",
    "\n",
    "i = 0\n",
    "while True:\n",
    "    i+=1\n",
    "    if i > 10:\n",
    "        break\n",
    "    else:\n",
    "        print(\"Hello\", \"Bobby\")\n",
    "        print(\"Bob\", \"is 17 years old\")\n",
    "\n",
    "\n",
    "print(\"Done\")\n",
    "print(\"Hello\", \"Bobby\")\n",
    "print(\"Bobby\", \"is 17 years old\")"
   ]
  },
  {
   "cell_type": "markdown",
   "metadata": {},
   "source": [
    "* Проблема: явное дублирование кода приводит к размазыванию ошибочной логики по всему коду (долго искать, долго исправлять)\n",
    "    * явное дублирование провоцирующее исправления может привести к появлению большего количества багов\n",
    "\n",
    "* Предложение - вынесем повторяющий блок кода в отдельное место и будем к нему обращаться по мере необходимости"
   ]
  },
  {
   "cell_type": "code",
   "execution_count": 7,
   "metadata": {},
   "outputs": [
    {
     "name": "stdout",
     "output_type": "stream",
     "text": [
      "Ho Bobby\n",
      "Bobby is 18 years old\n",
      "Ho Bobby\n",
      "Bobby is 18 years old\n",
      "Ho Bobby\n",
      "Bobby is 18 years old\n",
      "Ho Bobby\n",
      "Bobby is 18 years old\n",
      "Ho Bobby\n",
      "Bobby is 18 years old\n",
      "Ho Bobby\n",
      "Bobby is 18 years old\n",
      "Ho Bobby\n",
      "Bobby is 18 years old\n",
      "Ho Bobby\n",
      "Bobby is 18 years old\n",
      "Ho Bobby\n",
      "Bobby is 18 years old\n",
      "Ho Bobby\n",
      "Bobby is 18 years old\n",
      "Ho Bobby\n",
      "Bobby is 18 years old\n",
      "Done\n",
      "Ho Bobby\n",
      "Bobby is 18 years old\n"
     ]
    }
   ],
   "source": [
    "def hello(): # явная функция hello\n",
    "    print(\"Ho\", \"Bobby\")\n",
    "    print(\"Bobby\", \"is 18 years old\")\n",
    "\n",
    "hello()\n",
    "i = 0\n",
    "while True:\n",
    "    i+=1\n",
    "    if i > 10:\n",
    "        break\n",
    "    else:\n",
    "        hello()\n",
    "\n",
    "\n",
    "print(\"Done\")\n",
    "hello()"
   ]
  },
  {
   "cell_type": "markdown",
   "metadata": {},
   "source": [
    "### 2. Синтаксис и особенности явных функций\n"
   ]
  },
  {
   "cell_type": "code",
   "execution_count": 23,
   "metadata": {},
   "outputs": [
    {
     "name": "stdout",
     "output_type": "stream",
     "text": [
      "Greetings!\n",
      "Second line!\n",
      "10 > 5\n",
      "2\n",
      "3\n",
      "4\n",
      "<class 'function'>\n",
      "<function hello at 0x000001B0395B6CA0>\n"
     ]
    }
   ],
   "source": [
    "# Блок определения/инициаилизации функции\n",
    "def hello():\n",
    "     print(\"Greetings!\")\n",
    "     print(\"Second line!\")\n",
    "     if 10 > 5:\n",
    "            print(\"10 > 5\")\n",
    "\n",
    "     for i in range(1, 4):\n",
    "            print(i + 1)\n",
    "    \n",
    "# При работе с явной функцией существует 4 важных блока\n",
    "# 1.0) Ключевое слово def - обязательно для ОПРЕДЕЛЕНИЯ явной функции\n",
    "# 1.1) Имя функции\n",
    "# 1.2) Скобки круглые + НЕОБЯЗАТЕЛЬНО параметры/аргументы функции\n",
    "# 1.3) Тело функции (ОБЯЗАТЕЛЬНО НАЛИЧИЕ ХОТЯ БЫ 1 ДЕЙСТВИЯ)\n",
    "\n",
    "# 1.4) Вызов явной функции!\n",
    "hello()\n",
    "\n",
    "# Что такое функция с точки зрения интерпретатора? Это объект\n",
    "print(type(hello))\n",
    "print(hello) # hello и hello()"
   ]
  },
  {
   "cell_type": "code",
   "execution_count": 26,
   "metadata": {},
   "outputs": [
    {
     "ename": "NameError",
     "evalue": "name 'my_calc' is not defined",
     "output_type": "error",
     "traceback": [
      "\u001b[1;31m---------------------------------------------------------------------------\u001b[0m",
      "\u001b[1;31mNameError\u001b[0m                                 Traceback (most recent call last)",
      "\u001b[1;32m<ipython-input-26-10da342d6eab>\u001b[0m in \u001b[0;36m<module>\u001b[1;34m\u001b[0m\n\u001b[0;32m      1\u001b[0m \u001b[1;31m# 1. ВЫЗОВ функции возможен ИСКЛЮЧИТЕЛЬНО после ее определения\u001b[0m\u001b[1;33m\u001b[0m\u001b[1;33m\u001b[0m\u001b[1;33m\u001b[0m\u001b[0m\n\u001b[1;32m----> 2\u001b[1;33m \u001b[0mmy_calc\u001b[0m\u001b[1;33m(\u001b[0m\u001b[1;33m)\u001b[0m\u001b[1;33m\u001b[0m\u001b[1;33m\u001b[0m\u001b[0m\n\u001b[0m\u001b[0;32m      3\u001b[0m \u001b[1;33m\u001b[0m\u001b[0m\n\u001b[0;32m      4\u001b[0m \u001b[1;32mdef\u001b[0m \u001b[0mmy_calc\u001b[0m\u001b[1;33m(\u001b[0m\u001b[1;33m)\u001b[0m\u001b[1;33m:\u001b[0m\u001b[1;33m\u001b[0m\u001b[1;33m\u001b[0m\u001b[0m\n\u001b[0;32m      5\u001b[0m     \u001b[0mprint\u001b[0m\u001b[1;33m(\u001b[0m\u001b[1;34m\"it's calculation\"\u001b[0m\u001b[1;33m)\u001b[0m\u001b[1;33m\u001b[0m\u001b[1;33m\u001b[0m\u001b[0m\n",
      "\u001b[1;31mNameError\u001b[0m: name 'my_calc' is not defined"
     ]
    }
   ],
   "source": [
    "# 1. ВЫЗОВ функции возможен ИСКЛЮЧИТЕЛЬНО после ее определения\n",
    "my_calc()\n",
    "\n",
    "def my_calc():\n",
    "    print(\"it's calculation\")"
   ]
  },
  {
   "cell_type": "code",
   "execution_count": 27,
   "metadata": {},
   "outputs": [
    {
     "ename": "TypeError",
     "evalue": "'int' object is not callable",
     "output_type": "error",
     "traceback": [
      "\u001b[1;31m---------------------------------------------------------------------------\u001b[0m",
      "\u001b[1;31mTypeError\u001b[0m                                 Traceback (most recent call last)",
      "\u001b[1;32m<ipython-input-27-7b42e7030928>\u001b[0m in \u001b[0;36m<module>\u001b[1;34m\u001b[0m\n\u001b[0;32m      4\u001b[0m \u001b[1;33m\u001b[0m\u001b[0m\n\u001b[0;32m      5\u001b[0m \u001b[0madd\u001b[0m \u001b[1;33m=\u001b[0m \u001b[1;36m10\u001b[0m\u001b[1;33m\u001b[0m\u001b[1;33m\u001b[0m\u001b[0m\n\u001b[1;32m----> 6\u001b[1;33m \u001b[0madd\u001b[0m\u001b[1;33m(\u001b[0m\u001b[1;33m)\u001b[0m\u001b[1;33m\u001b[0m\u001b[1;33m\u001b[0m\u001b[0m\n\u001b[0m",
      "\u001b[1;31mTypeError\u001b[0m: 'int' object is not callable"
     ]
    }
   ],
   "source": [
    "# 2. При ЗАТЕНЕНИИ имен функций - затеняется и содержимое\n",
    "def add():\n",
    "    print(2 + 3)\n",
    "    \n",
    "add = 10\n",
    "add()"
   ]
  },
  {
   "cell_type": "markdown",
   "metadata": {},
   "source": [
    "## 3. Простейшие функции с ВХОДНЫМИ параметрами/аргументами"
   ]
  },
  {
   "cell_type": "code",
   "execution_count": 37,
   "metadata": {},
   "outputs": [
    {
     "name": "stdout",
     "output_type": "stream",
     "text": [
      "10\n",
      "20\n",
      "Result: 7500.0\n",
      "Result: -1\n"
     ]
    }
   ],
   "source": [
    "def add(a, b):\n",
    "    res = a**2 + b**3 - 3*a*b\n",
    "    print(\"Result:\", res)\n",
    "\n",
    "param1, param2 = float(input()), float(input())\n",
    "add(param1, param2)\n",
    "add(2, 1)"
   ]
  },
  {
   "cell_type": "markdown",
   "metadata": {},
   "source": [
    "## 3.1 Простейший возврат значений"
   ]
  },
  {
   "cell_type": "code",
   "execution_count": 40,
   "metadata": {},
   "outputs": [
    {
     "name": "stdout",
     "output_type": "stream",
     "text": [
      "123600\n"
     ]
    }
   ],
   "source": [
    "def add(a, b):\n",
    "    res = a**2 + b**3 - 3*a*b\n",
    "    return res \n",
    "\n",
    "default_result = add(10, 50)\n",
    "print(default_result)"
   ]
  },
  {
   "cell_type": "code",
   "execution_count": 42,
   "metadata": {},
   "outputs": [
    {
     "name": "stdout",
     "output_type": "stream",
     "text": [
      "[1, 2, 3, 4, 5, 10]\n"
     ]
    }
   ],
   "source": [
    "lst = [2,5,4,3,1,10]\n",
    "result = sorted(lst)\n",
    "print(result)"
   ]
  },
  {
   "cell_type": "code",
   "execution_count": 44,
   "metadata": {},
   "outputs": [
    {
     "name": "stdout",
     "output_type": "stream",
     "text": [
      "Привет из функции!\n"
     ]
    }
   ],
   "source": [
    "# Решение задачи G\n",
    "def hello():\n",
    "    print(\"Привет из функции!\")\n",
    "    \n",
    "hello()"
   ]
  },
  {
   "cell_type": "code",
   "execution_count": 45,
   "metadata": {},
   "outputs": [
    {
     "name": "stdout",
     "output_type": "stream",
     "text": [
      "10\n",
      "20\n",
      "200\n"
     ]
    }
   ],
   "source": [
    "# Решение задачи H\n",
    "def multiply(a,b):\n",
    "    return a * b\n",
    "\n",
    "x_arg, y_arg = int(input().strip()), int(input().strip())\n",
    "res = multiply(x_arg, y_arg)\n",
    "print(res)"
   ]
  },
  {
   "cell_type": "markdown",
   "metadata": {},
   "source": [
    "## 3.2 Использование уже определнных функций в телах других функций"
   ]
  },
  {
   "cell_type": "code",
   "execution_count": 51,
   "metadata": {},
   "outputs": [
    {
     "name": "stdout",
     "output_type": "stream",
     "text": [
      "200\n"
     ]
    }
   ],
   "source": [
    "# Хотим подсчитать площадь прямоугольника со сторонами width, length\n",
    "\n",
    "def multiply(a,b): \n",
    "    return a * b\n",
    "\n",
    "def rectangle_area(width, length):\n",
    "    result = multiply(width, length)\n",
    "    return result\n",
    "\n",
    "\n",
    "print(rectangle_area(10, 20))\n",
    "\n"
   ]
  },
  {
   "cell_type": "markdown",
   "metadata": {},
   "source": [
    "# Попробуем создать полезную функцию"
   ]
  },
  {
   "cell_type": "code",
   "execution_count": 53,
   "metadata": {},
   "outputs": [
    {
     "name": "stdout",
     "output_type": "stream",
     "text": [
      "0! = 1\n",
      "1! = 1\n",
      "2! = 2\n",
      "3! = 6\n",
      "4! = 24\n",
      "5! = 120\n",
      "6! = 720\n",
      "7! = 5040\n",
      "8! = 40320\n",
      "9! = 362880\n",
      "10! = 3628800\n",
      "11! = 39916800\n",
      "12! = 479001600\n",
      "13! = 6227020800\n",
      "14! = 87178291200\n"
     ]
    }
   ],
   "source": [
    "def factorial(n):\n",
    "    if n <= 1:\n",
    "        return 1\n",
    "    else:\n",
    "        res = 1\n",
    "        for i in range(1, n+1):\n",
    "            res *= i\n",
    "        return res\n",
    "    \n",
    "for i in range(0, 15):\n",
    "    print(f\"{i}! = {factorial(i)}\")"
   ]
  },
  {
   "cell_type": "code",
   "execution_count": null,
   "metadata": {},
   "outputs": [],
   "source": []
  }
 ],
 "metadata": {
  "kernelspec": {
   "display_name": "Python 3",
   "language": "python",
   "name": "python3"
  },
  "language_info": {
   "codemirror_mode": {
    "name": "ipython",
    "version": 3
   },
   "file_extension": ".py",
   "mimetype": "text/x-python",
   "name": "python",
   "nbconvert_exporter": "python",
   "pygments_lexer": "ipython3",
   "version": "3.9.1"
  }
 },
 "nbformat": 4,
 "nbformat_minor": 4
}
