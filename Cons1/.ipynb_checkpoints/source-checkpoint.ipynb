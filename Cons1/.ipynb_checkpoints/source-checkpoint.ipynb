{
 "cells": [
  {
   "cell_type": "code",
   "execution_count": 8,
   "metadata": {},
   "outputs": [
    {
     "name": "stdout",
     "output_type": "stream",
     "text": [
      "1\n",
      "50\n",
      "2\n",
      "30\n",
      "4\n",
      "90\n",
      "17700/135000\n",
      "59/450\n"
     ]
    }
   ],
   "source": [
    "# Задача L\n",
    "n = 3\n",
    "general_numerator = 0\n",
    "general_denominator = 1 # numerator/denominator = 0/1\n",
    "\n",
    "for _ in range(n):\n",
    "    numerator = int(input())\n",
    "    denominator = int(input())\n",
    "    \n",
    "    general_numerator = (general_numerator * denominator + numerator * general_denominator)\n",
    "    general_denominator = general_denominator * denominator\n",
    "    \n",
    "print(f\"{general_numerator}/{general_denominator}\")\n",
    "\n",
    "num1 = general_numerator\n",
    "num2 = general_denominator\n",
    "\n",
    "while num1 != 0 and num2 != 0:\n",
    "        if num1 >= num2:\n",
    "            num1 %= num2\n",
    "        else:\n",
    "            num2 %= num1\n",
    "    \n",
    "gcd = 0\n",
    "if num1 != 0:\n",
    "    gcd = num1\n",
    "else:\n",
    "    gcd = num2\n",
    "print(f\"{general_numerator//gcd}/{general_denominator// gcd}\")"
   ]
  },
  {
   "cell_type": "code",
   "execution_count": 5,
   "metadata": {},
   "outputs": [
    {
     "ename": "SyntaxError",
     "evalue": "cannot assign to operator (<ipython-input-5-4155050c950a>, line 1)",
     "output_type": "error",
     "traceback": [
      "\u001b[1;36m  File \u001b[1;32m\"<ipython-input-5-4155050c950a>\"\u001b[1;36m, line \u001b[1;32m1\u001b[0m\n\u001b[1;33m    a/b + c/d = (ad + bc)/(bd)\u001b[0m\n\u001b[1;37m    ^\u001b[0m\n\u001b[1;31mSyntaxError\u001b[0m\u001b[1;31m:\u001b[0m cannot assign to operator\n"
     ]
    }
   ],
   "source": [
    "a/b + c/d = (ad + bc)/(bd)\n",
    "0/1 + 1/2 = (0*2 + 1*1)/(1*2) = 1/2\n",
    "generalN/generalD + numerator/denominator = (generalN*denominator + generalD*numerator)/(generalD*denominator)\n",
    "\n",
    "\n",
    "\n",
    "1/2 + 1/3 = 3+2/6 = 5/6 + 1/4 = 20 + 6 / 24 => 26/24"
   ]
  },
  {
   "cell_type": "code",
   "execution_count": 11,
   "metadata": {},
   "outputs": [
    {
     "name": "stdout",
     "output_type": "stream",
     "text": [
      "авангард\n",
      "СОГЛАСЕН\n"
     ]
    }
   ],
   "source": [
    "# По задачe H\n",
    "word = input()\n",
    "first_letter = word[0]\n",
    "last_letter = word[-1]\n",
    "valid = set([\"да\", \"Да\", \"дА\", \"ДА\", \"ад\", \"Ад\", \"аД\", \"АД\"])\n",
    "if first_letter + last_letter in valid:\n",
    "    print (\"СОГЛАСЕН\")\n",
    "else:\n",
    "    print(\"НЕ СОГЛАСЕН\")\n"
   ]
  },
  {
   "cell_type": "code",
   "execution_count": 13,
   "metadata": {},
   "outputs": [
    {
     "ename": "SyntaxError",
     "evalue": "invalid syntax (<ipython-input-13-a2ac4a7b8569>, line 4)",
     "output_type": "error",
     "traceback": [
      "\u001b[1;36m  File \u001b[1;32m\"<ipython-input-13-a2ac4a7b8569>\"\u001b[1;36m, line \u001b[1;32m4\u001b[0m\n\u001b[1;33m    n_iterations = ...... # подсчет количества срезов на слове\u001b[0m\n\u001b[1;37m                      ^\u001b[0m\n\u001b[1;31mSyntaxError\u001b[0m\u001b[1;31m:\u001b[0m invalid syntax\n"
     ]
    }
   ],
   "source": [
    "# Задача L\n",
    "word = input()\n",
    "n_letters = len(word)\n",
    "n_iterations = ...... # подсчет количества срезов на слове\n",
    "\n",
    "print(word)\n",
    "for i in range(n_iterations):\n",
    "    if i % 2 == 0:\n",
    "        # урезаем слева\n",
    "    else:\n",
    "        # урезаем справа"
   ]
  },
  {
   "cell_type": "code",
   "execution_count": 18,
   "metadata": {},
   "outputs": [
    {
     "name": "stdout",
     "output_type": "stream",
     "text": [
      "абвг\n",
      "абвг\n",
      "вг\n"
     ]
    }
   ],
   "source": [
    "word = input()\n",
    "\n",
    "print(word)\n",
    "while len(word) >= 3:\n",
    "        slice_word_a = word[2:]\n",
    "        print(slice_word_a)\n",
    "        length = len(slice_word_a)\n",
    "        slice_word_b = slice_word_a[0:length-2]\n",
    "        if slice_word_b == \"\":\n",
    "            break\n",
    "        print(slice_word_b)\n",
    "        word = slice_word_b\n",
    "        \n",
    "        \n",
    "\n",
    "        \n",
    "        "
   ]
  },
  {
   "cell_type": "code",
   "execution_count": 21,
   "metadata": {},
   "outputs": [
    {
     "name": "stdout",
     "output_type": "stream",
     "text": [
      "120\n",
      "120\n",
      "40\n",
      "40 1\n",
      "120 3\n"
     ]
    }
   ],
   "source": [
    "# Задача E\n",
    "#E. Наш отряд. Version 2 Петя, Витя и Митя \n",
    "\n",
    "Pet = int(input())\n",
    "Vit = int(input())\n",
    "Mit = int(input())\n",
    "\n",
    "first = (min (Pet, Vit, Mit))\n",
    "third = (max (Pet, Vit, Mit))\n",
    "#second <= third and second >= (first)\n",
    "\n",
    "print (first)\n",
    "\n",
    "if Pet != (first) and Pet != (third):\n",
    "    print (Pet)\n",
    "elif Vit != (first) and Vit != (third):\n",
    "    print (Vit)\n",
    "elif Mit != (first) and Mit!= (third):\n",
    "    print (Mit)\n",
    "\n",
    "print (third)"
   ]
  },
  {
   "cell_type": "code",
   "execution_count": 23,
   "metadata": {},
   "outputs": [
    {
     "name": "stdout",
     "output_type": "stream",
     "text": [
      "\n"
     ]
    },
    {
     "ename": "ValueError",
     "evalue": "invalid literal for int() with base 10: ''",
     "output_type": "error",
     "traceback": [
      "\u001b[1;31m---------------------------------------------------------------------------\u001b[0m",
      "\u001b[1;31mValueError\u001b[0m                                Traceback (most recent call last)",
      "\u001b[1;32m<ipython-input-23-0bb8edb113e0>\u001b[0m in \u001b[0;36m<module>\u001b[1;34m\u001b[0m\n\u001b[1;32m----> 1\u001b[1;33m \u001b[0ma\u001b[0m \u001b[1;33m=\u001b[0m \u001b[0mint\u001b[0m\u001b[1;33m(\u001b[0m\u001b[0minput\u001b[0m\u001b[1;33m(\u001b[0m\u001b[1;33m)\u001b[0m\u001b[1;33m)\u001b[0m\u001b[1;33m\u001b[0m\u001b[1;33m\u001b[0m\u001b[0m\n\u001b[0m\u001b[0;32m      2\u001b[0m \u001b[0mb\u001b[0m \u001b[1;33m=\u001b[0m \u001b[0mint\u001b[0m\u001b[1;33m(\u001b[0m\u001b[0minput\u001b[0m\u001b[1;33m(\u001b[0m\u001b[1;33m)\u001b[0m\u001b[1;33m)\u001b[0m\u001b[1;33m\u001b[0m\u001b[1;33m\u001b[0m\u001b[0m\n\u001b[0;32m      3\u001b[0m \u001b[0mc\u001b[0m \u001b[1;33m=\u001b[0m \u001b[0mint\u001b[0m\u001b[1;33m(\u001b[0m\u001b[0minput\u001b[0m\u001b[1;33m(\u001b[0m\u001b[1;33m)\u001b[0m\u001b[1;33m)\u001b[0m\u001b[1;33m\u001b[0m\u001b[1;33m\u001b[0m\u001b[0m\n\u001b[0;32m      4\u001b[0m \u001b[1;33m\u001b[0m\u001b[0m\n\u001b[0;32m      5\u001b[0m \u001b[1;32mif\u001b[0m \u001b[0ma\u001b[0m \u001b[1;33m<=\u001b[0m \u001b[0mb\u001b[0m \u001b[1;32mand\u001b[0m \u001b[0ma\u001b[0m \u001b[1;33m<=\u001b[0m \u001b[0mc\u001b[0m\u001b[1;33m:\u001b[0m \u001b[1;31m# A - наименьшее число\u001b[0m\u001b[1;33m\u001b[0m\u001b[1;33m\u001b[0m\u001b[0m\n",
      "\u001b[1;31mValueError\u001b[0m: invalid literal for int() with base 10: ''"
     ]
    }
   ],
   "source": [
    "a = int(input())\n",
    "b = int(input())\n",
    "c = int(input())\n",
    "\n",
    "if a <= b and a <= c: # A - наименьшее число\n",
    "    if b <= c: # B - второе число\n",
    "        print(a)\n",
    "        print(b)\n",
    "        print(c)\n",
    "    else: # С - второе число\n",
    "        print(a)\n",
    "        print(c)\n",
    "        print(b)\n",
    "elif b <= a and b <= c: # В - наименьшее число\n",
    "    if a <= c: # А - второе\n",
    "        print(b)\n",
    "        print(a)\n",
    "        print(c)\n",
    "    else:\n",
    "        print(b)\n",
    "        print(c)\n",
    "        print(a)\n",
    "else: # C - наименьшее число\n",
    "    if b <= c:\n",
    "        print(...)\n",
    "    else:\n",
    "        print(...)\n",
    "    "
   ]
  },
  {
   "cell_type": "code",
   "execution_count": null,
   "metadata": {},
   "outputs": [],
   "source": [
    "coord_X1 = int(input())\n",
    "coord_Y1 = int(input())\n",
    "\n",
    "coord_X2 = int(input())\n",
    "coord_Y2 = int(input())\n",
    "\n",
    "move_hor =  coord_X2 - coord_X1 # [2, -2, 1, -1]\n",
    "move_vert = coord_Y2 - coord_Y1 # [1, -1, 2, -2]\n",
    "\n",
    "\n",
    "if abs(move_hor) == 1 and abs(move_vert) == 2:\n",
    "    print (\"ДА\")\n",
    "elif abs(move_hor) == 2 and abs(move_vert) == 1:\n",
    "    print (\"ДА\")\n",
    "else:\n",
    "    print (\"НЕТ\")"
   ]
  },
  {
   "cell_type": "code",
   "execution_count": null,
   "metadata": {},
   "outputs": [],
   "source": [
    "# Условные операторы\n",
    "if expression:\n",
    "    body_A\n",
    "else:\n",
    "    body_B"
   ]
  },
  {
   "cell_type": "code",
   "execution_count": null,
   "metadata": {},
   "outputs": [],
   "source": [
    "a = 10\n",
    "a += 10\n",
    "commandA\n",
    "commandB\n",
    "\n",
    "if expression:\n",
    "    body\n",
    "    body2\n",
    "    body3\n",
    "    commandA2\n",
    "elif expression2:\n",
    "    body\n",
    "    \n",
    "commandC"
   ]
  },
  {
   "cell_type": "code",
   "execution_count": 25,
   "metadata": {},
   "outputs": [
    {
     "name": "stdout",
     "output_type": "stream",
     "text": [
      "0\n",
      "1\n",
      "2\n",
      "3\n",
      "4\n",
      "5\n",
      "6\n",
      "7\n",
      "8\n",
      "9\n",
      "10\n",
      "0\n",
      "1\n",
      "2\n",
      "3\n",
      "4\n",
      "5\n",
      "6\n",
      "7\n",
      "8\n",
      "9\n",
      "10\n"
     ]
    }
   ],
   "source": [
    "i = 0\n",
    "while i <= 10:\n",
    "    print(i) # Какието операции\n",
    "    i +=1\n",
    "    \n",
    "for i in range(0, 11, 1):\n",
    "    print(i)"
   ]
  },
  {
   "cell_type": "code",
   "execution_count": null,
   "metadata": {},
   "outputs": [],
   "source": [
    "while True:\n",
    "    card_number = input()\n",
    "    if len(card_number) != 16:\n",
    "        print(\"IVALID CAR NUMBER. TRY AGAIN\")\n",
    "        \n",
    "    if какое-то событие:\n",
    "        break\n",
    "        \n",
    "commandA\n",
    "commandB\n",
    "commandC"
   ]
  },
  {
   "cell_type": "code",
   "execution_count": null,
   "metadata": {},
   "outputs": [],
   "source": []
  }
 ],
 "metadata": {
  "kernelspec": {
   "display_name": "Python 3",
   "language": "python",
   "name": "python3"
  },
  "language_info": {
   "codemirror_mode": {
    "name": "ipython",
    "version": 3
   },
   "file_extension": ".py",
   "mimetype": "text/x-python",
   "name": "python",
   "nbconvert_exporter": "python",
   "pygments_lexer": "ipython3",
   "version": "3.9.1"
  }
 },
 "nbformat": 4,
 "nbformat_minor": 4
}
