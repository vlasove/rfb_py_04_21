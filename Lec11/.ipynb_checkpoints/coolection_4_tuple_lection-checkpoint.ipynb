{
 "cells": [
  {
   "cell_type": "markdown",
   "metadata": {},
   "source": [
    "# Лекция 11. Коллекции. Кортежи\n",
    "\n",
    "**Кортеж** (tuple) - упорядоченная (индексируемая) коллекция, способная хранить элементы любого типа, и гарантирующая НЕИЗМЕНЯЕМОСТЬ ХРАНИМЫХ ЗНАЧЕНИЙ.\n"
   ]
  },
  {
   "cell_type": "code",
   "execution_count": 1,
   "metadata": {},
   "outputs": [
    {
     "name": "stdout",
     "output_type": "stream",
     "text": [
      "Len: 0\n",
      "Type: <class 'tuple'>\n"
     ]
    }
   ],
   "source": [
    "# Инициализация кортежа\n",
    "a_tuple = tuple()\n",
    "b_tuple = ()\n",
    "\n",
    "print(\"Len:\", len(b_tuple))\n",
    "print(\"Type:\", type(a_tuple))"
   ]
  },
  {
   "cell_type": "code",
   "execution_count": 4,
   "metadata": {},
   "outputs": [
    {
     "name": "stdout",
     "output_type": "stream",
     "text": [
      "Len: 5\n",
      "Type: <class 'tuple'>\n",
      "Value: (10, 20, 30, 40, 50)\n"
     ]
    }
   ],
   "source": [
    "# С элементами\n",
    "num_tuple = (10, 20, 30, 40, 50)\n",
    "print(\"Len:\", len(num_tuple))\n",
    "print(\"Type:\", type(num_tuple))\n",
    "print(\"Value:\", num_tuple)"
   ]
  },
  {
   "cell_type": "code",
   "execution_count": 7,
   "metadata": {},
   "outputs": [
    {
     "ename": "TypeError",
     "evalue": "'tuple' object does not support item assignment",
     "output_type": "error",
     "traceback": [
      "\u001b[1;31m---------------------------------------------------------------------------\u001b[0m",
      "\u001b[1;31mTypeError\u001b[0m                                 Traceback (most recent call last)",
      "\u001b[1;32m<ipython-input-7-4b4e97c2e555>\u001b[0m in \u001b[0;36m<module>\u001b[1;34m\u001b[0m\n\u001b[1;32m----> 1\u001b[1;33m \u001b[0mnum_tuple\u001b[0m\u001b[1;33m[\u001b[0m\u001b[1;36m0\u001b[0m\u001b[1;33m]\u001b[0m \u001b[1;33m=\u001b[0m \u001b[1;36m100\u001b[0m \u001b[1;31m# Кортежи не поддерживают изменение элементов в отличие от списков\u001b[0m\u001b[1;33m\u001b[0m\u001b[1;33m\u001b[0m\u001b[0m\n\u001b[0m",
      "\u001b[1;31mTypeError\u001b[0m: 'tuple' object does not support item assignment"
     ]
    }
   ],
   "source": [
    "num_tuple[0] = 100 # Кортежи не поддерживают изменение элементов в отличие от списков"
   ]
  },
  {
   "cell_type": "markdown",
   "metadata": {},
   "source": [
    "### 2. Общие операции для индексируемых коллекций на примере кортежа"
   ]
  },
  {
   "cell_type": "code",
   "execution_count": 8,
   "metadata": {},
   "outputs": [
    {
     "name": "stdout",
     "output_type": "stream",
     "text": [
      "0-th: 10\n",
      "Last: 50\n",
      "(50, 40, 30, 20, 10)\n",
      "(30, 40, 50)\n",
      "(10, 20, 30, 40, 50, 10, 20, 30, 40, 50, 10, 20, 30, 40, 50, 10, 20)\n",
      "30 in num_tuple\n",
      "Len: 5\n",
      "Sum: 150\n",
      "Min/max: 10 50\n",
      "Id: 0 Elem: 10\n",
      "Id: 1 Elem: 20\n",
      "Id: 2 Elem: 30\n",
      "Id: 3 Elem: 40\n",
      "Id: 4 Elem: 50\n",
      "Elem: 10\n",
      "Elem: 20\n",
      "Elem: 30\n",
      "Elem: 40\n",
      "Elem: 50\n"
     ]
    }
   ],
   "source": [
    "num_tuple = (10, 20, 30, 40, 50)\n",
    "\n",
    "# Индексирование\n",
    "print(\"0-th:\", num_tuple[0])\n",
    "print(\"Last:\", num_tuple[-1])\n",
    "\n",
    "# Срезы\n",
    "print(num_tuple[::-1])\n",
    "print(num_tuple[2:])\n",
    "\n",
    "\n",
    "# Конкатенация\n",
    "print(num_tuple * 3 + (10, 20))\n",
    "\n",
    "# Проверка вхождения\n",
    "if 30 in num_tuple:\n",
    "    print(\"30 in num_tuple\")\n",
    "\n",
    "# Длина, сумма, мин/макс\n",
    "print(\"Len:\", len(num_tuple))\n",
    "print(\"Sum:\", sum(num_tuple))\n",
    "print(\"Min/max:\", min(num_tuple), max(num_tuple))\n",
    "\n",
    "# Итерирование\n",
    "for i in range(len(num_tuple)):\n",
    "    print(\"Id:\", i, \"Elem:\", num_tuple[i])\n",
    "\n",
    "for elem in num_tuple:\n",
    "    print(\"Elem:\", elem)"
   ]
  },
  {
   "cell_type": "code",
   "execution_count": 10,
   "metadata": {},
   "outputs": [
    {
     "name": "stdout",
     "output_type": "stream",
     "text": [
      "['__add__', '__class__', '__class_getitem__', '__contains__', '__delattr__', '__dir__', '__doc__', '__eq__', '__format__', '__ge__', '__getattribute__', '__getitem__', '__getnewargs__', '__gt__', '__hash__', '__init__', '__init_subclass__', '__iter__', '__le__', '__len__', '__lt__', '__mul__', '__ne__', '__new__', '__reduce__', '__reduce_ex__', '__repr__', '__rmul__', '__setattr__', '__sizeof__', '__str__', '__subclasshook__', 'count', 'index']\n"
     ]
    }
   ],
   "source": [
    "print(dir(num_tuple))"
   ]
  },
  {
   "cell_type": "markdown",
   "metadata": {},
   "source": [
    "## Распаковка кортежа"
   ]
  },
  {
   "cell_type": "code",
   "execution_count": 18,
   "metadata": {},
   "outputs": [
    {
     "name": "stdout",
     "output_type": "stream",
     "text": [
      "X: 1 Y: 2 Z: 3\n"
     ]
    }
   ],
   "source": [
    "# Распаковка кортежа (tuple unpack)\n",
    "x, y, z = 1, 2, 3\n",
    "\n",
    "print(\"X:\", x, \"Y:\", y, \"Z:\", z)"
   ]
  },
  {
   "cell_type": "code",
   "execution_count": 23,
   "metadata": {},
   "outputs": [
    {
     "name": "stdout",
     "output_type": "stream",
     "text": [
      "1 2\n"
     ]
    }
   ],
   "source": [
    "# Распаковка списка (неявно приводится к кортежу)\n",
    "a, b = [1,2]\n",
    "print(a, b)"
   ]
  },
  {
   "cell_type": "code",
   "execution_count": 24,
   "metadata": {},
   "outputs": [
    {
     "name": "stdout",
     "output_type": "stream",
     "text": [
      "10\n",
      "20\n",
      "30\n"
     ]
    }
   ],
   "source": [
    "num_a, num_b = int(input()), int(input())\n",
    "print(num_a + num_b)"
   ]
  },
  {
   "cell_type": "markdown",
   "metadata": {},
   "source": [
    "## Фокус"
   ]
  },
  {
   "cell_type": "code",
   "execution_count": 29,
   "metadata": {},
   "outputs": [
    {
     "name": "stdout",
     "output_type": "stream",
     "text": [
      "([1, 2, 3, 10], [2, 3, 4], 10, 20, 30, 40)\n"
     ]
    }
   ],
   "source": [
    "numbers = ([1,2,3], [2,3,4], 10, 20, 30, 40)\n",
    "numbers[0].append(10) # Данное изменение возможно т.к. кортеж хранит внутри ССЫЛКУ на область памяти А ЭТА ССЫЛКА НЕ МЕНЯЕТСЯ ВХОДЕ ВЫПОЛНЕНИЯ КОДА\n",
    "print(numbers)\n"
   ]
  },
  {
   "cell_type": "code",
   "execution_count": 30,
   "metadata": {},
   "outputs": [
    {
     "name": "stdout",
     "output_type": "stream",
     "text": [
      "list size of: 104\n",
      "tuple size of: 56\n"
     ]
    }
   ],
   "source": [
    "a = [1,2,3,4]\n",
    "b = (1,2,3,4)\n",
    "\n",
    "print(\"list size of:\", a.__sizeof__())\n",
    "print(\"tuple size of:\", b.__sizeof__())"
   ]
  },
  {
   "cell_type": "markdown",
   "metadata": {},
   "source": [
    "## Сравнение кортежей"
   ]
  },
  {
   "cell_type": "code",
   "execution_count": 32,
   "metadata": {},
   "outputs": [
    {
     "name": "stdout",
     "output_type": "stream",
     "text": [
      "True\n"
     ]
    }
   ],
   "source": [
    "a = (1,2,3)\n",
    "b = (1,3,1)\n",
    "\n",
    "print(a < b)"
   ]
  },
  {
   "cell_type": "code",
   "execution_count": 33,
   "metadata": {},
   "outputs": [
    {
     "name": "stdout",
     "output_type": "stream",
     "text": [
      "[(-1, -1, -1), (0, 0, 0), (0, 1, 2), (1, 0, 1), (2, 2, 4)]\n"
     ]
    }
   ],
   "source": [
    "group_of_points = [(0,0,0), (1,0,1), (0,1,2), (2,2,4), (-1,-1,-1)]\n",
    "group_of_points.sort()\n",
    "print(group_of_points)"
   ]
  },
  {
   "cell_type": "markdown",
   "metadata": {},
   "source": [
    "## Преобразования к списку и обратно"
   ]
  },
  {
   "cell_type": "code",
   "execution_count": 35,
   "metadata": {},
   "outputs": [
    {
     "name": "stdout",
     "output_type": "stream",
     "text": [
      "(10, 20, 30, 40, 50)\n"
     ]
    }
   ],
   "source": [
    "from_database = (1,2,3,4,5)\n",
    "\n",
    "lst = list(from_database)\n",
    "lst = [elem* 10 for elem in lst]\n",
    "\n",
    "to_database = tuple(lst)\n",
    "print(to_database)"
   ]
  },
  {
   "cell_type": "code",
   "execution_count": null,
   "metadata": {},
   "outputs": [],
   "source": []
  }
 ],
 "metadata": {
  "kernelspec": {
   "display_name": "Python 3",
   "language": "python",
   "name": "python3"
  },
  "language_info": {
   "codemirror_mode": {
    "name": "ipython",
    "version": 3
   },
   "file_extension": ".py",
   "mimetype": "text/x-python",
   "name": "python",
   "nbconvert_exporter": "python",
   "pygments_lexer": "ipython3",
   "version": "3.9.1"
  }
 },
 "nbformat": 4,
 "nbformat_minor": 4
}
