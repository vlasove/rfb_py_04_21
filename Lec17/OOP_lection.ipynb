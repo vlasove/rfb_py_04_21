{
 "cells": [
  {
   "cell_type": "markdown",
   "metadata": {},
   "source": [
    "## Объектно-Ориентированный подход/ Объектно-Ориентированное программирование\n",
    "* ООП - **парадигма** (стиль) программирования, выделяющий *уровни абстракции* и основывающийся на *поведенческих паттернах*. (По-русски: способ написания кода, в центра которого находятся объекты).\n",
    "* ООП - `как определение` - является собирательным образом 3-ех понятий:\n",
    "*1) Инкапсуляция\n",
    "*2) Наследование\n",
    "*3) Полиморфизм\n"
   ]
  },
  {
   "cell_type": "markdown",
   "metadata": {},
   "source": [
    "### Термины\n",
    "* Поведенческий паттерн == класс (инструкция по созданию объектов, чертеж, гайд)\n",
    "* Объект == объект (то, что создаем для использования; то, что будет решать наши задачи)\n",
    "* Интерфейс  == поведение == методы (что умеет объект? какие действия может делать?)\n",
    "* Свойства == поля == атрибуты (описание объекта, харакетеристики)"
   ]
  },
  {
   "cell_type": "markdown",
   "metadata": {},
   "source": [
    "### Инкапсуляция\n",
    "**Инкапсуляция** - способ выделения минимально-возможного (в рамках поставленной задачи) набора свойств и поведений используемых объектов. (Не путать с приватизацией интерфейсов объектов, инкапсуляция естественным образом ПОДРАЗУМЕВАЕТ выделение приватных и публичных секций интерфейса => инкапсуляция ВКЛЮЧАЕТ в себя ПРИВАТИЗАЦИЮ, но не наоборот).\n",
    "\n"
   ]
  },
  {
   "cell_type": "markdown",
   "metadata": {},
   "source": [
    "#### Пример\n",
    "\n",
    "Рассмотрим банальный пример. Представим себе следующую ситуацию.\n",
    "Мы решаем 2 задачи, в которых мы используем представителей двух разных профессий - строитель (`Builder) и фото-модель (BusinessWoman). Несмотря на то, что оба класса, которые мы будем создавать, описывают ЛЮДЕЙ, наборы навыков/действий/характеристик у этих людей в рамках рассматриваемых задач будут существенно отличаться.\n",
    "\n",
    "Для строителя(`Builder`) важны действия - проектирование(планирование), строительство, закупка материалов (действия необходимые для постройки дома)\n",
    "\n",
    "\n",
    "Для модели (`BusinessWoman`) важны действия - создать бизнесс план, нанять сотрудников, дать рекламу (действия необходимые для открытия модельного агенства)"
   ]
  },
  {
   "cell_type": "code",
   "execution_count": null,
   "metadata": {},
   "outputs": [],
   "source": [
    "class Bulder:\n",
    "    \"\"\"\n",
    "    Класс описывающий строителя, решающий задачу постройки дома\n",
    "    \"\"\"\n",
    "    def __init__(self):\n",
    "        self.is_educated = True\n",
    "        self.exp = 10\n",
    "        self.has_group_of_workers = True\n",
    "        self.has_group_of_workers_material_contacts = True\n",
    "        self.material_suppliers_amount = 10\n",
    "        self.invetarization_budget = 1000000\n",
    "   \n",
    "    def projecting(self, ...) -> list:\n",
    "        \"\"\"\n",
    "        Проектирование фасада и создание проекта дома целиком\n",
    "        \"\"\"\n",
    "        moves = []\n",
    "        moves = generate_move_list_for_builder(self.is_educated, self.exp, self.has_group_of_workers)\n",
    "        return moves\n",
    "        \n",
    "    def building(self, moves:list) -> bool:\n",
    "        \"\"\"\n",
    "        Процесс строительства\n",
    "        \"\"\"\n",
    "        return not (len(moves) < 5)\n",
    "        \n",
    "    def material_stuff_organization(self) -> bool:\n",
    "        \"\"\"\n",
    "        Закупка необходимых материалов\n",
    "        \"\"\"\n",
    "        return (self.has_group_of_workers and self.invetarization_budget//selff.material_suppliers_amount > 7)\n",
    "        \n",
    "        \n",
    "        \n",
    "class BusinessWoman:\n",
    "    ....\n"
   ]
  },
  {
   "cell_type": "markdown",
   "metadata": {},
   "source": [
    "### Рассмотрим радио-приемник\n",
    "Необходимо создать радио-приемник, который умеет включаться, выключаться, и переключать радио-волны (Radio)\n"
   ]
  },
  {
   "cell_type": "code",
   "execution_count": 5,
   "metadata": {},
   "outputs": [
    {
     "ename": "AttributeError",
     "evalue": "'Radio' object has no attribute '__lamp_cooling'",
     "output_type": "error",
     "traceback": [
      "\u001b[1;31m---------------------------------------------------------------------------\u001b[0m",
      "\u001b[1;31mAttributeError\u001b[0m                            Traceback (most recent call last)",
      "\u001b[1;32m<ipython-input-5-c789901951fa>\u001b[0m in \u001b[0;36m<module>\u001b[1;34m\u001b[0m\n\u001b[0;32m     33\u001b[0m \u001b[0mr\u001b[0m \u001b[1;33m=\u001b[0m \u001b[0mRadio\u001b[0m\u001b[1;33m(\u001b[0m\u001b[1;33m)\u001b[0m\u001b[1;33m\u001b[0m\u001b[1;33m\u001b[0m\u001b[0m\n\u001b[0;32m     34\u001b[0m \u001b[0mr\u001b[0m\u001b[1;33m.\u001b[0m\u001b[0mon\u001b[0m\u001b[1;33m(\u001b[0m\u001b[1;33m)\u001b[0m\u001b[1;33m\u001b[0m\u001b[1;33m\u001b[0m\u001b[0m\n\u001b[1;32m---> 35\u001b[1;33m \u001b[0mr\u001b[0m\u001b[1;33m.\u001b[0m\u001b[0m__lamp_cooling\u001b[0m\u001b[1;33m(\u001b[0m\u001b[1;33m)\u001b[0m\u001b[1;33m\u001b[0m\u001b[1;33m\u001b[0m\u001b[0m\n\u001b[0m\u001b[0;32m     36\u001b[0m \u001b[0mprint\u001b[0m\u001b[1;33m(\u001b[0m\u001b[0mr\u001b[0m\u001b[1;33m)\u001b[0m\u001b[1;33m\u001b[0m\u001b[1;33m\u001b[0m\u001b[0m\n",
      "\u001b[1;31mAttributeError\u001b[0m: 'Radio' object has no attribute '__lamp_cooling'"
     ]
    }
   ],
   "source": [
    "class Radio:\n",
    "    def __init__(self):\n",
    "        self.__is_on = False\n",
    "        self.__lamp_temprature = 20\n",
    "        self.current_wave = 0\n",
    "        \n",
    "    def __lamp_is_ready(self):\n",
    "        self.__lamp_temprature += 50\n",
    "        return True\n",
    "    \n",
    "    def __lamp_cooling(self):\n",
    "        self.__lamp_temprature -= 50\n",
    "        \n",
    "    def __lamp_is_ok(self):\n",
    "        return self.__lamp_temprature <= 80\n",
    "    \n",
    "    def on(self):\n",
    "        if self.__lamp_is_ready():\n",
    "            self.__is_on = True\n",
    "        \n",
    "    def off(self):\n",
    "        self.__lamp_cooling()\n",
    "        self.__is_on = False\n",
    "        \n",
    "    def change_wave(self, deltaHz:float):\n",
    "        if self.__lamp_is_ok():\n",
    "            self.current_wave += deltaHz\n",
    "        \n",
    "    def __str__(self):\n",
    "        return f\"Radio(is_on:{self.__is_on}, wave:{self.current_wave})\"\n",
    "        \n",
    "        \n",
    "r = Radio()\n",
    "r.on()\n",
    "r.__lamp_cooling()\n",
    "print(r)\n"
   ]
  },
  {
   "cell_type": "markdown",
   "metadata": {},
   "source": [
    "### Наследование\n",
    "Наследование - концепт передачи поведения и набора свойств от родительских сущностей к дочерним (можно создавать классы, содержащие в себе общие для всех дочерних классов принципы/свойства, чтобы уменьшить копирование в коде и увеличить его связность)"
   ]
  },
  {
   "cell_type": "markdown",
   "metadata": {},
   "source": [
    "### Рассмотрим задачу про геометрические фигуры\n",
    "Необходимо создать 2 объекта - треугольник и квадрат, которые будут уметь вычислять свою площадь, периметр и цвет."
   ]
  },
  {
   "cell_type": "code",
   "execution_count": 20,
   "metadata": {},
   "outputs": [
    {
     "name": "stdout",
     "output_type": "stream",
     "text": [
      "Triangle(a:2, b:3, c:4, color:blank22)\n",
      "blank22\n",
      "1400\n",
      "Rectangle(a:1, b:1, color:blank22)\n",
      "!!!!!!!!!!!!!!\n",
      "1400\n"
     ]
    }
   ],
   "source": [
    "class Figure:\n",
    "    color = \"blank22\"\n",
    "        \n",
    "    def get_color(self):\n",
    "        return self.color\n",
    "    \n",
    "    def get_rgb_color_code(self):\n",
    "        return len(self.color) * 200\n",
    "\n",
    "class Triangle(Figure):\n",
    "    a = 2\n",
    "    b = 3 \n",
    "    c = 4\n",
    "    def perimeter(self):\n",
    "        return self.a + self.b + self.c\n",
    "    \n",
    "    def area(self):\n",
    "        return (self.a + self.b) * self.c\n",
    "    \n",
    "    def __str__(self):\n",
    "        return f\"Triangle(a:{self.a}, b:{self.b}, c:{self.c}, color:{self.color})\"\n",
    "    \n",
    "class Rectangle(Figure):\n",
    "    a = 1\n",
    "    b = 1\n",
    "        \n",
    "\n",
    "    \n",
    "    def perimeter(self):\n",
    "        return self.a + self.b\n",
    "    \n",
    "    def area(self):\n",
    "        return (self.a * self.b)\n",
    "    \n",
    "    def get_color(self):\n",
    "        return \"!!!!!!!!!!!!!!\"\n",
    "    \n",
    "    def __str__(self):\n",
    "        return f\"Rectangle(a:{self.a}, b:{self.b}, color:{self.color})\"\n",
    "    \n",
    "    \n",
    "tr = Triangle()\n",
    "print(tr)\n",
    "print(tr.get_color())\n",
    "print(tr.get_rgb_color_code())\n",
    "\n",
    "rect = Rectangle()\n",
    "print(rect)\n",
    "print(rect.get_color())\n",
    "print(rect.get_rgb_color_code())"
   ]
  },
  {
   "cell_type": "code",
   "execution_count": null,
   "metadata": {},
   "outputs": [],
   "source": []
  },
  {
   "cell_type": "markdown",
   "metadata": {},
   "source": [
    "### Полиморфизм \n",
    "Полиморфизм - концепция выделения обобщенного интерфейса у разнородных объектов с целью их последующего совместного использования (увеличивает взаимозаменяемость компонент кода)"
   ]
  },
  {
   "cell_type": "code",
   "execution_count": 23,
   "metadata": {},
   "outputs": [
    {
     "name": "stdout",
     "output_type": "stream",
     "text": [
      "20.0\n",
      "4.5\n"
     ]
    }
   ],
   "source": [
    "def geometry_closure(geometry_figure):\n",
    "    \"\"\"\n",
    "    Важно, чтобы интерфейс geometry_figure позволял\n",
    "    вызывать методы .area() и .perimeter()\n",
    "    \"\"\"\n",
    "    return geometry_figure.area()/ geometry_figure.perimeter() * 9\n",
    "\n",
    "tr = Triangle()\n",
    "rect = Rectangle()\n",
    "\n",
    "\n",
    "figures = [tr, rect]\n",
    "for f in figures:\n",
    "    print(geometry_closure(f))"
   ]
  },
  {
   "cell_type": "code",
   "execution_count": 31,
   "metadata": {},
   "outputs": [
    {
     "name": "stdout",
     "output_type": "stream",
     "text": [
      "алиса 10\n",
      "анфиса 9\n",
      "анна 9\n"
     ]
    }
   ],
   "source": [
    "d = {\"алиса\":10,\"анфиса\":9, \"анна\":9}\n",
    "pairs = []\n",
    "for key, val in d.items():\n",
    "    pairs.append((val, key))\n",
    "    \n",
    "words = sorted(pairs, reverse=True)\n",
    "for word in words:\n",
    "    print(word[1], word[0] ==?)"
   ]
  },
  {
   "cell_type": "code",
   "execution_count": null,
   "metadata": {},
   "outputs": [],
   "source": []
  }
 ],
 "metadata": {
  "kernelspec": {
   "display_name": "Python 3",
   "language": "python",
   "name": "python3"
  },
  "language_info": {
   "codemirror_mode": {
    "name": "ipython",
    "version": 3
   },
   "file_extension": ".py",
   "mimetype": "text/x-python",
   "name": "python",
   "nbconvert_exporter": "python",
   "pygments_lexer": "ipython3",
   "version": "3.9.1"
  }
 },
 "nbformat": 4,
 "nbformat_minor": 4
}
