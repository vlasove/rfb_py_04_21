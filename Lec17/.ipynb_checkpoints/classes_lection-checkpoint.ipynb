{
 "cells": [
  {
   "cell_type": "markdown",
   "metadata": {},
   "source": [
    "## Класс как структура данных"
   ]
  },
  {
   "cell_type": "code",
   "execution_count": 1,
   "metadata": {},
   "outputs": [],
   "source": [
    "# Необходимо организовать хранилище книг!"
   ]
  },
  {
   "cell_type": "code",
   "execution_count": null,
   "metadata": {},
   "outputs": [],
   "source": [
    "book_title_1 = \"Harry Potter: P1\"\n",
    "book_author_1 = \"J.Rawling\"\n",
    "book_shees_1 = 500\n",
    "book_color_1 = True\n",
    "\n",
    "book_title_2 = \"Harry Potter: P2\"\n",
    "book_author_2 = \"J.Rawling\"\n",
    "book_shees_2 = 600\n",
    "book_color_2 = True\n",
    "\n",
    "book_title_3 = \"LOTR:1\"\n",
    "book_author_3 = \"J.R. Tolkien\"\n",
    "book_shees_3 = 1000\n",
    "book_color_3 = False"
   ]
  },
  {
   "cell_type": "code",
   "execution_count": 2,
   "metadata": {},
   "outputs": [],
   "source": [
    "# Фрагмент кода выше не может быть использован в качестве хранилища книг по причине отсутствия:\n",
    "# 1) Поиска\n",
    "# 2) Удобного инструмента редактирования\n",
    "# 3) Связности свойств с материальным объектом"
   ]
  },
  {
   "cell_type": "code",
   "execution_count": 3,
   "metadata": {},
   "outputs": [
    {
     "name": "stdout",
     "output_type": "stream",
     "text": [
      "[('Harry Potter: P1', 'J.Rawling', 500, True), ('Harry Potter: P2', 'J.Rawling', 600, True), ('LOTR:1', 'J.R. Tolkien', 1000, False)]\n"
     ]
    }
   ],
   "source": [
    "book_1 = (\"Harry Potter: P1\", \"J.Rawling\", 500, True)\n",
    "\n",
    "book_2 = (\"Harry Potter: P2\", \"J.Rawling\", 600, True)\n",
    "\n",
    "book_3 = (\"LOTR:1\", \"J.R. Tolkien\", 1000, False)\n",
    "\n",
    "books = [book_1, book_2, book_3]\n",
    "print(books)"
   ]
  },
  {
   "cell_type": "code",
   "execution_count": 4,
   "metadata": {},
   "outputs": [],
   "source": [
    "# В данном фрагменте мы также не решили задачу о хранении книг. Т.к. в данной реализации продолжаем хранить набор условностей, пусть\n",
    "# и в более удобной для поиска/модификации форме."
   ]
  },
  {
   "cell_type": "markdown",
   "metadata": {},
   "source": [
    "### Структура данных\n",
    "Под структурой данных - будем понимать описательный набор свойств некоего \"материального\" объекта.\n",
    "Для того, чтобы описать любой объект необходимо перечислить его свойства."
   ]
  },
  {
   "cell_type": "code",
   "execution_count": 14,
   "metadata": {},
   "outputs": [
    {
     "name": "stdout",
     "output_type": "stream",
     "text": [
      "Title:Harry Potter: P1, Author:J.Rawling, Sheets:500, IsColored?:True\n",
      "Title:LOTR:1, Author:J.R. Tolkien, Sheets:1000, IsColored?:False\n",
      "Title:BULK BOOK, Author:, Sheets:0, IsColored?:False\n",
      "<__main__.Book object at 0x0000015C4CAE5F70>\n"
     ]
    }
   ],
   "source": [
    "class Book: # Условно \"инструкция\" / \"набор свойств\" / \"то, что содержит в себе любая книга\"\n",
    "    title = \"\"\n",
    "    author = \"\"\n",
    "    sheets = 0\n",
    "    is_colored = False\n",
    "\n",
    "    \n",
    "def init_book(my_title:str=\"\", my_author:str=\"\", my_sheets:int=0, my_is_colored:bool=False) -> Book:\n",
    "    \"\"\"\n",
    "    Создает экземпляр структуры Book\n",
    "    \"\"\"\n",
    "    book = Book() # Создается экземпляр структуры Book\n",
    "    book.title = my_title #\"Harry Potter: P1\" # Переопределение стандартных свойств (название, автора, кол-ва страниц и тд)\n",
    "    book.author = my_author#\"J. Rawling\"\n",
    "    book.sheets = my_sheets #500\n",
    "    book.is_colored = my_is_colored #True\n",
    "    return book\n",
    "\n",
    "# Это - обработчик структуры Book\n",
    "def print_book(b:Book) -> None:\n",
    "    print(f\"Title:{b.title}, Author:{b.author}, Sheets:{b.sheets}, IsColored?:{b.is_colored}\")\n",
    "    \n",
    "\n",
    "book_1 = init_book(\"Harry Potter: P1\", \"J.Rawling\", 500, True)\n",
    "book_2 = init_book(\"LOTR:1\", \"J.R. Tolkien\", 1000, False)\n",
    "book_3 = init_book(my_title=\"BULK BOOK\")\n",
    "\n",
    "books = [book_1, book_2, book_3]\n",
    "for b in books:\n",
    "    print_book(b)"
   ]
  },
  {
   "cell_type": "markdown",
   "metadata": {},
   "source": [
    "## Термины\n",
    "* Структура - перечень свойств какого-либо предмета/являения\n",
    "* Экземпляр - элемент, являющийся порождением структруы данных (конкретная реализация, конкретная книга)\n",
    "* Атрибут == свойство\n",
    "* Обработчик - некая ФУНКЦИЯ, умеющая работать с экземплярами структуры"
   ]
  },
  {
   "cell_type": "code",
   "execution_count": 15,
   "metadata": {},
   "outputs": [
    {
     "name": "stdout",
     "output_type": "stream",
     "text": [
      "10 20 30 40\n"
     ]
    }
   ],
   "source": [
    "# Набросок решения задачи A\n",
    "class Point:\n",
    "    x = 0\n",
    "    y = 0\n",
    "    \n",
    "def init_point(my_x:int = 0, my_y:int = 0) -> Point:\n",
    "    \"\"\"\n",
    "    Создает экземпляры структуры Point\n",
    "    \"\"\"\n",
    "    p = Point()\n",
    "    p.x, p.y = my_x, my_y\n",
    "    return p\n",
    "\n",
    "\n",
    "def is_on_segment(lhs_point:Point, rhs_point:Point, point_between:Point) -> str:\n",
    "    \"\"\"\n",
    "    lhs_point - левая точка отрезка\n",
    "    rhs_point - правая точка отрезка\n",
    "    point_between - точка, предположительно лежащая внутри отрезка [lhs_point, rhs_point]\n",
    "    \n",
    "    result - 1) \"YES\" - если точка принадлежит отрезку\n",
    "             2) \"NO\" - в противном случае\n",
    "    \"\"\"\n",
    "    ...\n",
    "\n",
    "def main() -> None:\n",
    "    \"\"\"\n",
    "    Входная точка в программу\n",
    "    \"\"\"\n",
    "    values = input().strip().split() # [\"1\", \"2\", \"3\", \"4\"]\n",
    "    p1_x, p1_y, p2_x, p2_y = values\n",
    "    p1, p2 = init_point(my_x=int(p1_x), my_y = int(p1_y)),  init_point(my_x=int(p2_x), my_y = int(p2_y))\n",
    "    \n",
    "    values_for_p3 = input().strip().split() # [\"1\", \"2\"]\n",
    "    p3_x, p3_y = values_for_p3\n",
    "    p3 = init_point(my_x=int(p3_x), my_y=int(p3_y))\n",
    "\n",
    "    result = is_on_segment(p1, p2, p3)\n",
    "    print(result)\n",
    "    \n",
    "if __name__ == \"__main__\":\n",
    "    main()\n"
   ]
  },
  {
   "cell_type": "markdown",
   "metadata": {},
   "source": [
    "## Композиция структур"
   ]
  },
  {
   "cell_type": "code",
   "execution_count": 16,
   "metadata": {},
   "outputs": [],
   "source": [
    "# Вычислить длину отрезка, построенного на двух точках\n"
   ]
  },
  {
   "cell_type": "code",
   "execution_count": 2,
   "metadata": {},
   "outputs": [
    {
     "name": "stdout",
     "output_type": "stream",
     "text": [
      "14.142135623730951\n"
     ]
    }
   ],
   "source": [
    "class Point:\n",
    "    x = 0\n",
    "    y = 0\n",
    "    \n",
    "def init_point(my_x:int = 0, my_y:int = 0) -> Point:\n",
    "    \"\"\"\n",
    "    Создает экземпляры структуры Point\n",
    "    \"\"\"\n",
    "    p = Point()\n",
    "    p.x, p.y = my_x, my_y\n",
    "    return p\n",
    "\n",
    "class Line:\n",
    "    p1 = Point()\n",
    "    p2 = Point()\n",
    "    \n",
    "def init_line(first_point:Point, second_point:Point) -> Line:\n",
    "    \"\"\"\n",
    "    Создает экземпляры структуры Line\n",
    "    \"\"\"\n",
    "    l = Line()\n",
    "    l.p1 = first_point\n",
    "    l.p2 = second_point\n",
    "    return l\n",
    "\n",
    "def get_line_length(l:Line) -> float:\n",
    "    \"\"\"\n",
    "    Подсчет длины отрезка (конкретно для 2-мерного случая)\n",
    "    \"\"\"\n",
    "    length_squared =  (l.p1.x - l.p2.x) ** 2 + (l.p1.y - l.p2.y) ** 2\n",
    "    return length_squared ** (0.5)\n",
    "\n",
    "\n",
    "def main():\n",
    "    \"\"\"\n",
    "    Входная точка в программу\n",
    "    \"\"\"\n",
    "    line = init_line(\n",
    "        first_point=init_point(0, 0), \n",
    "        second_point=init_point(10, 10)\n",
    "    )\n",
    "    print(get_line_length(line))\n",
    "    \n",
    "main()"
   ]
  },
  {
   "cell_type": "markdown",
   "metadata": {},
   "source": [
    "## Класс как класс)"
   ]
  },
  {
   "cell_type": "code",
   "execution_count": 9,
   "metadata": {},
   "outputs": [],
   "source": [
    "\n",
    "\n",
    "class CashCass:\n",
    "    cass_number = \"\"\n",
    "    \n",
    "def get_cass_number(cc:CashCass) -> str:\n",
    "    return cc.cass_number\n",
    "\n",
    "def set_cass_number(cc:CashCass, new_cass_number:str) -> CashCass:\n",
    "    cc.cass_number = new_cass_number\n",
    "    return cc\n",
    "\n",
    "def cass_number_is_equal_to(cc:CashCass, other_cass_number) -> bool:\n",
    "    return cc.cass_number == other_cass_number\n",
    "    \n",
    "cc = CashCass()\n",
    "cc.cass_number = \"NUM1247236562\"\n",
    "\n",
    "\n",
    "# .....\n",
    "cass_number_is_equal_to(cc, \"NUM51515151\")\n",
    "cc.cass_number = \"NUM51515151\"\n"
   ]
  },
  {
   "cell_type": "markdown",
   "metadata": {},
   "source": [
    "Под классом - будем понимать описательно-поведенческий набор свойств и действий любого объекта. \n",
    "Класс - это поведенческий паттерн объектов."
   ]
  },
  {
   "cell_type": "code",
   "execution_count": 10,
   "metadata": {},
   "outputs": [
    {
     "name": "stdout",
     "output_type": "stream",
     "text": [
      "<__main__.Point object at 0x000001EE7177D9A0>\n",
      "Point(x:1, y:2)\n",
      "False\n",
      "Point(x:11, y:12)\n"
     ]
    }
   ],
   "source": [
    "class Point:\n",
    "    x = 0\n",
    "    y = 0\n",
    "    \n",
    "    def init_point(my_x:int = 0, my_y:int = 0) -> Point:\n",
    "        \"\"\"\n",
    "        Создает экземпляры структуры Point\n",
    "        \"\"\"\n",
    "        p = Point()\n",
    "        p.x, p.y = my_x, my_y\n",
    "        return p\n",
    "\n",
    "    def to_string(p:Point) -> str:\n",
    "        \"\"\"\n",
    "        Обработчик необходимый для помещения точки в выходной поток\n",
    "        \"\"\"\n",
    "        return f\"Point(x:{p.x}, y:{p.y})\"\n",
    "\n",
    "    def is_equal(p1:Point, p2:Point) -> bool:\n",
    "        \"\"\"\n",
    "        Сравнение двух точек\n",
    "        Сравниваем по координатам\n",
    "        \"\"\"\n",
    "        return p1.x == p2.x and p1.y == p2.y\n",
    "\n",
    "    def shift(p:Point, shift_val:int) -> Point:\n",
    "        \"\"\"\n",
    "        Сдвигает координаты точки (и x, и y) на величину shift_val\n",
    "        \"\"\"\n",
    "        p.x += shift_val\n",
    "        p.y += shift_val\n",
    "        return p\n",
    "\n",
    "\n",
    "p1 = init_point(1, 2)\n",
    "p2 = init_point(1, 3)\n",
    "print(p)\n",
    "print(to_string(p))\n",
    "print(is_equal(p1, p2))\n",
    "p1 = shift(p1, 10)\n",
    "print(to_string(p1))"
   ]
  },
  {
   "cell_type": "markdown",
   "metadata": {},
   "source": [
    "## Термины\n",
    "* Класс - сценарий для порождения объектов, который содержит в себе не только описательную состовляющую (атрибуты, свойства), но и поведенческую (методы, поведение, интерфейс)\n",
    "* Методы == \"обработчики\", только привязанные к определенному класу (в отличие от обработчиков, методы описываются ВНУТРИ класса)\n",
    "* Объект - то, что создается при использовании класса (аналогично экземпляру структуры)"
   ]
  },
  {
   "cell_type": "markdown",
   "metadata": {},
   "source": [
    "* 1) Получатель метода (receiver) указывается в качестве первого параметра практически всех методов\n",
    "* 2) При работе с методами получаетель (объект) указывается слева от точки ->> receiver.method(....)"
   ]
  },
  {
   "cell_type": "code",
   "execution_count": 32,
   "metadata": {},
   "outputs": [
    {
     "name": "stdout",
     "output_type": "stream",
     "text": [
      "Point(x:1, y:2)\n",
      "Point(x:1, y:3)\n"
     ]
    }
   ],
   "source": [
    "class Point:\n",
    "    x = 0\n",
    "    y = 0\n",
    "    \n",
    "    def init_point(self, my_x:int = 0, my_y:int = 0):\n",
    "        \"\"\"\n",
    "        Конструктор класса Point\n",
    "        (что в данном методе происходит конфигурация объекта)\n",
    "        \"\"\"\n",
    "        self.x, self.y = my_x, my_y\n",
    "        return self\n",
    "    \n",
    "    def to_string(self) -> str:\n",
    "        \"\"\"\n",
    "        Обработчик необходимый для помещения точки в выходной поток\n",
    "        \"\"\"\n",
    "        return f\"Point(x:{self.x}, y:{self.y})\"\n",
    "\n",
    "\n",
    "\n",
    "\n",
    "p1 = Point().init_point(1, 2)\n",
    "p2 = Point().init_point(1, 3)\n",
    "print(p1.to_string()) \n",
    "print(p2.to_string())\n",
    "# print(to_string(p))\n",
    "# print(is_equal(p1, p2))\n",
    "# p1 = shift(p1, 10)\n",
    "# print(to_string(p1))"
   ]
  },
  {
   "cell_type": "markdown",
   "metadata": {},
   "source": [
    "## Специальные методы\n",
    "* 1) Специальные методы всегда имеют пару нижних подчеркиваний как вначале названия, так и в конце\n",
    "* `__str__(self) -> str` - данный метод вызывается у всех объектов при помещении в выходной поток, а также при необходимости превратить структуру объекта в текстовый формат\n",
    "* `__init__(self,...) -> None` - \"конструктор\" (инициализатор объекта) - опеределяет значения для набора атрибутов. Атрибуты также перечисляются внутри конструктора при присваивании значений.\n",
    "* `__eq__(self, other) -> bool` - метод сравнения на равенство двух объектов (пердположительно) одного класса. Данный метод вызывается при попытке сравнить два объекта `obj1 == obj2`. В случае, если данный метод определен - автоматически будет поддерживаться операция `obj1 != obj2` (для явного указания сравнения НЕРАВЕНСТВА -`__neq__(self, other) -> bool`\n",
    "* `__add__(self, other) -> obj` -метод, который вызывается при использовании знака `+`меж  двух объектов"
   ]
  },
  {
   "cell_type": "code",
   "execution_count": 62,
   "metadata": {},
   "outputs": [
    {
     "name": "stdout",
     "output_type": "stream",
     "text": [
      "Point(x:1, y:2)\n",
      "Point(x:1, y:2)\n",
      "Point(x:0, y:0)\n",
      "True\n",
      "True\n",
      "Point(x:2, y:4)\n",
      "True\n",
      "True\n"
     ]
    }
   ],
   "source": [
    "class Point:\n",
    "    def __init__(self, my_x:int = 0, my_y:int = 0) -> None:\n",
    "        \"\"\"\n",
    "        Конструктор класса Point\n",
    "        (что в данном методе происходит конфигурация объекта)\n",
    "        \"\"\"\n",
    "        self.x, self.y = my_x, my_y\n",
    "        \n",
    "    def __eq__(self, other) -> bool: # Обратный метод __neq__(self, other) -> bool:\n",
    "        \"\"\"\n",
    "        Покоординатное сравнение двух точек (объекты класса Point)\n",
    "        \"\"\"\n",
    "        if not isinstance(other, Point):\n",
    "            raise Exception(\"Объекты разных классов не могут быть сравнимы\")\n",
    "        return self.x == other.x and self.y == other.y\n",
    "    \n",
    "    def __lt__(self, other) -> bool: # Обратный ему __gt__(self, other)\n",
    "        \"\"\"\n",
    "        Less then\n",
    "        \"\"\"\n",
    "        return self.x < other.x\n",
    "    \n",
    "    def __le__(self, other) -> bool: # Обратный ему __ge__(self, other)\n",
    "        \"\"\"\n",
    "        Less or equal\n",
    "        \"\"\"\n",
    "        return self.x <= other.x\n",
    "    \n",
    "    \n",
    "    def __add__(self, other) -> Point:\n",
    "        \"\"\"\n",
    "        Создает новую точку с покоординатной суммой\n",
    "        \"\"\"\n",
    "        if not isinstance(other, Point):\n",
    "            raise Exception(\"Объекты разных классов не могут быть сложены\")\n",
    "        return Point(self.x + other.x, self.y + other.y)\n",
    "    \n",
    "    \n",
    "    def __str__(self) -> str: # __repr__(self)\n",
    "        \"\"\"\n",
    "        Обработчик необходимый для помещения точки в выходной поток\n",
    "        \"\"\"\n",
    "        return f\"Point(x:{self.x}, y:{self.y})\"\n",
    "\n",
    "\n",
    "\n",
    "\n",
    "p1 = Point(1,2) # Point().__init__(1,2)\n",
    "p2 = Point(1,2)\n",
    "p3 = Point()\n",
    "print(p1) #-> p1.__str__() -> str\n",
    "print(p2)\n",
    "print(p3)\n",
    "print(p1 == p2)\n",
    "print(p1 != p3) \n",
    "print(p1 + p2)\n",
    "print(p3 < p1)\n",
    "print(p1 >= p2)\n",
    "\n",
    "# print(to_string(p))\n",
    "# print(is_equal(p1, p2))\n",
    "# p1 = shift(p1, 10)\n",
    "# print(to_string(p1))"
   ]
  },
  {
   "cell_type": "code",
   "execution_count": 63,
   "metadata": {},
   "outputs": [
    {
     "name": "stdout",
     "output_type": "stream",
     "text": [
      "['__add__', '__class__', '__delattr__', '__dict__', '__dir__', '__doc__', '__eq__', '__format__', '__ge__', '__getattribute__', '__gt__', '__hash__', '__init__', '__init_subclass__', '__le__', '__lt__', '__module__', '__ne__', '__new__', '__reduce__', '__reduce_ex__', '__repr__', '__setattr__', '__sizeof__', '__str__', '__subclasshook__', '__weakref__', 'x', 'y']\n"
     ]
    }
   ],
   "source": [
    "print(dir(p1))"
   ]
  },
  {
   "cell_type": "markdown",
   "metadata": {},
   "source": [
    "## Пользовательские методы\n",
    "* 1) Методы, изменяющие состояние(свойства, атрибуты) объекта (переназначают атрибуты) - часто ничего не возвращают, а лишь вносят изменение \n",
    "* 2) Методы, не изменяющие состояние"
   ]
  },
  {
   "cell_type": "code",
   "execution_count": 68,
   "metadata": {},
   "outputs": [
    {
     "name": "stdout",
     "output_type": "stream",
     "text": [
      "Point(x:0, y:0)\n",
      "Point(x:10, y:10) 10 10\n"
     ]
    }
   ],
   "source": [
    "\n",
    "class Point:\n",
    "    \"\"\"\n",
    "    Класс Point - описание точки\n",
    "    ДОКУМЕНТАЦИЯ..\n",
    "    .....\n",
    "    \"\"\"\n",
    "    def __init__(self, my_x:int = 0, my_y:int = 0) -> None:\n",
    "        \"\"\"\n",
    "        Конструктор класса Point\n",
    "        (что в данном методе происходит конфигурация объекта)\n",
    "        \"\"\"\n",
    "        self.x, self.y = my_x, my_y\n",
    "        \n",
    "    def shift(self, delta:int) -> None:\n",
    "        \"\"\"\n",
    "        Прибавляет дельту delta к координатам точки\n",
    "        \"\"\"\n",
    "        self.x += delta\n",
    "        self.y += delta\n",
    "        \n",
    "    def get_x(self) -> int:\n",
    "        \"\"\"\n",
    "        Возвращает координату x\n",
    "        \"\"\"\n",
    "        return self.x\n",
    "    \n",
    "    def get_y(self) -> int:\n",
    "        \"\"\"\n",
    "        Возвращает координату y\n",
    "        \"\"\"\n",
    "        return self.y\n",
    "        \n",
    "    def __eq__(self, other) -> bool: # Обратный метод __neq__(self, other) -> bool:\n",
    "        \"\"\"\n",
    "        Покоординатное сравнение двух точек (объекты класса Point)\n",
    "        \"\"\"\n",
    "        if not isinstance(other, Point):\n",
    "            raise Exception(\"Объекты разных классов не могут быть сравнимы\")\n",
    "        return self.x == other.x and self.y == other.y\n",
    "    \n",
    "    def __lt__(self, other) -> bool: # Обратный ему __gt__(self, other)\n",
    "        \"\"\"\n",
    "        Less then\n",
    "        \"\"\"\n",
    "        return self.x < other.x\n",
    "    \n",
    "    def __le__(self, other) -> bool: # Обратный ему __ge__(self, other)\n",
    "        \"\"\"\n",
    "        Less or equal\n",
    "        \"\"\"\n",
    "        return self.x <= other.x\n",
    "    \n",
    "    \n",
    "    def __add__(self, other) -> Point:\n",
    "        \"\"\"\n",
    "        Создает новую точку с покоординатной суммой\n",
    "        \"\"\"\n",
    "        if not isinstance(other, Point):\n",
    "            raise Exception(\"Объекты разных классов не могут быть сложены\")\n",
    "        return Point(self.x + other.x, self.y + other.y)\n",
    "    \n",
    "    \n",
    "    def __str__(self) -> str:\n",
    "        \"\"\"\n",
    "        Обработчик необходимый для помещения точки в выходной поток\n",
    "        \"\"\"\n",
    "        return f\"Point(x:{self.x}, y:{self.y})\"\n",
    "\n",
    "\n",
    "\n",
    "\n",
    "p1 = Point(1,2) # Point().__init__(1,2)\n",
    "p2 = Point(1,2)\n",
    "p3 = Point()\n",
    "print(p3)\n",
    "res = p3.shift(10)\n",
    "x, y = p3.get_x(), p3.get_y()\n",
    "print(p3, x, y)"
   ]
  },
  {
   "cell_type": "code",
   "execution_count": 69,
   "metadata": {},
   "outputs": [],
   "source": [
    "## Пример решения задачи A"
   ]
  },
  {
   "cell_type": "code",
   "execution_count": 77,
   "metadata": {},
   "outputs": [
    {
     "name": "stdout",
     "output_type": "stream",
     "text": [
      "роооор\n",
      "4\n"
     ]
    }
   ],
   "source": [
    "class Sequence: \n",
    "    def __init__(self, input_message:str): \n",
    "        self.message = input_message \n",
    "        \n",
    "    def find_max(self) -> int: \n",
    "        \"\"\" \n",
    "        Calc max length and return this value \n",
    "        \"\"\"\n",
    "        return len(max(self.message.split(\"р\")))\n",
    "    \n",
    "    \n",
    "def main() -> None:\n",
    "    \"\"\"\n",
    "    Основаня точка входа в приложение\n",
    "    \"\"\"\n",
    "    msg = input().strip() \n",
    "    s = Sequence(input_message=msg)\n",
    "    print(s.find_max())\n",
    "\n",
    "if __name__ == \"__main__\":\n",
    "    main()"
   ]
  },
  {
   "cell_type": "code",
   "execution_count": null,
   "metadata": {},
   "outputs": [],
   "source": []
  }
 ],
 "metadata": {
  "kernelspec": {
   "display_name": "Python 3",
   "language": "python",
   "name": "python3"
  },
  "language_info": {
   "codemirror_mode": {
    "name": "ipython",
    "version": 3
   },
   "file_extension": ".py",
   "mimetype": "text/x-python",
   "name": "python",
   "nbconvert_exporter": "python",
   "pygments_lexer": "ipython3",
   "version": "3.9.1"
  }
 },
 "nbformat": 4,
 "nbformat_minor": 4
}
