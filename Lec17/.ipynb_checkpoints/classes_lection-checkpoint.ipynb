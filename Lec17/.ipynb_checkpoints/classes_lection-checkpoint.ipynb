{
 "cells": [
  {
   "cell_type": "markdown",
   "metadata": {},
   "source": [
    "## Класс как структура данных"
   ]
  },
  {
   "cell_type": "code",
   "execution_count": 1,
   "metadata": {},
   "outputs": [],
   "source": [
    "# Необходимо организовать хранилище книг!"
   ]
  },
  {
   "cell_type": "code",
   "execution_count": null,
   "metadata": {},
   "outputs": [],
   "source": [
    "book_title_1 = \"Harry Potter: P1\"\n",
    "book_author_1 = \"J.Rawling\"\n",
    "book_shees_1 = 500\n",
    "book_color_1 = True\n",
    "\n",
    "book_title_2 = \"Harry Potter: P2\"\n",
    "book_author_2 = \"J.Rawling\"\n",
    "book_shees_2 = 600\n",
    "book_color_2 = True\n",
    "\n",
    "book_title_3 = \"LOTR:1\"\n",
    "book_author_3 = \"J.R. Tolkien\"\n",
    "book_shees_3 = 1000\n",
    "book_color_3 = False"
   ]
  },
  {
   "cell_type": "code",
   "execution_count": 2,
   "metadata": {},
   "outputs": [],
   "source": [
    "# Фрагмент кода выше не может быть использован в качестве хранилища книг по причине отсутствия:\n",
    "# 1) Поиска\n",
    "# 2) Удобного инструмента редактирования\n",
    "# 3) Связности свойств с материальным объектом"
   ]
  },
  {
   "cell_type": "code",
   "execution_count": 3,
   "metadata": {},
   "outputs": [
    {
     "name": "stdout",
     "output_type": "stream",
     "text": [
      "[('Harry Potter: P1', 'J.Rawling', 500, True), ('Harry Potter: P2', 'J.Rawling', 600, True), ('LOTR:1', 'J.R. Tolkien', 1000, False)]\n"
     ]
    }
   ],
   "source": [
    "book_1 = (\"Harry Potter: P1\", \"J.Rawling\", 500, True)\n",
    "\n",
    "book_2 = (\"Harry Potter: P2\", \"J.Rawling\", 600, True)\n",
    "\n",
    "book_3 = (\"LOTR:1\", \"J.R. Tolkien\", 1000, False)\n",
    "\n",
    "books = [book_1, book_2, book_3]\n",
    "print(books)"
   ]
  },
  {
   "cell_type": "code",
   "execution_count": 4,
   "metadata": {},
   "outputs": [],
   "source": [
    "# В данном фрагменте мы также не решили задачу о хранении книг. Т.к. в данной реализации продолжаем хранить набор условностей, пусть\n",
    "# и в более удобной для поиска/модификации форме."
   ]
  },
  {
   "cell_type": "markdown",
   "metadata": {},
   "source": [
    "### Структура данных\n",
    "Под структурой данных - будем понимать описательный набор свойств некоего \"материального\" объекта.\n",
    "Для того, чтобы описать любой объект необходимо перечислить его свойства."
   ]
  },
  {
   "cell_type": "code",
   "execution_count": 14,
   "metadata": {},
   "outputs": [
    {
     "name": "stdout",
     "output_type": "stream",
     "text": [
      "Title:Harry Potter: P1, Author:J.Rawling, Sheets:500, IsColored?:True\n",
      "Title:LOTR:1, Author:J.R. Tolkien, Sheets:1000, IsColored?:False\n",
      "Title:BULK BOOK, Author:, Sheets:0, IsColored?:False\n",
      "<__main__.Book object at 0x0000015C4CAE5F70>\n"
     ]
    }
   ],
   "source": [
    "class Book: # Условно \"инструкция\" / \"набор свойств\" / \"то, что содержит в себе любая книга\"\n",
    "    title = \"\"\n",
    "    author = \"\"\n",
    "    sheets = 0\n",
    "    is_colored = False\n",
    "\n",
    "    \n",
    "def init_book(my_title:str=\"\", my_author:str=\"\", my_sheets:int=0, my_is_colored:bool=False) -> Book:\n",
    "    \"\"\"\n",
    "    Создает экземпляр структуры Book\n",
    "    \"\"\"\n",
    "    book = Book() # Создается экземпляр структуры Book\n",
    "    book.title = my_title #\"Harry Potter: P1\" # Переопределение стандартных свойств (название, автора, кол-ва страниц и тд)\n",
    "    book.author = my_author#\"J. Rawling\"\n",
    "    book.sheets = my_sheets #500\n",
    "    book.is_colored = my_is_colored #True\n",
    "    return book\n",
    "\n",
    "# Это - обработчик структуры Book\n",
    "def print_book(b:Book) -> None:\n",
    "    print(f\"Title:{b.title}, Author:{b.author}, Sheets:{b.sheets}, IsColored?:{b.is_colored}\")\n",
    "    \n",
    "\n",
    "book_1 = init_book(\"Harry Potter: P1\", \"J.Rawling\", 500, True)\n",
    "book_2 = init_book(\"LOTR:1\", \"J.R. Tolkien\", 1000, False)\n",
    "book_3 = init_book(my_title=\"BULK BOOK\")\n",
    "\n",
    "books = [book_1, book_2, book_3]\n",
    "for b in books:\n",
    "    print_book(b)"
   ]
  },
  {
   "cell_type": "markdown",
   "metadata": {},
   "source": [
    "## Термины\n",
    "* Структура - перечень свойств какого-либо предмета/являения\n",
    "* Экземпляр - элемент, являющийся порождением структруы данных (конкретная реализация, конкретная книга)\n",
    "* Атрибут == свойство\n",
    "* Обработчик - некая ФУНКЦИЯ, умеющая работать с экземплярами структуры"
   ]
  },
  {
   "cell_type": "code",
   "execution_count": 15,
   "metadata": {},
   "outputs": [
    {
     "name": "stdout",
     "output_type": "stream",
     "text": [
      "10 20 30 40\n"
     ]
    }
   ],
   "source": [
    "# Набросок решения задачи A\n",
    "class Point:\n",
    "    x = 0\n",
    "    y = 0\n",
    "    \n",
    "def init_point(my_x:int = 0, my_y:int = 0) -> Point:\n",
    "    \"\"\"\n",
    "    Создает экземпляры структуры Point\n",
    "    \"\"\"\n",
    "    p = Point()\n",
    "    p.x, p.y = my_x, my_y\n",
    "    return p\n",
    "\n",
    "\n",
    "def is_on_segment(lhs_point:Point, rhs_point:Point, point_between:Point) -> str:\n",
    "    \"\"\"\n",
    "    lhs_point - левая точка отрезка\n",
    "    rhs_point - правая точка отрезка\n",
    "    point_between - точка, предположительно лежащая внутри отрезка [lhs_point, rhs_point]\n",
    "    \n",
    "    result - 1) \"YES\" - если точка принадлежит отрезку\n",
    "             2) \"NO\" - в противном случае\n",
    "    \"\"\"\n",
    "    ...\n",
    "\n",
    "def main() -> None:\n",
    "    \"\"\"\n",
    "    Входная точка в программу\n",
    "    \"\"\"\n",
    "    values = input().strip().split() # [\"1\", \"2\", \"3\", \"4\"]\n",
    "    p1_x, p1_y, p2_x, p2_y = values\n",
    "    p1, p2 = init_point(my_x=int(p1_x), my_y = int(p1_y)),  init_point(my_x=int(p2_x), my_y = int(p2_y))\n",
    "    \n",
    "    values_for_p3 = input().strip().split() # [\"1\", \"2\"]\n",
    "    p3_x, p3_y = values_for_p3\n",
    "    p3 = init_point(my_x=int(p3_x), my_y=int(p3_y))\n",
    "\n",
    "    result = is_on_segment(p1, p2, p3)\n",
    "    print(result)\n",
    "    \n",
    "if __name__ == \"__main__\":\n",
    "    main()\n"
   ]
  },
  {
   "cell_type": "markdown",
   "metadata": {},
   "source": [
    "## Композиция структур"
   ]
  },
  {
   "cell_type": "code",
   "execution_count": 16,
   "metadata": {},
   "outputs": [],
   "source": [
    "# Вычислить длину отрезка, построенного на двух точках\n"
   ]
  },
  {
   "cell_type": "code",
   "execution_count": 17,
   "metadata": {},
   "outputs": [
    {
     "name": "stdout",
     "output_type": "stream",
     "text": [
      "14.142135623730951\n"
     ]
    }
   ],
   "source": [
    "class Point:\n",
    "    x = 0\n",
    "    y = 0\n",
    "    \n",
    "def init_point(my_x:int = 0, my_y:int = 0) -> Point:\n",
    "    \"\"\"\n",
    "    Создает экземпляры структуры Point\n",
    "    \"\"\"\n",
    "    p = Point()\n",
    "    p.x, p.y = my_x, my_y\n",
    "    return p\n",
    "\n",
    "class Line:\n",
    "    p1 = Point()\n",
    "    p2 = Point()\n",
    "    \n",
    "\n",
    "def init_line(first_point:Point, second_point:Point) -> Line:\n",
    "    \"\"\"\n",
    "    Создает экземпляры структуры Line\n",
    "    \"\"\"\n",
    "    l = Line()\n",
    "    l.p1 = first_point\n",
    "    l.p2 = second_point\n",
    "    return l\n",
    "\n",
    "def get_line_length(l:Line) -> float:\n",
    "    \"\"\"\n",
    "    Подсчет длины отрезка (конкретно для 2-мерного случая)\n",
    "    \"\"\"\n",
    "    length_squared =  (l.p1.x - l.p2.x) ** 2 + (l.p1.y - l.p2.y) ** 2\n",
    "    return length_squared ** (0.5)\n",
    "\n",
    "def main():\n",
    "    \"\"\"\n",
    "    Входная точка в программу\n",
    "    \"\"\"\n",
    "    line = init_line(first_point=init_point(0, 0), second_point=init_point(10, 10))\n",
    "    print(get_line_length(line))\n",
    "    \n",
    "main()"
   ]
  },
  {
   "cell_type": "markdown",
   "metadata": {},
   "source": [
    "## Класс как класс)"
   ]
  },
  {
   "cell_type": "code",
   "execution_count": null,
   "metadata": {},
   "outputs": [],
   "source": [
    "\n"
   ]
  }
 ],
 "metadata": {
  "kernelspec": {
   "display_name": "Python 3",
   "language": "python",
   "name": "python3"
  },
  "language_info": {
   "codemirror_mode": {
    "name": "ipython",
    "version": 3
   },
   "file_extension": ".py",
   "mimetype": "text/x-python",
   "name": "python",
   "nbconvert_exporter": "python",
   "pygments_lexer": "ipython3",
   "version": "3.9.1"
  }
 },
 "nbformat": 4,
 "nbformat_minor": 4
}
