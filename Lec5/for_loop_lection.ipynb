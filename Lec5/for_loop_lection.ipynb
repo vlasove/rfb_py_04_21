{
 "cells": [
  {
   "cell_type": "markdown",
   "metadata": {},
   "source": [
    "## Лекция 5. Продолжение. Цикл for\n",
    "\n",
    "### 1.. Синтаксис for\n",
    "```\n",
    "for expression:\n",
    "    body\n",
    "```\n",
    "\n",
    "* Пример:\n",
    "```\n",
    "for i in range(0, 10, 1):\n",
    "    print(\"Current i:\", i)\n",
    "\n",
    "```\n",
    "\n",
    "* Генератор `range(start, stop, step)` - принимает только `int` (даже приводимые к `int` вещественные значения не являются корретными для `range()`)\n"
   ]
  },
  {
   "cell_type": "code",
   "execution_count": 23,
   "metadata": {},
   "outputs": [
    {
     "name": "stdout",
     "output_type": "stream",
     "text": [
      "While value: 1\n",
      "While value: 2\n",
      "While value: 3\n",
      "While value: 4\n",
      "While value: 5\n",
      "While value: 6\n",
      "While value: 7\n",
      "While value: 8\n",
      "While value: 9\n"
     ]
    }
   ],
   "source": [
    "# Синтаксис цикла for\n",
    "# for expression:\n",
    "#     body\n",
    "\n",
    "# Простейший цикл for\n",
    "\n",
    "i = 1\n",
    "while i < 10:\n",
    "    print(\"While value:\", i)\n",
    "    i += 1\n",
    "\n",
    "for j in range(1, 10, 1): #[start, stop), step]\n",
    "    print(\"For Value:\", j)"
   ]
  },
  {
   "cell_type": "markdown",
   "metadata": {},
   "source": [
    "### Синтаксис range(start, stop, step)\n",
    "* Параметр `start (int)` - начальное значение переменной цикла\n",
    "* Параметр `stop (int)` - значение, ограничиввающее переменную цикла в виде `value < stop` (строго меньше)\n",
    "* Парметр `step (int)` - инкремент (на сколько увеличивать значение переменной цикла на каждой итерации)"
   ]
  },
  {
   "cell_type": "code",
   "execution_count": 24,
   "metadata": {},
   "outputs": [
    {
     "name": "stdout",
     "output_type": "stream",
     "text": [
      "10\n",
      "9\n",
      "8\n",
      "7\n",
      "6\n",
      "5\n",
      "4\n",
      "3\n",
      "2\n",
      "1\n"
     ]
    }
   ],
   "source": [
    "# Пример итерирования в обратном направлении\n",
    "for i in range(10, 0, -1): # При итерировании в обратном направлении всегда START > STOP\n",
    "    print(i)"
   ]
  },
  {
   "cell_type": "markdown",
   "metadata": {},
   "source": [
    "### Дефолтные значения параметров range(...)\n",
    "* `step` может быть опущен - по умолчанию он равен 1 (пример `range(1,10)`)\n",
    "* `start` может быть опущен - по умолчанию равен 0 (пример `range(10)`)"
   ]
  },
  {
   "cell_type": "code",
   "execution_count": 25,
   "metadata": {},
   "outputs": [
    {
     "name": "stdout",
     "output_type": "stream",
     "text": [
      "Another Value: 1\n",
      "Another Value: 2\n",
      "Another Value: 3\n",
      "Another Value: 4\n",
      "Another Value: 5\n",
      "Another Value: 6\n",
      "Another Value: 7\n",
      "Another Value: 8\n",
      "Another Value: 9\n"
     ]
    }
   ],
   "source": [
    "for i in range(1, 10): # range(start, stop[, step=1)\n",
    "    print(\"Another Value:\", i)"
   ]
  },
  {
   "cell_type": "code",
   "execution_count": 26,
   "metadata": {},
   "outputs": [
    {
     "name": "stdout",
     "output_type": "stream",
     "text": [
      "Value: 0\n",
      "Value: 1\n",
      "Value: 2\n",
      "Value: 3\n",
      "Value: 4\n",
      "Value: 5\n",
      "Value: 6\n",
      "Value: 7\n",
      "Value: 8\n",
      "Value: 9\n"
     ]
    }
   ],
   "source": [
    "for i in range(10): # start = 0, step = 1\n",
    "    print(\"Value:\", i)"
   ]
  },
  {
   "cell_type": "markdown",
   "metadata": {},
   "source": [
    "## Простая задача\n",
    "Перебрать числа от 1 до 100 (включительно обе границы) и ответить на вопрос - сколько среди этих чисел - чётных?\n"
   ]
  },
  {
   "cell_type": "code",
   "execution_count": 28,
   "metadata": {},
   "outputs": [
    {
     "name": "stdout",
     "output_type": "stream",
     "text": [
      "Общее число четных чисел в промежутке [1,100] :  50\n"
     ]
    }
   ],
   "source": [
    "count = 0\n",
    "\n",
    "for i in range(1,101):\n",
    "    if i % 2 == 0:\n",
    "        count += 1\n",
    "        \n",
    "print(\"Общее число четных чисел в промежутке [1,100] : \", count)"
   ]
  },
  {
   "cell_type": "markdown",
   "metadata": {},
   "source": [
    "## Использование break и continue\n",
    "Аналогично как и в `while`\n"
   ]
  },
  {
   "cell_type": "code",
   "execution_count": 30,
   "metadata": {},
   "outputs": [
    {
     "name": "stdout",
     "output_type": "stream",
     "text": [
      "Current value: 1\n",
      "Current value: 2\n",
      "Current value: 3\n",
      "Current value: 4\n",
      "Current value: 5\n",
      "DONE!\n"
     ]
    }
   ],
   "source": [
    "for k in range(1, 10):\n",
    "    if k > 5:\n",
    "        print(\"DONE!\")\n",
    "        break\n",
    "    print(\"Current value:\", k)"
   ]
  },
  {
   "cell_type": "code",
   "execution_count": 32,
   "metadata": {},
   "outputs": [
    {
     "name": "stdout",
     "output_type": "stream",
     "text": [
      "SKIPPING\n",
      "Операция была выполнена за 1 минут\n",
      "SKIPPING\n",
      "Операция была выполнена за 3 минут\n",
      "SKIPPING\n",
      "Операция была выполнена за 5 минут\n",
      "SKIPPING\n",
      "Операция была выполнена за 7 минут\n",
      "SKIPPING\n",
      "Операция была выполнена за 9 минут\n"
     ]
    }
   ],
   "source": [
    "for m in range(10):\n",
    "    if m % 2 == 0:\n",
    "        print(\"SKIPPING\")\n",
    "        continue\n",
    "    print(\"Операция была выполнена за\", m, \"минут\")"
   ]
  },
  {
   "cell_type": "markdown",
   "metadata": {},
   "source": [
    "### Пример вложенных циклов\n"
   ]
  },
  {
   "cell_type": "code",
   "execution_count": 33,
   "metadata": {},
   "outputs": [
    {
     "name": "stdout",
     "output_type": "stream",
     "text": [
      "1 100\n",
      "1 101\n",
      "1 102\n",
      "1 103\n",
      "1 104\n",
      "2 100\n",
      "2 101\n",
      "2 102\n",
      "2 103\n",
      "2 104\n",
      "3 100\n",
      "3 101\n",
      "3 102\n",
      "3 103\n",
      "3 104\n",
      "4 100\n",
      "4 101\n",
      "4 102\n",
      "4 103\n",
      "4 104\n"
     ]
    }
   ],
   "source": [
    "for i in range(1,5):\n",
    "    for j in range(100, 105):\n",
    "        print(i, j)"
   ]
  },
  {
   "cell_type": "code",
   "execution_count": 34,
   "metadata": {},
   "outputs": [
    {
     "name": "stdout",
     "output_type": "stream",
     "text": [
      "1\n",
      "2\n",
      "3\n",
      "4\n",
      "5\n",
      "6\n",
      "7\n",
      "8\n",
      "9\n"
     ]
    }
   ],
   "source": [
    "a = 10\n",
    "for i in range(1, a):\n",
    "    print(i)\n",
    "    a += 1"
   ]
  },
  {
   "cell_type": "code",
   "execution_count": null,
   "metadata": {},
   "outputs": [],
   "source": []
  }
 ],
 "metadata": {
  "kernelspec": {
   "display_name": "Python 3",
   "language": "python",
   "name": "python3"
  },
  "language_info": {
   "codemirror_mode": {
    "name": "ipython",
    "version": 3
   },
   "file_extension": ".py",
   "mimetype": "text/x-python",
   "name": "python",
   "nbconvert_exporter": "python",
   "pygments_lexer": "ipython3",
   "version": "3.9.1"
  }
 },
 "nbformat": 4,
 "nbformat_minor": 4
}
