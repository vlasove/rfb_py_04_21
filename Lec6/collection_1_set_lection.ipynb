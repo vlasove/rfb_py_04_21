{
 "cells": [
  {
   "cell_type": "markdown",
   "metadata": {},
   "source": [
    "## Лекция 6. Коллекции. Множества.\n",
    "\n",
    "В `Python 3` есть 5 стандартных коллекций:\n",
    "* `set()` - множество\n",
    "* `str()` - строка (как коллекция)\n",
    "* `list()` - список\n",
    "* `tuple()` - кортеж\n",
    "* `dict()` - словарь"
   ]
  },
  {
   "cell_type": "markdown",
   "metadata": {},
   "source": [
    "### 1. Множество. Определение и инициализация\n",
    "* Множество - неупорядоченная (неиндексируемая) коллекция, способная хранить элементы любого типа, при этом уникализируя их.\n",
    "\n",
    "* Инициализация пустого множества:\n",
    "```python3\n",
    "# Множества. Инициализация\n",
    "numeric_set = set()\n",
    "print(\"Set:\", numeric_set)\n",
    "print(\"Type:\", type(numeric_set))\n",
    "print(\"Length:\", len(numeric_set))\n",
    "```\n",
    "\n",
    "\n",
    "* Иницализация с элементами:\n",
    " ```python3   \n",
    "#Множества. Инициализация\n",
    "numeric_set = set([10,10, 10, 20, 20, 20, 30, 40, \"Vasya\", None, 22.5])\n",
    "numeric_set = {10,10, 10, 20, 20, 20, 30, 40, \"Vasya\", None, 22.5}\n",
    "```"
   ]
  },
  {
   "cell_type": "code",
   "execution_count": 2,
   "metadata": {},
   "outputs": [
    {
     "name": "stdout",
     "output_type": "stream",
     "text": [
      "Set: set()\n",
      "Type: <class 'set'>\n",
      "Length: 0\n"
     ]
    }
   ],
   "source": [
    "# Пустое множество\n",
    "numeric_set = set()\n",
    "\n",
    "print(\"Set:\", numeric_set)\n",
    "print(\"Type:\", type(numeric_set))\n",
    "print(\"Length:\", len(numeric_set))"
   ]
  },
  {
   "cell_type": "code",
   "execution_count": 14,
   "metadata": {},
   "outputs": [
    {
     "name": "stdout",
     "output_type": "stream",
     "text": [
      "Set: {True, 40, 'Vasya', 10, None, 20, 22.5, 30}\n",
      "Type: <class 'set'>\n",
      "Length: 8\n"
     ]
    }
   ],
   "source": [
    "#Множества. Инициализация\n",
    "numeric_set = set([10,10, 10, 20, 20, 20, 30, 40, \"Vasya\", None, 22.5, True]) # Этап инициализации\n",
    "#numeric_set = {10,10, 10, 20, 20, 20, 30, 40, \"Vasya\", None, 22.5, True}\n",
    "print(\"Set:\", numeric_set)\n",
    "print(\"Type:\", type(numeric_set))\n",
    "print(\"Length:\", len(numeric_set))"
   ]
  },
  {
   "cell_type": "markdown",
   "metadata": {},
   "source": [
    "* 1) Элементы встречаются по одному разу (дубликаты отбрасываются множеством)\n",
    "* 2) Множество неупорядочено из-за отсуствия индексации и возможности хранить элементы разного типа\n"
   ]
  },
  {
   "cell_type": "markdown",
   "metadata": {},
   "source": [
    "* Наполнение множества элементами:\n",
    "\n",
    "\n",
    "```python3\n",
    "# Множество. Добавление элементов .add()\n",
    "numeric_set = set()\n",
    "numeric_set.add(10)\n",
    "numeric_set.add(100500)\n",
    "numeric_set.add(10)\n",
    "numeric_set.add(-50)\n",
    "numeric_set.add(-50)\n",
    "numeric_set.add(\"Bob\")\n",
    "numeric_set.add(True)\n",
    "print(\"Set:\", numeric_set)\n",
    "print(\"Len:\", len(numeric_set))\n",
    "```"
   ]
  },
  {
   "cell_type": "code",
   "execution_count": 18,
   "metadata": {},
   "outputs": [
    {
     "name": "stdout",
     "output_type": "stream",
     "text": [
      "Set: {True, 10, 'Bob', -50, 100500}\n",
      "Len: 5\n"
     ]
    }
   ],
   "source": [
    "# Множество. Добавление элементов .add()\n",
    "numeric_set = set()\n",
    "\n",
    "numeric_set.add(10)\n",
    "numeric_set.add(100500)\n",
    "numeric_set.add(10)\n",
    "numeric_set.add(-50)\n",
    "numeric_set.add(-50)\n",
    "numeric_set.add(\"Bob\")\n",
    "numeric_set.add(True)\n",
    "\n",
    "print(\"Set:\", numeric_set)\n",
    "print(\"Len:\", len(numeric_set))"
   ]
  },
  {
   "cell_type": "code",
   "execution_count": 26,
   "metadata": {},
   "outputs": [
    {
     "name": "stdout",
     "output_type": "stream",
     "text": [
      "50 in numeric_set\n",
      "set is not empty\n",
      "Delete elem: 40\n"
     ]
    }
   ],
   "source": [
    "\n",
    "# Простейшие операции над множествами:\n",
    "\n",
    "# Операции над множествами (простейшие)\n",
    "\n",
    "numeric_set = set([10, 20, 30, 40, 50,60])\n",
    "# .add() - добавление элемента\n",
    "numeric_set.add(-200)\n",
    "\n",
    "# .pop() - удаление случайного элемента, если множество пустое - ошибка\n",
    "elem = numeric_set.pop() \n",
    "print(\"Deleted elem:\", elem)\n",
    "print(\"Set after .pop():\", numeric_set)\n",
    "\n",
    "#.remove(elem) - удаляет elem из множества, если elem нет во множестве - ошибка\n",
    "numeric_set.remove(50)\n",
    "print(\"Current set:\", numeric_set)\n",
    "\n",
    "# Проверка вхождения элемента во множество\n",
    "if 50 in numeric_set:\n",
    "    print(\"50 in numeric_set\")\n",
    "    numeric_set.remove(50)\n",
    "else:\n",
    "    print(\"50 not in numeric_set\")\n",
    "\n",
    "# Пустое/не пустое\n",
    "if len(numeric_set) == 0:\n",
    "    print(\"set is empty\")\n",
    "else:\n",
    "    print(\"set is not empty\")\n",
    "    elem = numeric_set.pop()\n",
    "    print(\"Delete elem:\", elem)\n"
   ]
  },
  {
   "cell_type": "code",
   "execution_count": null,
   "metadata": {},
   "outputs": [],
   "source": []
  }
 ],
 "metadata": {
  "kernelspec": {
   "display_name": "Python 3",
   "language": "python",
   "name": "python3"
  },
  "language_info": {
   "codemirror_mode": {
    "name": "ipython",
    "version": 3
   },
   "file_extension": ".py",
   "mimetype": "text/x-python",
   "name": "python",
   "nbconvert_exporter": "python",
   "pygments_lexer": "ipython3",
   "version": "3.9.1"
  }
 },
 "nbformat": 4,
 "nbformat_minor": 4
}
