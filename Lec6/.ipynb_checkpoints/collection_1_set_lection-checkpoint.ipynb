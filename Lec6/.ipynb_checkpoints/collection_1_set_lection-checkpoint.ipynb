{
 "cells": [
  {
   "cell_type": "markdown",
   "metadata": {},
   "source": [
    "## Лекция 6. Коллекции. Множества.\n",
    "\n",
    "В `Python 3` есть 5 стандартных коллекций:\n",
    "* `set()` - множество\n",
    "* `str()` - строка (как коллекция)\n",
    "* `list()` - список\n",
    "* `tuple()` - кортеж\n",
    "* `dict()` - словарь"
   ]
  },
  {
   "cell_type": "markdown",
   "metadata": {},
   "source": [
    "### 1. Множество. Определение и инициализация\n",
    "* Множество - неупорядоченная (неиндексируемая) коллекция, способная хранить элементы любого типа, при этом уникализируя их.\n",
    "\n",
    "* Инициализация пустого множества:\n",
    "```python3\n",
    "# Множества. Инициализация\n",
    "numeric_set = set()\n",
    "print(\"Set:\", numeric_set)\n",
    "print(\"Type:\", type(numeric_set))\n",
    "print(\"Length:\", len(numeric_set))\n",
    "```\n",
    "\n",
    "\n",
    "* Иницализация с элементами:\n",
    " ```python3   \n",
    "#Множества. Инициализация\n",
    "numeric_set = set([10,10, 10, 20, 20, 20, 30, 40, \"Vasya\", None, 22.5])\n",
    "numeric_set = {10,10, 10, 20, 20, 20, 30, 40, \"Vasya\", None, 22.5}\n",
    "```"
   ]
  },
  {
   "cell_type": "code",
   "execution_count": 2,
   "metadata": {},
   "outputs": [
    {
     "name": "stdout",
     "output_type": "stream",
     "text": [
      "Set: set()\n",
      "Type: <class 'set'>\n",
      "Length: 0\n"
     ]
    }
   ],
   "source": [
    "# Пустое множество\n",
    "numeric_set = set()\n",
    "\n",
    "print(\"Set:\", numeric_set)\n",
    "print(\"Type:\", type(numeric_set))\n",
    "print(\"Length:\", len(numeric_set))"
   ]
  },
  {
   "cell_type": "code",
   "execution_count": 14,
   "metadata": {},
   "outputs": [
    {
     "name": "stdout",
     "output_type": "stream",
     "text": [
      "Set: {True, 40, 'Vasya', 10, None, 20, 22.5, 30}\n",
      "Type: <class 'set'>\n",
      "Length: 8\n"
     ]
    }
   ],
   "source": [
    "#Множества. Инициализация\n",
    "numeric_set = set([10,10, 10, 20, 20, 20, 30, 40, \"Vasya\", None, 22.5, True]) # Этап инициализации\n",
    "#numeric_set = {10,10, 10, 20, 20, 20, 30, 40, \"Vasya\", None, 22.5, True}\n",
    "print(\"Set:\", numeric_set)\n",
    "print(\"Type:\", type(numeric_set))\n",
    "print(\"Length:\", len(numeric_set))"
   ]
  },
  {
   "cell_type": "markdown",
   "metadata": {},
   "source": [
    "* 1) Элементы встречаются по одному разу (дубликаты отбрасываются множеством)\n",
    "* 2) Множество неупорядочено из-за отсуствия индексации и возможности хранить элементы разного типа\n"
   ]
  },
  {
   "cell_type": "markdown",
   "metadata": {},
   "source": [
    "* Наполнение множества элементами:\n",
    "\n",
    "\n",
    "```python3\n",
    "# Множество. Добавление элементов .add()\n",
    "numeric_set = set()\n",
    "numeric_set.add(10)\n",
    "numeric_set.add(100500)\n",
    "numeric_set.add(10)\n",
    "numeric_set.add(-50)\n",
    "numeric_set.add(-50)\n",
    "numeric_set.add(\"Bob\")\n",
    "numeric_set.add(True)\n",
    "print(\"Set:\", numeric_set)\n",
    "print(\"Len:\", len(numeric_set))\n",
    "```"
   ]
  },
  {
   "cell_type": "code",
   "execution_count": 18,
   "metadata": {},
   "outputs": [
    {
     "name": "stdout",
     "output_type": "stream",
     "text": [
      "Set: {True, 10, 'Bob', -50, 100500}\n",
      "Len: 5\n"
     ]
    }
   ],
   "source": [
    "# Множество. Добавление элементов .add()\n",
    "numeric_set = set()\n",
    "\n",
    "numeric_set.add(10)\n",
    "numeric_set.add(100500)\n",
    "numeric_set.add(10)\n",
    "numeric_set.add(-50)\n",
    "numeric_set.add(-50)\n",
    "numeric_set.add(\"Bob\")\n",
    "numeric_set.add(True)\n",
    "\n",
    "print(\"Set:\", numeric_set)\n",
    "print(\"Len:\", len(numeric_set))"
   ]
  },
  {
   "cell_type": "code",
   "execution_count": 26,
   "metadata": {},
   "outputs": [
    {
     "name": "stdout",
     "output_type": "stream",
     "text": [
      "50 in numeric_set\n",
      "set is not empty\n",
      "Delete elem: 40\n"
     ]
    }
   ],
   "source": [
    "\n",
    "# Простейшие операции над множествами:\n",
    "\n",
    "# Операции над множествами (простейшие)\n",
    "\n",
    "numeric_set = set([10, 20, 30, 40, 50,60])\n",
    "# .add() - добавление элемента\n",
    "numeric_set.add(-200)\n",
    "\n",
    "# .pop() - удаление случайного элемента, если множество пустое - ошибка\n",
    "elem = numeric_set.pop() \n",
    "print(\"Deleted elem:\", elem)\n",
    "print(\"Set after .pop():\", numeric_set)\n",
    "\n",
    "#.remove(elem) - удаляет elem из множества, если elem нет во множестве - ошибка\n",
    "numeric_set.remove(50)\n",
    "print(\"Current set:\", numeric_set)\n",
    "\n",
    "# Проверка вхождения элемента во множество\n",
    "if 50 in numeric_set:\n",
    "    print(\"50 in numeric_set\")\n",
    "    numeric_set.remove(50)\n",
    "else:\n",
    "    print(\"50 not in numeric_set\")\n",
    "\n",
    "# Пустое/не пустое\n",
    "if len(numeric_set) == 0:\n",
    "    print(\"set is empty\")\n",
    "else:\n",
    "    print(\"set is not empty\")\n",
    "    elem = numeric_set.pop()\n",
    "    print(\"Delete elem:\", elem)\n"
   ]
  },
  {
   "cell_type": "code",
   "execution_count": 32,
   "metadata": {},
   "outputs": [
    {
     "name": "stdout",
     "output_type": "stream",
     "text": [
      "4\n",
      "0\n",
      "a\n",
      "1\n",
      "b\n",
      "2\n",
      "c\n",
      "3\n",
      "d\n",
      "e\n",
      "ЗАСЧИТАНО\n"
     ]
    }
   ],
   "source": [
    "# Решение задачи R\n",
    "n = int(input()) # Количество уже названных слов\n",
    "words = set()    # Множество для хранения уже названных слов\n",
    "\n",
    "for _ in range(n):\n",
    "    words.add(input())\n",
    "    \n",
    "current_word = input() # Текущее/новое слово\n",
    "if current_word in words:\n",
    "    print(\"НЕ ЗАСЧИТАНО\")\n",
    "else:\n",
    "    print(\"ЗАСЧИТАНО\")"
   ]
  },
  {
   "cell_type": "markdown",
   "metadata": {},
   "source": [
    "# Математические операции над множествами\n",
    "* Пересечение множеств\n",
    "* Объединение множеств\n",
    "* Разность множеств\n",
    "* Симметрическая разность множеств"
   ]
  },
  {
   "cell_type": "code",
   "execution_count": 37,
   "metadata": {},
   "outputs": [
    {
     "name": "stdout",
     "output_type": "stream",
     "text": [
      "Intersection result: {3, 4}\n",
      "Union: {1, 2, 3, 4, 5, 6}\n",
      "A - B: {1, 2}\n",
      "B - A: {5, 6}\n",
      "A ^ B: {1, 2, 5, 6}\n"
     ]
    }
   ],
   "source": [
    "# Математические операции\n",
    "a_set = set([1,2,3,4])\n",
    "b_set = set([3,4,5,6])\n",
    "\n",
    "\n",
    "# Пересечение - общие элементы двух множеств\n",
    "c_set = b_set.intersection(a_set)\n",
    "print(\"Intersection result:\", c_set)\n",
    "\n",
    "# Объединение - объединить элементы множеств в одно множество\n",
    "d_set = a_set.union(b_set)\n",
    "print(\"Union:\", d_set)\n",
    "\n",
    "# Вычитание (разность множеств) - элементы множества А, которыъ нет в множестве B\n",
    "e_set = a_set.difference(b_set)\n",
    "print(\"A - B:\", e_set)\n",
    "print(\"B - A:\", b_set.difference(a_set))\n",
    "\n",
    "# Симметрическая разность - объединение без пересечения\n",
    "f_set = a_set.symmetric_difference(b_set)\n",
    "print(\"A ^ B:\", f_set)"
   ]
  },
  {
   "cell_type": "code",
   "execution_count": 39,
   "metadata": {},
   "outputs": [
    {
     "ename": "SyntaxError",
     "evalue": "invalid syntax (<ipython-input-39-a9ca73d0e588>, line 19)",
     "output_type": "error",
     "traceback": [
      "\u001b[1;36m  File \u001b[1;32m\"<ipython-input-39-a9ca73d0e588>\"\u001b[1;36m, line \u001b[1;32m19\u001b[0m\n\u001b[1;33m    result = .....\u001b[0m\n\u001b[1;37m                 ^\u001b[0m\n\u001b[1;31mSyntaxError\u001b[0m\u001b[1;31m:\u001b[0m invalid syntax\n"
     ]
    }
   ],
   "source": [
    "# Пример решения задачи A\n",
    "forward = set()\n",
    "backward = set()\n",
    "\n",
    "while True: # заполняю первое множество \"туда\"\n",
    "    command = input()\n",
    "    if command == \"\":\n",
    "        break\n",
    "    bus_num = int(command)\n",
    "    forward.add(bus_num)\n",
    "    \n",
    "while True: # заполняю первое множество \"обратно\"\n",
    "    command = input()\n",
    "    if command == \"\":\n",
    "        break\n",
    "    bus_num = int(command)\n",
    "    backward.add(bus_num)\n",
    "    \n",
    "result = .....\n",
    "print(result)"
   ]
  },
  {
   "cell_type": "code",
   "execution_count": 40,
   "metadata": {},
   "outputs": [
    {
     "name": "stdout",
     "output_type": "stream",
     "text": [
      "10\n",
      "20\n",
      "30\n",
      "40\n",
      "\n",
      "SIGNAL TO STOP\n",
      "Example: {'', '30', '20', '10', '40'}\n"
     ]
    }
   ],
   "source": [
    "example = set()\n",
    "\n",
    "while True:\n",
    "    message = input()\n",
    "    example.add(message)\n",
    "    if \"\" in example:\n",
    "        print(\"SIGNAL TO STOP\")\n",
    "        break\n",
    "        \n",
    "print(\"Example:\", example)"
   ]
  },
  {
   "cell_type": "markdown",
   "metadata": {},
   "source": [
    "## Подсказка по задаче C\n",
    "\n",
    "\n",
    "![sample](solution_C.png)"
   ]
  },
  {
   "cell_type": "markdown",
   "metadata": {},
   "source": [
    "# Подсказка по задаче E\n",
    "\n",
    "![sample](Solution_E.png)"
   ]
  },
  {
   "cell_type": "markdown",
   "metadata": {},
   "source": [
    "## Дополнительные орерации для обработки множеств\n",
    "* Множества - простейшие итераторы (по ним можно ходить циклом for и использовать в определении итерабельных функций)"
   ]
  },
  {
   "cell_type": "code",
   "execution_count": 49,
   "metadata": {},
   "outputs": [
    {
     "name": "stdout",
     "output_type": "stream",
     "text": [
      "Sum: 162.0\n",
      "Min: -10\n",
      "Max: 45\n",
      "Elem: 32.5\n",
      "Elem: -10000000\n",
      "Elem: 10\n",
      "Elem: 12\n",
      "Elem: 45\n",
      "Elem: 20\n",
      "Elem: 22.5\n",
      "Elem: -10\n",
      "Elem: 30\n"
     ]
    }
   ],
   "source": [
    "# Обработка множеств\n",
    "numeric_set = set([10, 20, 30, 22.5, 12, 45, 32.5, -10])\n",
    "total_sum = sum(numeric_set) # Если множество ТОЛЬКО из числовых типов (или приводимых к ним)\n",
    "print(\"Sum:\", total_sum)\n",
    "\n",
    "min_num = min(numeric_set) # Если множество состоит только ИЗ СРАВНИМЫХ МЕЖДУ СОБОЙ элементов\n",
    "print(\"Min:\", min_num)\n",
    "\n",
    "max_num = max(numeric_set)\n",
    "print(\"Max:\", max_num)\n",
    "\n",
    "# Перебор элементов множества при помощи for\n",
    "numeric_set.add(-10000000)\n",
    "for elem in numeric_set: # Цикл for each\n",
    "    print(\"Elem:\", elem)"
   ]
  },
  {
   "cell_type": "code",
   "execution_count": null,
   "metadata": {},
   "outputs": [],
   "source": []
  }
 ],
 "metadata": {
  "kernelspec": {
   "display_name": "Python 3",
   "language": "python",
   "name": "python3"
  },
  "language_info": {
   "codemirror_mode": {
    "name": "ipython",
    "version": 3
   },
   "file_extension": ".py",
   "mimetype": "text/x-python",
   "name": "python",
   "nbconvert_exporter": "python",
   "pygments_lexer": "ipython3",
   "version": "3.9.1"
  }
 },
 "nbformat": 4,
 "nbformat_minor": 4
}
