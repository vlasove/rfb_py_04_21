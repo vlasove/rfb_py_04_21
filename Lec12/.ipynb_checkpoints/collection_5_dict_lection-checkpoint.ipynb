{
 "cells": [
  {
   "cell_type": "markdown",
   "metadata": {},
   "source": [
    "## Лекция 12. Коллекции. Словари\n",
    "\n",
    "**Словарь** (dict) - неупорядоченный уникальный набор (множество) пар вида ключ:значение."
   ]
  },
  {
   "cell_type": "code",
   "execution_count": null,
   "metadata": {},
   "outputs": [],
   "source": [
    "# \n",
    "Необходимо создать справочник, который будет хранить информацию о самых важных событиях,\n",
    "которые произошли в определенном году. В году может произойти не более 1 важного события."
   ]
  },
  {
   "cell_type": "code",
   "execution_count": 5,
   "metadata": {},
   "outputs": [
    {
     "name": "stdout",
     "output_type": "stream",
     "text": [
      "events sizeof: 16232\n"
     ]
    }
   ],
   "source": [
    "events = [\"\"]*2024\n",
    "events[1996] = \"Java Release\"\n",
    "events[1997] = \"Python 1.0 Relase\"\n",
    "events[2001] = \"Kotlin Relase\"\n",
    "events[2008] = \"Go Release\"\n",
    "events[2012] = \"EGE Relase\"\n",
    "events[2023] = \"Python Course Started\"\n",
    "\n",
    "print(\"events sizeof:\", events.__sizeof__())"
   ]
  },
  {
   "cell_type": "code",
   "execution_count": 7,
   "metadata": {},
   "outputs": [
    {
     "name": "stdout",
     "output_type": "stream",
     "text": [
      "{1996: 'Java Release', 1997: 'Python 1.0 Relase', 2001: 'Kotlin Relase', 2008: 'Go Release', 2012: 'EGE Relase', 2023: 'Python Course Started'}\n",
      "events sizeof: 344\n"
     ]
    }
   ],
   "source": [
    "events = {}\n",
    "events[1996] = \"Java Release\"\n",
    "events[1997] = \"Python 1.0 Relase\"\n",
    "events[2001] = \"Kotlin Relase\"\n",
    "events[2008] = \"Go Release\"\n",
    "events[2012] = \"EGE Relase\"\n",
    "events[2023] = \"Python Course Started\"\n",
    "\n",
    "print(events)\n",
    "print(\"events sizeof:\", events.__sizeof__())"
   ]
  },
  {
   "cell_type": "code",
   "execution_count": 8,
   "metadata": {},
   "outputs": [
    {
     "name": "stdout",
     "output_type": "stream",
     "text": [
      "Len: 0\n",
      "Type: <class 'dict'>\n"
     ]
    }
   ],
   "source": [
    "### 1. Инициализация словаря\n",
    "\n",
    "# Инициализация словаря\n",
    "a_dict = dict()\n",
    "b_dict = {}\n",
    "\n",
    "print(\"Len:\", len(a_dict))\n",
    "print(\"Type:\", type(b_dict))"
   ]
  },
  {
   "cell_type": "code",
   "execution_count": 18,
   "metadata": {},
   "outputs": [
    {
     "name": "stdout",
     "output_type": "stream",
     "text": [
      "Len: 3\n",
      "Type: <class 'dict'>\n",
      "Value: {10: 'ten', 2: 'two', 5: 'five'}\n",
      "By key: 10, value: ten\n",
      "By key: 2, value: two\n",
      "By key: 5, value: five\n",
      "{10: 'ten', 2: 'TWO', 5: 'five', 8: 'eight'}\n"
     ]
    }
   ],
   "source": [
    "# Инициализация словаря с элементами\n",
    "transiton = {10: \"ten\", 2:\"two\", 5:\"five\"}\n",
    "print(\"Len:\", len(transiton))\n",
    "print(\"Type:\", type(transiton))\n",
    "print('Value:', transiton)\n",
    "\n",
    "# Обращение к элементам по ключам\n",
    "print(\"By key: 10, value:\", transiton[10])\n",
    "print(\"By key: 2, value:\", transiton[2])\n",
    "print(\"By key: 5, value:\", transiton[5])\n",
    "\n",
    "# Добавление новых пар\n",
    "# ПАРА СЧИТАЕТСЯ ДОБАВЛЕНОЙ - если - прописаны все элементы пары (т.е. И КЛЮЧ И ЗНАЧЕНИЕ)\n",
    "transiton[8] = \"eight\"\n",
    "\n",
    "# Изменения хранимого значения по ключу 2\n",
    "transiton[2] = \"TWO\"\n",
    "print(transiton)"
   ]
  },
  {
   "cell_type": "markdown",
   "metadata": {},
   "source": [
    "## Примеры использования не целочисленных ключей"
   ]
  },
  {
   "cell_type": "code",
   "execution_count": 20,
   "metadata": {},
   "outputs": [
    {
     "name": "stdout",
     "output_type": "stream",
     "text": [
      "один\n",
      "Len: 5\n",
      "{'one': 'один', 'two': 'два', 'three': 'три', 'four': 'четыре', 10: 'десять'}\n"
     ]
    }
   ],
   "source": [
    "words = {\"one\" : \"один\" , \"two\" : \"два\", \"three\" : \"три\"}\n",
    "print(words[\"one\"])\n",
    "\n",
    "words[\"four\"] = \"четыре\"\n",
    "words[10] = \"десять\" # Пример использования целочисленного ключа в словаре со строковыми ключами (лучше так не делать)\n",
    "\n",
    "print(\"Len:\", len(words))\n",
    "print(words)"
   ]
  },
  {
   "cell_type": "code",
   "execution_count": 24,
   "metadata": {},
   "outputs": [
    {
     "name": "stdout",
     "output_type": "stream",
     "text": [
      "{0.5: 'плохая точность', 0.8: 'достаточная точность', 0.99: 'высокая точность'}\n",
      "плохая точность\n"
     ]
    }
   ],
   "source": [
    "# Пример с вещественнозначными ключами\n",
    "precisions = {0.5 : \"плохая точность\" , 0.8 : \"достаточная точность\" , 0.99: \"высокая точность\"}\n",
    "print(precisions)\n",
    "print(precisions[0.5])\n",
    "\n"
   ]
  },
  {
   "cell_type": "code",
   "execution_count": 25,
   "metadata": {},
   "outputs": [
    {
     "name": "stdout",
     "output_type": "stream",
     "text": [
      "{True: 'да', False: 'нет'}\n",
      "да\n"
     ]
    }
   ],
   "source": [
    "a = {True: \"да\", False: \"нет\"}\n",
    "print(a)\n",
    "print(a[True])"
   ]
  },
  {
   "cell_type": "code",
   "execution_count": 26,
   "metadata": {},
   "outputs": [
    {
     "name": "stdout",
     "output_type": "stream",
     "text": [
      "{(0, 0): 'начало координат', (10, 10): 'верхняя граница сетки координат'}\n",
      "начало координат\n"
     ]
    }
   ],
   "source": [
    "sectors = {(0,0) : \"начало координат\", (10, 10) : \"верхняя граница сетки координат\"}\n",
    "print(sectors)\n",
    "print(sectors[(0,0)])"
   ]
  },
  {
   "cell_type": "markdown",
   "metadata": {},
   "source": [
    "# Требования к ключам (к значениям никаких требований нет)\n",
    "* Уникальность (в рамках словаря)\n",
    "* Неизменяемость"
   ]
  },
  {
   "cell_type": "code",
   "execution_count": null,
   "metadata": {},
   "outputs": [],
   "source": []
  }
 ],
 "metadata": {
  "kernelspec": {
   "display_name": "Python 3",
   "language": "python",
   "name": "python3"
  },
  "language_info": {
   "codemirror_mode": {
    "name": "ipython",
    "version": 3
   },
   "file_extension": ".py",
   "mimetype": "text/x-python",
   "name": "python",
   "nbconvert_exporter": "python",
   "pygments_lexer": "ipython3",
   "version": "3.9.1"
  }
 },
 "nbformat": 4,
 "nbformat_minor": 4
}
