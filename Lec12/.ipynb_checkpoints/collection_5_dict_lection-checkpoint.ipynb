{
 "cells": [
  {
   "cell_type": "markdown",
   "metadata": {},
   "source": [
    "## Лекция 12. Коллекции. Словари\n",
    "\n",
    "**Словарь** (dict) - неупорядоченный уникальный набор (множество) пар вида ключ:значение."
   ]
  },
  {
   "cell_type": "code",
   "execution_count": null,
   "metadata": {},
   "outputs": [],
   "source": [
    "# \n",
    "Необходимо создать справочник, который будет хранить информацию о самых важных событиях,\n",
    "которые произошли в определенном году. В году может произойти не более 1 важного события."
   ]
  },
  {
   "cell_type": "code",
   "execution_count": 5,
   "metadata": {},
   "outputs": [
    {
     "name": "stdout",
     "output_type": "stream",
     "text": [
      "events sizeof: 16232\n"
     ]
    }
   ],
   "source": [
    "events = [\"\"]*2024\n",
    "events[1996] = \"Java Release\"\n",
    "events[1997] = \"Python 1.0 Relase\"\n",
    "events[2001] = \"Kotlin Relase\"\n",
    "events[2008] = \"Go Release\"\n",
    "events[2012] = \"EGE Relase\"\n",
    "events[2023] = \"Python Course Started\"\n",
    "\n",
    "print(\"events sizeof:\", events.__sizeof__())"
   ]
  },
  {
   "cell_type": "code",
   "execution_count": 7,
   "metadata": {},
   "outputs": [
    {
     "name": "stdout",
     "output_type": "stream",
     "text": [
      "{1996: 'Java Release', 1997: 'Python 1.0 Relase', 2001: 'Kotlin Relase', 2008: 'Go Release', 2012: 'EGE Relase', 2023: 'Python Course Started'}\n",
      "events sizeof: 344\n"
     ]
    }
   ],
   "source": [
    "events = {}\n",
    "events[1996] = \"Java Release\"\n",
    "events[1997] = \"Python 1.0 Relase\"\n",
    "events[2001] = \"Kotlin Relase\"\n",
    "events[2008] = \"Go Release\"\n",
    "events[2012] = \"EGE Relase\"\n",
    "events[2023] = \"Python Course Started\"\n",
    "\n",
    "print(events)\n",
    "print(\"events sizeof:\", events.__sizeof__())"
   ]
  },
  {
   "cell_type": "code",
   "execution_count": 8,
   "metadata": {},
   "outputs": [
    {
     "name": "stdout",
     "output_type": "stream",
     "text": [
      "Len: 0\n",
      "Type: <class 'dict'>\n"
     ]
    }
   ],
   "source": [
    "### 1. Инициализация словаря\n",
    "\n",
    "# Инициализация словаря\n",
    "a_dict = dict()\n",
    "b_dict = {}\n",
    "\n",
    "print(\"Len:\", len(a_dict))\n",
    "print(\"Type:\", type(b_dict))"
   ]
  },
  {
   "cell_type": "code",
   "execution_count": 18,
   "metadata": {},
   "outputs": [
    {
     "name": "stdout",
     "output_type": "stream",
     "text": [
      "Len: 3\n",
      "Type: <class 'dict'>\n",
      "Value: {10: 'ten', 2: 'two', 5: 'five'}\n",
      "By key: 10, value: ten\n",
      "By key: 2, value: two\n",
      "By key: 5, value: five\n",
      "{10: 'ten', 2: 'TWO', 5: 'five', 8: 'eight'}\n"
     ]
    }
   ],
   "source": [
    "# Инициализация словаря с элементами\n",
    "transiton = {10: \"ten\", 2:\"two\", 5:\"five\"}\n",
    "print(\"Len:\", len(transiton))\n",
    "print(\"Type:\", type(transiton))\n",
    "print('Value:', transiton)\n",
    "\n",
    "# Обращение к элементам по ключам\n",
    "print(\"By key: 10, value:\", transiton[10])\n",
    "print(\"By key: 2, value:\", transiton[2])\n",
    "print(\"By key: 5, value:\", transiton[5])\n",
    "\n",
    "# Добавление новых пар\n",
    "# ПАРА СЧИТАЕТСЯ ДОБАВЛЕНОЙ - если - прописаны все элементы пары (т.е. И КЛЮЧ И ЗНАЧЕНИЕ)\n",
    "transiton[8] = \"eight\"\n",
    "\n",
    "# Изменения хранимого значения по ключу 2\n",
    "transiton[2] = \"TWO\"\n",
    "print(transiton)"
   ]
  },
  {
   "cell_type": "markdown",
   "metadata": {},
   "source": [
    "## Примеры использования не целочисленных ключей"
   ]
  },
  {
   "cell_type": "code",
   "execution_count": 20,
   "metadata": {},
   "outputs": [
    {
     "name": "stdout",
     "output_type": "stream",
     "text": [
      "один\n",
      "Len: 5\n",
      "{'one': 'один', 'two': 'два', 'three': 'три', 'four': 'четыре', 10: 'десять'}\n"
     ]
    }
   ],
   "source": [
    "words = {\"one\" : \"один\" , \"two\" : \"два\", \"three\" : \"три\"}\n",
    "print(words[\"one\"])\n",
    "\n",
    "words[\"four\"] = \"четыре\"\n",
    "words[10] = \"десять\" # Пример использования целочисленного ключа в словаре со строковыми ключами (лучше так не делать)\n",
    "\n",
    "print(\"Len:\", len(words))\n",
    "print(words)"
   ]
  },
  {
   "cell_type": "code",
   "execution_count": 24,
   "metadata": {},
   "outputs": [
    {
     "name": "stdout",
     "output_type": "stream",
     "text": [
      "{0.5: 'плохая точность', 0.8: 'достаточная точность', 0.99: 'высокая точность'}\n",
      "плохая точность\n"
     ]
    }
   ],
   "source": [
    "# Пример с вещественнозначными ключами\n",
    "precisions = {0.5 : \"плохая точность\" , 0.8 : \"достаточная точность\" , 0.99: \"высокая точность\"}\n",
    "print(precisions)\n",
    "print(precisions[0.5])\n",
    "\n"
   ]
  },
  {
   "cell_type": "code",
   "execution_count": 25,
   "metadata": {},
   "outputs": [
    {
     "name": "stdout",
     "output_type": "stream",
     "text": [
      "{True: 'да', False: 'нет'}\n",
      "да\n"
     ]
    }
   ],
   "source": [
    "a = {True: \"да\", False: \"нет\"}\n",
    "print(a)\n",
    "print(a[True])"
   ]
  },
  {
   "cell_type": "code",
   "execution_count": 26,
   "metadata": {},
   "outputs": [
    {
     "name": "stdout",
     "output_type": "stream",
     "text": [
      "{(0, 0): 'начало координат', (10, 10): 'верхняя граница сетки координат'}\n",
      "начало координат\n"
     ]
    }
   ],
   "source": [
    "sectors = {(0,0) : \"начало координат\", (10, 10) : \"верхняя граница сетки координат\"}\n",
    "print(sectors)\n",
    "print(sectors[(0,0)])"
   ]
  },
  {
   "cell_type": "markdown",
   "metadata": {},
   "source": [
    "# Требования к ключам (к значениям никаких требований нет)\n",
    "* Уникальность (в рамках словаря)\n",
    "* Неизменяемость"
   ]
  },
  {
   "cell_type": "code",
   "execution_count": 1,
   "metadata": {},
   "outputs": [],
   "source": [
    "d = {\"two\" : \"два\", 2 : \"два\"}"
   ]
  },
  {
   "cell_type": "markdown",
   "metadata": {},
   "source": [
    "## Обработка словарей"
   ]
  },
  {
   "cell_type": "code",
   "execution_count": 11,
   "metadata": {},
   "outputs": [
    {
     "name": "stdout",
     "output_type": "stream",
     "text": [
      "Len: 4\n",
      "one in words\n",
      "dict_keys(['one', 'two', 'three', 'four'])\n",
      "один\n",
      "{'one': 'один', 'two': 'два', 'three': 'три', 'four': 'четыре'}\n"
     ]
    }
   ],
   "source": [
    "# Обработка словарей\n",
    "words = {\"one\" : \"один\" , \"two\" : \"два\", \"three\" : \"три\", \"four\" : \"четыре\"}\n",
    "\n",
    "# Количество пар (количество элементов) == количество ключей\n",
    "print(\"Len:\", len(words))\n",
    "\n",
    "# Проверка вхождения\n",
    "msg = \"cheese\" # \"one\"\n",
    "if msg in words.keys(): # Есть ли msg в ключах словаря?\n",
    "    print(f\"{msg} in words\")\n",
    "    print(words.keys())\n",
    "    print(words[msg])\n",
    "else:\n",
    "    words[msg] = \"EMPTY STRING\"\n",
    "    \n",
    "print(words)"
   ]
  },
  {
   "cell_type": "code",
   "execution_count": 13,
   "metadata": {},
   "outputs": [
    {
     "name": "stdout",
     "output_type": "stream",
     "text": [
      "один in words.values\n",
      "dict_values(['один', 'два', 'три', 'четыре'])\n"
     ]
    }
   ],
   "source": [
    "# Проверка вхождения значений\n",
    "val = \"один\"\n",
    "if val in words.values():\n",
    "    print(f\"{val} in words.values\")\n",
    "    print(words.values())\n"
   ]
  },
  {
   "cell_type": "code",
   "execution_count": 14,
   "metadata": {},
   "outputs": [
    {
     "name": "stdout",
     "output_type": "stream",
     "text": [
      "Key: one Value: один\n",
      "Key: two Value: два\n",
      "Key: three Value: три\n",
      "Key: four Value: четыре\n"
     ]
    }
   ],
   "source": [
    "# Итерирование по ключам\n",
    "for key in words.keys():\n",
    "    print(\"Key:\", key, \"Value:\", words[key])"
   ]
  },
  {
   "cell_type": "code",
   "execution_count": 15,
   "metadata": {},
   "outputs": [
    {
     "name": "stdout",
     "output_type": "stream",
     "text": [
      "Value: один\n",
      "Value: два\n",
      "Value: три\n",
      "Value: четыре\n"
     ]
    }
   ],
   "source": [
    "# Итерирование по значениям\n",
    "for val in words.values():\n",
    "    print(\"Value:\", val)"
   ]
  },
  {
   "cell_type": "code",
   "execution_count": 19,
   "metadata": {},
   "outputs": [
    {
     "name": "stdout",
     "output_type": "stream",
     "text": [
      "Key: one Value: один\n",
      "Key: two Value: два\n",
      "Key: three Value: три\n",
      "Key: four Value: четыре\n"
     ]
    }
   ],
   "source": [
    "# Итерирование по парам\n",
    "for key, val in words.items():\n",
    "    print(\"Key:\", key, \"Value:\", val)"
   ]
  },
  {
   "cell_type": "code",
   "execution_count": 16,
   "metadata": {},
   "outputs": [
    {
     "data": {
      "text/plain": [
       "dict_items([('one', 'один'), ('two', 'два'), ('three', 'три'), ('four', 'четыре')])"
      ]
     },
     "execution_count": 16,
     "metadata": {},
     "output_type": "execute_result"
    }
   ],
   "source": [
    "words.items()"
   ]
  },
  {
   "cell_type": "markdown",
   "metadata": {},
   "source": [
    "## Методы словарей"
   ]
  },
  {
   "cell_type": "code",
   "execution_count": 27,
   "metadata": {},
   "outputs": [
    {
     "name": "stdout",
     "output_type": "stream",
     "text": [
      ".get(): None\n"
     ]
    }
   ],
   "source": [
    "# Методы словарей\n",
    "words = {\"one\" : \"один\" , \"two\" : \"два\", \"three\" : \"три\", \"four\" : \"четыре\"}\n",
    "\n",
    "my_personal_key = \"five\"\n",
    "\n",
    "#Метод .get()\n",
    "value = words.get(my_personal_key, None)\n",
    "print(\".get():\", value)"
   ]
  },
  {
   "cell_type": "code",
   "execution_count": 28,
   "metadata": {},
   "outputs": [
    {
     "name": "stdout",
     "output_type": "stream",
     "text": [
      "0\n"
     ]
    }
   ],
   "source": [
    "# Метод .get() с значением по умолчанию\n",
    "birthdays = {\"jan\" : 0, \"feb\" : 5, \"mar\" : 3}\n",
    "month = \"dec\"\n",
    "print(birthdays.get(month, 0))"
   ]
  },
  {
   "cell_type": "code",
   "execution_count": 29,
   "metadata": {},
   "outputs": [
    {
     "name": "stdout",
     "output_type": "stream",
     "text": [
      "{'one': 'один', 'three': 'три', 'four': 'четыре'}\n"
     ]
    }
   ],
   "source": [
    "# Удаление пар из словаря\n",
    "words = {\"one\" : \"один\" , \"two\" : \"два\", \"three\" : \"три\", \"four\" : \"четыре\"}\n",
    "del words[\"two\"]\n",
    "print(words)"
   ]
  },
  {
   "cell_type": "code",
   "execution_count": 30,
   "metadata": {},
   "outputs": [
    {
     "name": "stdout",
     "output_type": "stream",
     "text": [
      "{'three': 'три', 'four': 'четыре'}\n",
      "Deleted one: один\n"
     ]
    }
   ],
   "source": [
    "val = words.pop(\"one\")\n",
    "print(words)\n",
    "print(\"Deleted one:\", val)"
   ]
  },
  {
   "cell_type": "markdown",
   "metadata": {},
   "source": [
    "## Смешивание словарей с другими коллекициями"
   ]
  },
  {
   "cell_type": "code",
   "execution_count": null,
   "metadata": {},
   "outputs": [],
   "source": [
    "На вход программе поступает n - информация про друзей\n",
    "Про каждого друга известно \"Имя Месяц\" (где имя - имя друга, месяц - это месяц когда он родился)\n",
    "Задача - сохранить друзей удобным для обработки образом"
   ]
  },
  {
   "cell_type": "code",
   "execution_count": 34,
   "metadata": {},
   "outputs": [
    {
     "name": "stdout",
     "output_type": "stream",
     "text": [
      "2\n",
      "Петя фев\n",
      "Миша фев\n",
      "{'янв': [], 'фев': ['Петя', 'Миша'], 'мар': [], 'апр': [], 'май': [], 'июн': [], 'июл': [], 'авг': [], 'сен': [], 'окт': [], 'ноя': [], 'дек': []}\n"
     ]
    }
   ],
   "source": [
    "# С прединициализированным словарем\n",
    "birthdays = {\n",
    "    \"янв\" : [],\n",
    "    \"фев\" : [],\n",
    "    \"мар\" : [],\n",
    "    \"апр\" : [],\n",
    "    \"май\" : [],\n",
    "    \"июн\" : [],\n",
    "    \"июл\" : [],\n",
    "    \"авг\" : [],\n",
    "    \"сен\" : [],\n",
    "    \"окт\" : [],\n",
    "    \"ноя\" : [],\n",
    "    \"дек\" : [],\n",
    "}\n",
    "\n",
    "n = int(input().strip())\n",
    "for _ in range(n):\n",
    "    friend_info = input().strip() # \"Петя фев\"\n",
    "    name, month = friend_info.split() # [\"Петя\" ,\"фев\"]\n",
    "    if month in birthdays.keys():\n",
    "        # Выполнить операцию добавления\n",
    "        birthdays[month].append(name)\n",
    "print(birthdays)"
   ]
  },
  {
   "cell_type": "code",
   "execution_count": 37,
   "metadata": {},
   "outputs": [
    {
     "name": "stdout",
     "output_type": "stream",
     "text": [
      "[]\n"
     ]
    }
   ],
   "source": [
    "print(birthdays[\"мар\"])"
   ]
  },
  {
   "cell_type": "code",
   "execution_count": null,
   "metadata": {},
   "outputs": [],
   "source": []
  }
 ],
 "metadata": {
  "kernelspec": {
   "display_name": "Python 3",
   "language": "python",
   "name": "python3"
  },
  "language_info": {
   "codemirror_mode": {
    "name": "ipython",
    "version": 3
   },
   "file_extension": ".py",
   "mimetype": "text/x-python",
   "name": "python",
   "nbconvert_exporter": "python",
   "pygments_lexer": "ipython3",
   "version": "3.9.1"
  }
 },
 "nbformat": 4,
 "nbformat_minor": 4
}
